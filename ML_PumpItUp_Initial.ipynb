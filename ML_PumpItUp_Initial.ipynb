{
  "nbformat": 4,
  "nbformat_minor": 0,
  "metadata": {
    "colab": {
      "name": "ML_PumpItUp_Initial.ipynb",
      "provenance": [],
      "collapsed_sections": [],
      "authorship_tag": "ABX9TyP4unN0HUkqXaI15SlidAQV",
      "include_colab_link": true
    },
    "kernelspec": {
      "display_name": "Python 3",
      "name": "python3"
    },
    "language_info": {
      "name": "python"
    }
  },
  "cells": [
    {
      "cell_type": "markdown",
      "metadata": {
        "id": "view-in-github",
        "colab_type": "text"
      },
      "source": [
        "<a href=\"https://colab.research.google.com/github/Sachini-Dissanayaka/DrivenData_PumpItUp/blob/master/ML_PumpItUp_Initial.ipynb\" target=\"_parent\"><img src=\"https://colab.research.google.com/assets/colab-badge.svg\" alt=\"Open In Colab\"/></a>"
      ]
    },
    {
      "cell_type": "markdown",
      "metadata": {
        "id": "bsBPYksE000v"
      },
      "source": [
        "#**Getting Started**"
      ]
    },
    {
      "cell_type": "code",
      "metadata": {
        "id": "p1oOf7B75C6C"
      },
      "source": [
        "from google.colab import drive\n",
        "drive.mount('/content/drive')"
      ],
      "execution_count": null,
      "outputs": []
    },
    {
      "cell_type": "code",
      "metadata": {
        "id": "zGEp_ofO5KB1"
      },
      "source": [
        "%cd /content/drive/MyDrive/PumpIt"
      ],
      "execution_count": null,
      "outputs": []
    },
    {
      "cell_type": "code",
      "metadata": {
        "id": "aZz3qarrMrhv"
      },
      "source": [
        "!pip install catboost\n",
        "!pip install category_encoders"
      ],
      "execution_count": null,
      "outputs": []
    },
    {
      "cell_type": "code",
      "metadata": {
        "id": "GkJ7D59GMyE9"
      },
      "source": [
        "import numpy as np\n",
        "import pandas as pd\n",
        "\n",
        "import matplotlib.pyplot as plt\n",
        "import seaborn as sns\n",
        "from sklearn import preprocessing\n",
        "import datetime as dt\n",
        "from numpy import mean\n",
        "from numpy import std\n",
        "\n",
        "from sklearn.model_selection import train_test_split\n",
        "from sklearn import metrics\n",
        "from sklearn.metrics import classification_report, confusion_matrix\n",
        "from sklearn.impute import KNNImputer\n",
        "\n",
        "# encoders\n",
        "from sklearn.preprocessing import LabelEncoder\n",
        "from sklearn.preprocessing import OrdinalEncoder\n",
        "from sklearn.preprocessing import OneHotEncoder\n",
        "import category_encoders as ce\n",
        "\n",
        "from sklearn.model_selection import train_test_split\n",
        "from sklearn import metrics\n",
        "from sklearn.metrics import accuracy_score, classification_report, confusion_matrix\n",
        "from sklearn.model_selection import RepeatedStratifiedKFold\n",
        "from sklearn.model_selection import cross_val_score\n",
        "\n",
        "# classifiers\n",
        "from sklearn.ensemble import RandomForestClassifier, ExtraTreesClassifier, StackingClassifier, VotingClassifier, GradientBoostingClassifier\n",
        "from xgboost.sklearn import XGBClassifier\n",
        "from sklearn.naive_bayes import GaussianNB\n",
        "from sklearn.neighbors import KNeighborsClassifier\n",
        "from sklearn.neural_network import MLPClassifier\n",
        "import lightgbm as lgb\n",
        "from sklearn.linear_model import SGDClassifier\n",
        "from sklearn.svm import SVC\n",
        "from sklearn.linear_model import LogisticRegression\n",
        "from catboost import CatBoostClassifier\n",
        "from sklearn.ensemble import GradientBoostingRegressor\n",
        "\n",
        "# hyperparameter tuning\n",
        "from sklearn.model_selection import RandomizedSearchCV, GridSearchCV\n",
        "\n",
        "from sklearn.decomposition import PCA\n",
        "from matplotlib.pyplot import figure"
      ],
      "execution_count": 138,
      "outputs": []
    },
    {
      "cell_type": "markdown",
      "metadata": {
        "id": "FI-DVKIe1Dyd"
      },
      "source": [
        "#**EDA**"
      ]
    },
    {
      "cell_type": "markdown",
      "metadata": {
        "id": "KwgxOudB2vgL"
      },
      "source": [
        "#**Data Collection**"
      ]
    },
    {
      "cell_type": "code",
      "metadata": {
        "id": "WnPyVCb4NYK1"
      },
      "source": [
        "features_df = pd.read_csv(\n",
        "    \"TrainingSetValues.csv\", \n",
        "    index_col=\"id\",\n",
        "    low_memory=False\n",
        ")\n",
        "labels_df = pd.read_csv(\n",
        "    \"TrainingSetLabels.csv\", \n",
        "    index_col=\"id\"\n",
        ")\n",
        "test_df = pd.read_csv(\n",
        "    \"TestSetValues.csv\", \n",
        "    index_col=\"id\",\n",
        "    low_memory=False\n",
        ")"
      ],
      "execution_count": null,
      "outputs": []
    },
    {
      "cell_type": "code",
      "metadata": {
        "id": "uEePm45y5XSl",
        "colab": {
          "base_uri": "https://localhost:8080/"
        },
        "outputId": "d6f6f100-fb76-412c-abd4-55b6948cb08e"
      },
      "source": [
        "features_df.head()"
      ],
      "execution_count": null,
      "outputs": [
        {
          "output_type": "execute_result",
          "data": {
            "text/html": [
              "<div>\n",
              "<style scoped>\n",
              "    .dataframe tbody tr th:only-of-type {\n",
              "        vertical-align: middle;\n",
              "    }\n",
              "\n",
              "    .dataframe tbody tr th {\n",
              "        vertical-align: top;\n",
              "    }\n",
              "\n",
              "    .dataframe thead th {\n",
              "        text-align: right;\n",
              "    }\n",
              "</style>\n",
              "<table border=\"1\" class=\"dataframe\">\n",
              "  <thead>\n",
              "    <tr style=\"text-align: right;\">\n",
              "      <th></th>\n",
              "      <th>amount_tsh</th>\n",
              "      <th>date_recorded</th>\n",
              "      <th>funder</th>\n",
              "      <th>gps_height</th>\n",
              "      <th>installer</th>\n",
              "      <th>longitude</th>\n",
              "      <th>latitude</th>\n",
              "      <th>wpt_name</th>\n",
              "      <th>num_private</th>\n",
              "      <th>basin</th>\n",
              "      <th>subvillage</th>\n",
              "      <th>region</th>\n",
              "      <th>region_code</th>\n",
              "      <th>district_code</th>\n",
              "      <th>lga</th>\n",
              "      <th>ward</th>\n",
              "      <th>population</th>\n",
              "      <th>public_meeting</th>\n",
              "      <th>recorded_by</th>\n",
              "      <th>scheme_management</th>\n",
              "      <th>scheme_name</th>\n",
              "      <th>permit</th>\n",
              "      <th>construction_year</th>\n",
              "      <th>extraction_type</th>\n",
              "      <th>extraction_type_group</th>\n",
              "      <th>extraction_type_class</th>\n",
              "      <th>management</th>\n",
              "      <th>management_group</th>\n",
              "      <th>payment</th>\n",
              "      <th>payment_type</th>\n",
              "      <th>water_quality</th>\n",
              "      <th>quality_group</th>\n",
              "      <th>quantity</th>\n",
              "      <th>quantity_group</th>\n",
              "      <th>source</th>\n",
              "      <th>source_type</th>\n",
              "      <th>source_class</th>\n",
              "      <th>waterpoint_type</th>\n",
              "      <th>waterpoint_type_group</th>\n",
              "    </tr>\n",
              "    <tr>\n",
              "      <th>id</th>\n",
              "      <th></th>\n",
              "      <th></th>\n",
              "      <th></th>\n",
              "      <th></th>\n",
              "      <th></th>\n",
              "      <th></th>\n",
              "      <th></th>\n",
              "      <th></th>\n",
              "      <th></th>\n",
              "      <th></th>\n",
              "      <th></th>\n",
              "      <th></th>\n",
              "      <th></th>\n",
              "      <th></th>\n",
              "      <th></th>\n",
              "      <th></th>\n",
              "      <th></th>\n",
              "      <th></th>\n",
              "      <th></th>\n",
              "      <th></th>\n",
              "      <th></th>\n",
              "      <th></th>\n",
              "      <th></th>\n",
              "      <th></th>\n",
              "      <th></th>\n",
              "      <th></th>\n",
              "      <th></th>\n",
              "      <th></th>\n",
              "      <th></th>\n",
              "      <th></th>\n",
              "      <th></th>\n",
              "      <th></th>\n",
              "      <th></th>\n",
              "      <th></th>\n",
              "      <th></th>\n",
              "      <th></th>\n",
              "      <th></th>\n",
              "      <th></th>\n",
              "      <th></th>\n",
              "    </tr>\n",
              "  </thead>\n",
              "  <tbody>\n",
              "    <tr>\n",
              "      <th>69572</th>\n",
              "      <td>6000.0</td>\n",
              "      <td>2011-03-14</td>\n",
              "      <td>Roman</td>\n",
              "      <td>1390</td>\n",
              "      <td>Roman</td>\n",
              "      <td>34.938093</td>\n",
              "      <td>-9.856322</td>\n",
              "      <td>none</td>\n",
              "      <td>0</td>\n",
              "      <td>Lake Nyasa</td>\n",
              "      <td>Mnyusi B</td>\n",
              "      <td>Iringa</td>\n",
              "      <td>11</td>\n",
              "      <td>5</td>\n",
              "      <td>Ludewa</td>\n",
              "      <td>Mundindi</td>\n",
              "      <td>109</td>\n",
              "      <td>True</td>\n",
              "      <td>GeoData Consultants Ltd</td>\n",
              "      <td>VWC</td>\n",
              "      <td>Roman</td>\n",
              "      <td>False</td>\n",
              "      <td>1999</td>\n",
              "      <td>gravity</td>\n",
              "      <td>gravity</td>\n",
              "      <td>gravity</td>\n",
              "      <td>vwc</td>\n",
              "      <td>user-group</td>\n",
              "      <td>pay annually</td>\n",
              "      <td>annually</td>\n",
              "      <td>soft</td>\n",
              "      <td>good</td>\n",
              "      <td>enough</td>\n",
              "      <td>enough</td>\n",
              "      <td>spring</td>\n",
              "      <td>spring</td>\n",
              "      <td>groundwater</td>\n",
              "      <td>communal standpipe</td>\n",
              "      <td>communal standpipe</td>\n",
              "    </tr>\n",
              "    <tr>\n",
              "      <th>8776</th>\n",
              "      <td>0.0</td>\n",
              "      <td>2013-03-06</td>\n",
              "      <td>Grumeti</td>\n",
              "      <td>1399</td>\n",
              "      <td>GRUMETI</td>\n",
              "      <td>34.698766</td>\n",
              "      <td>-2.147466</td>\n",
              "      <td>Zahanati</td>\n",
              "      <td>0</td>\n",
              "      <td>Lake Victoria</td>\n",
              "      <td>Nyamara</td>\n",
              "      <td>Mara</td>\n",
              "      <td>20</td>\n",
              "      <td>2</td>\n",
              "      <td>Serengeti</td>\n",
              "      <td>Natta</td>\n",
              "      <td>280</td>\n",
              "      <td>NaN</td>\n",
              "      <td>GeoData Consultants Ltd</td>\n",
              "      <td>Other</td>\n",
              "      <td>NaN</td>\n",
              "      <td>True</td>\n",
              "      <td>2010</td>\n",
              "      <td>gravity</td>\n",
              "      <td>gravity</td>\n",
              "      <td>gravity</td>\n",
              "      <td>wug</td>\n",
              "      <td>user-group</td>\n",
              "      <td>never pay</td>\n",
              "      <td>never pay</td>\n",
              "      <td>soft</td>\n",
              "      <td>good</td>\n",
              "      <td>insufficient</td>\n",
              "      <td>insufficient</td>\n",
              "      <td>rainwater harvesting</td>\n",
              "      <td>rainwater harvesting</td>\n",
              "      <td>surface</td>\n",
              "      <td>communal standpipe</td>\n",
              "      <td>communal standpipe</td>\n",
              "    </tr>\n",
              "    <tr>\n",
              "      <th>34310</th>\n",
              "      <td>25.0</td>\n",
              "      <td>2013-02-25</td>\n",
              "      <td>Lottery Club</td>\n",
              "      <td>686</td>\n",
              "      <td>World vision</td>\n",
              "      <td>37.460664</td>\n",
              "      <td>-3.821329</td>\n",
              "      <td>Kwa Mahundi</td>\n",
              "      <td>0</td>\n",
              "      <td>Pangani</td>\n",
              "      <td>Majengo</td>\n",
              "      <td>Manyara</td>\n",
              "      <td>21</td>\n",
              "      <td>4</td>\n",
              "      <td>Simanjiro</td>\n",
              "      <td>Ngorika</td>\n",
              "      <td>250</td>\n",
              "      <td>True</td>\n",
              "      <td>GeoData Consultants Ltd</td>\n",
              "      <td>VWC</td>\n",
              "      <td>Nyumba ya mungu pipe scheme</td>\n",
              "      <td>True</td>\n",
              "      <td>2009</td>\n",
              "      <td>gravity</td>\n",
              "      <td>gravity</td>\n",
              "      <td>gravity</td>\n",
              "      <td>vwc</td>\n",
              "      <td>user-group</td>\n",
              "      <td>pay per bucket</td>\n",
              "      <td>per bucket</td>\n",
              "      <td>soft</td>\n",
              "      <td>good</td>\n",
              "      <td>enough</td>\n",
              "      <td>enough</td>\n",
              "      <td>dam</td>\n",
              "      <td>dam</td>\n",
              "      <td>surface</td>\n",
              "      <td>communal standpipe multiple</td>\n",
              "      <td>communal standpipe</td>\n",
              "    </tr>\n",
              "    <tr>\n",
              "      <th>67743</th>\n",
              "      <td>0.0</td>\n",
              "      <td>2013-01-28</td>\n",
              "      <td>Unicef</td>\n",
              "      <td>263</td>\n",
              "      <td>UNICEF</td>\n",
              "      <td>38.486161</td>\n",
              "      <td>-11.155298</td>\n",
              "      <td>Zahanati Ya Nanyumbu</td>\n",
              "      <td>0</td>\n",
              "      <td>Ruvuma / Southern Coast</td>\n",
              "      <td>Mahakamani</td>\n",
              "      <td>Mtwara</td>\n",
              "      <td>90</td>\n",
              "      <td>63</td>\n",
              "      <td>Nanyumbu</td>\n",
              "      <td>Nanyumbu</td>\n",
              "      <td>58</td>\n",
              "      <td>True</td>\n",
              "      <td>GeoData Consultants Ltd</td>\n",
              "      <td>VWC</td>\n",
              "      <td>NaN</td>\n",
              "      <td>True</td>\n",
              "      <td>1986</td>\n",
              "      <td>submersible</td>\n",
              "      <td>submersible</td>\n",
              "      <td>submersible</td>\n",
              "      <td>vwc</td>\n",
              "      <td>user-group</td>\n",
              "      <td>never pay</td>\n",
              "      <td>never pay</td>\n",
              "      <td>soft</td>\n",
              "      <td>good</td>\n",
              "      <td>dry</td>\n",
              "      <td>dry</td>\n",
              "      <td>machine dbh</td>\n",
              "      <td>borehole</td>\n",
              "      <td>groundwater</td>\n",
              "      <td>communal standpipe multiple</td>\n",
              "      <td>communal standpipe</td>\n",
              "    </tr>\n",
              "    <tr>\n",
              "      <th>19728</th>\n",
              "      <td>0.0</td>\n",
              "      <td>2011-07-13</td>\n",
              "      <td>Action In A</td>\n",
              "      <td>0</td>\n",
              "      <td>Artisan</td>\n",
              "      <td>31.130847</td>\n",
              "      <td>-1.825359</td>\n",
              "      <td>Shuleni</td>\n",
              "      <td>0</td>\n",
              "      <td>Lake Victoria</td>\n",
              "      <td>Kyanyamisa</td>\n",
              "      <td>Kagera</td>\n",
              "      <td>18</td>\n",
              "      <td>1</td>\n",
              "      <td>Karagwe</td>\n",
              "      <td>Nyakasimbi</td>\n",
              "      <td>0</td>\n",
              "      <td>True</td>\n",
              "      <td>GeoData Consultants Ltd</td>\n",
              "      <td>NaN</td>\n",
              "      <td>NaN</td>\n",
              "      <td>True</td>\n",
              "      <td>0</td>\n",
              "      <td>gravity</td>\n",
              "      <td>gravity</td>\n",
              "      <td>gravity</td>\n",
              "      <td>other</td>\n",
              "      <td>other</td>\n",
              "      <td>never pay</td>\n",
              "      <td>never pay</td>\n",
              "      <td>soft</td>\n",
              "      <td>good</td>\n",
              "      <td>seasonal</td>\n",
              "      <td>seasonal</td>\n",
              "      <td>rainwater harvesting</td>\n",
              "      <td>rainwater harvesting</td>\n",
              "      <td>surface</td>\n",
              "      <td>communal standpipe</td>\n",
              "      <td>communal standpipe</td>\n",
              "    </tr>\n",
              "  </tbody>\n",
              "</table>\n",
              "</div>"
            ],
            "text/plain": [
              "       amount_tsh  ... waterpoint_type_group\n",
              "id                 ...                      \n",
              "69572      6000.0  ...    communal standpipe\n",
              "8776          0.0  ...    communal standpipe\n",
              "34310        25.0  ...    communal standpipe\n",
              "67743         0.0  ...    communal standpipe\n",
              "19728         0.0  ...    communal standpipe\n",
              "\n",
              "[5 rows x 39 columns]"
            ]
          },
          "metadata": {},
          "execution_count": 6
        }
      ]
    },
    {
      "cell_type": "code",
      "metadata": {
        "id": "dEQquKvz5kqb"
      },
      "source": [
        "X = features_df.copy()\n",
        "y = labels_df.copy()\n",
        "X_test = test_df.copy()"
      ],
      "execution_count": null,
      "outputs": []
    },
    {
      "cell_type": "code",
      "metadata": {
        "id": "qcLsurGLN5BV",
        "colab": {
          "base_uri": "https://localhost:8080/"
        },
        "outputId": "3264cd5c-9e2e-4537-fc2e-36f0ec96d9ed"
      },
      "source": [
        "X.info()"
      ],
      "execution_count": null,
      "outputs": [
        {
          "output_type": "stream",
          "name": "stdout",
          "text": [
            "<class 'pandas.core.frame.DataFrame'>\n",
            "Int64Index: 59400 entries, 69572 to 26348\n",
            "Data columns (total 39 columns):\n",
            " #   Column                 Non-Null Count  Dtype  \n",
            "---  ------                 --------------  -----  \n",
            " 0   amount_tsh             59400 non-null  float64\n",
            " 1   date_recorded          59400 non-null  object \n",
            " 2   funder                 55765 non-null  object \n",
            " 3   gps_height             59400 non-null  int64  \n",
            " 4   installer              55745 non-null  object \n",
            " 5   longitude              59400 non-null  float64\n",
            " 6   latitude               59400 non-null  float64\n",
            " 7   wpt_name               59400 non-null  object \n",
            " 8   num_private            59400 non-null  int64  \n",
            " 9   basin                  59400 non-null  object \n",
            " 10  subvillage             59029 non-null  object \n",
            " 11  region                 59400 non-null  object \n",
            " 12  region_code            59400 non-null  int64  \n",
            " 13  district_code          59400 non-null  int64  \n",
            " 14  lga                    59400 non-null  object \n",
            " 15  ward                   59400 non-null  object \n",
            " 16  population             59400 non-null  int64  \n",
            " 17  public_meeting         56066 non-null  object \n",
            " 18  recorded_by            59400 non-null  object \n",
            " 19  scheme_management      55523 non-null  object \n",
            " 20  scheme_name            31234 non-null  object \n",
            " 21  permit                 56344 non-null  object \n",
            " 22  construction_year      59400 non-null  int64  \n",
            " 23  extraction_type        59400 non-null  object \n",
            " 24  extraction_type_group  59400 non-null  object \n",
            " 25  extraction_type_class  59400 non-null  object \n",
            " 26  management             59400 non-null  object \n",
            " 27  management_group       59400 non-null  object \n",
            " 28  payment                59400 non-null  object \n",
            " 29  payment_type           59400 non-null  object \n",
            " 30  water_quality          59400 non-null  object \n",
            " 31  quality_group          59400 non-null  object \n",
            " 32  quantity               59400 non-null  object \n",
            " 33  quantity_group         59400 non-null  object \n",
            " 34  source                 59400 non-null  object \n",
            " 35  source_type            59400 non-null  object \n",
            " 36  source_class           59400 non-null  object \n",
            " 37  waterpoint_type        59400 non-null  object \n",
            " 38  waterpoint_type_group  59400 non-null  object \n",
            "dtypes: float64(3), int64(6), object(30)\n",
            "memory usage: 18.1+ MB\n"
          ]
        }
      ]
    },
    {
      "cell_type": "code",
      "metadata": {
        "id": "SFP5LCmQkC0G"
      },
      "source": [
        "# Combine train data with test data\n",
        "df=X.append(X_test)"
      ],
      "execution_count": null,
      "outputs": []
    },
    {
      "cell_type": "code",
      "metadata": {
        "colab": {
          "base_uri": "https://localhost:8080/"
        },
        "id": "ZLFjEggQ1o-c",
        "outputId": "9e090c7d-eb86-4a8c-bac8-67176d0a4607"
      },
      "source": [
        "df.describe()"
      ],
      "execution_count": null,
      "outputs": [
        {
          "output_type": "execute_result",
          "data": {
            "text/html": [
              "<div>\n",
              "<style scoped>\n",
              "    .dataframe tbody tr th:only-of-type {\n",
              "        vertical-align: middle;\n",
              "    }\n",
              "\n",
              "    .dataframe tbody tr th {\n",
              "        vertical-align: top;\n",
              "    }\n",
              "\n",
              "    .dataframe thead th {\n",
              "        text-align: right;\n",
              "    }\n",
              "</style>\n",
              "<table border=\"1\" class=\"dataframe\">\n",
              "  <thead>\n",
              "    <tr style=\"text-align: right;\">\n",
              "      <th></th>\n",
              "      <th>amount_tsh</th>\n",
              "      <th>gps_height</th>\n",
              "      <th>longitude</th>\n",
              "      <th>latitude</th>\n",
              "      <th>num_private</th>\n",
              "      <th>region_code</th>\n",
              "      <th>district_code</th>\n",
              "      <th>population</th>\n",
              "      <th>construction_year</th>\n",
              "    </tr>\n",
              "  </thead>\n",
              "  <tbody>\n",
              "    <tr>\n",
              "      <th>count</th>\n",
              "      <td>74250.000000</td>\n",
              "      <td>74250.000000</td>\n",
              "      <td>74250.000000</td>\n",
              "      <td>7.425000e+04</td>\n",
              "      <td>74250.000000</td>\n",
              "      <td>74250.000000</td>\n",
              "      <td>74250.000000</td>\n",
              "      <td>74250.000000</td>\n",
              "      <td>74250.000000</td>\n",
              "    </tr>\n",
              "    <tr>\n",
              "      <th>mean</th>\n",
              "      <td>318.685704</td>\n",
              "      <td>665.667313</td>\n",
              "      <td>34.074262</td>\n",
              "      <td>-5.701771e+00</td>\n",
              "      <td>0.462330</td>\n",
              "      <td>15.265414</td>\n",
              "      <td>5.629077</td>\n",
              "      <td>180.750828</td>\n",
              "      <td>1298.463650</td>\n",
              "    </tr>\n",
              "    <tr>\n",
              "      <th>std</th>\n",
              "      <td>2906.762364</td>\n",
              "      <td>692.761033</td>\n",
              "      <td>6.572519</td>\n",
              "      <td>2.944969e+00</td>\n",
              "      <td>11.537879</td>\n",
              "      <td>17.508907</td>\n",
              "      <td>9.641636</td>\n",
              "      <td>471.086120</td>\n",
              "      <td>952.349375</td>\n",
              "    </tr>\n",
              "    <tr>\n",
              "      <th>min</th>\n",
              "      <td>0.000000</td>\n",
              "      <td>-90.000000</td>\n",
              "      <td>0.000000</td>\n",
              "      <td>-1.164944e+01</td>\n",
              "      <td>0.000000</td>\n",
              "      <td>1.000000</td>\n",
              "      <td>0.000000</td>\n",
              "      <td>0.000000</td>\n",
              "      <td>0.000000</td>\n",
              "    </tr>\n",
              "    <tr>\n",
              "      <th>25%</th>\n",
              "      <td>0.000000</td>\n",
              "      <td>0.000000</td>\n",
              "      <td>33.086819</td>\n",
              "      <td>-8.525675e+00</td>\n",
              "      <td>0.000000</td>\n",
              "      <td>5.000000</td>\n",
              "      <td>2.000000</td>\n",
              "      <td>0.000000</td>\n",
              "      <td>0.000000</td>\n",
              "    </tr>\n",
              "    <tr>\n",
              "      <th>50%</th>\n",
              "      <td>0.000000</td>\n",
              "      <td>364.000000</td>\n",
              "      <td>34.907475</td>\n",
              "      <td>-5.026540e+00</td>\n",
              "      <td>0.000000</td>\n",
              "      <td>12.000000</td>\n",
              "      <td>3.000000</td>\n",
              "      <td>25.000000</td>\n",
              "      <td>1986.000000</td>\n",
              "    </tr>\n",
              "    <tr>\n",
              "      <th>75%</th>\n",
              "      <td>20.000000</td>\n",
              "      <td>1317.000000</td>\n",
              "      <td>37.181685</td>\n",
              "      <td>-3.325058e+00</td>\n",
              "      <td>0.000000</td>\n",
              "      <td>17.000000</td>\n",
              "      <td>5.000000</td>\n",
              "      <td>215.000000</td>\n",
              "      <td>2004.000000</td>\n",
              "    </tr>\n",
              "    <tr>\n",
              "      <th>max</th>\n",
              "      <td>350000.000000</td>\n",
              "      <td>2777.000000</td>\n",
              "      <td>40.345193</td>\n",
              "      <td>-2.000000e-08</td>\n",
              "      <td>1776.000000</td>\n",
              "      <td>99.000000</td>\n",
              "      <td>80.000000</td>\n",
              "      <td>30500.000000</td>\n",
              "      <td>2013.000000</td>\n",
              "    </tr>\n",
              "  </tbody>\n",
              "</table>\n",
              "</div>"
            ],
            "text/plain": [
              "          amount_tsh    gps_height  ...    population  construction_year\n",
              "count   74250.000000  74250.000000  ...  74250.000000       74250.000000\n",
              "mean      318.685704    665.667313  ...    180.750828        1298.463650\n",
              "std      2906.762364    692.761033  ...    471.086120         952.349375\n",
              "min         0.000000    -90.000000  ...      0.000000           0.000000\n",
              "25%         0.000000      0.000000  ...      0.000000           0.000000\n",
              "50%         0.000000    364.000000  ...     25.000000        1986.000000\n",
              "75%        20.000000   1317.000000  ...    215.000000        2004.000000\n",
              "max    350000.000000   2777.000000  ...  30500.000000        2013.000000\n",
              "\n",
              "[8 rows x 9 columns]"
            ]
          },
          "metadata": {},
          "execution_count": 10
        }
      ]
    },
    {
      "cell_type": "code",
      "metadata": {
        "id": "m94Z7Msukr7S",
        "colab": {
          "base_uri": "https://localhost:8080/"
        },
        "outputId": "b1e134c8-0695-419e-86f6-4c86c8c661ad"
      },
      "source": [
        "y.head()"
      ],
      "execution_count": null,
      "outputs": [
        {
          "output_type": "execute_result",
          "data": {
            "text/html": [
              "<div>\n",
              "<style scoped>\n",
              "    .dataframe tbody tr th:only-of-type {\n",
              "        vertical-align: middle;\n",
              "    }\n",
              "\n",
              "    .dataframe tbody tr th {\n",
              "        vertical-align: top;\n",
              "    }\n",
              "\n",
              "    .dataframe thead th {\n",
              "        text-align: right;\n",
              "    }\n",
              "</style>\n",
              "<table border=\"1\" class=\"dataframe\">\n",
              "  <thead>\n",
              "    <tr style=\"text-align: right;\">\n",
              "      <th></th>\n",
              "      <th>status_group</th>\n",
              "    </tr>\n",
              "    <tr>\n",
              "      <th>id</th>\n",
              "      <th></th>\n",
              "    </tr>\n",
              "  </thead>\n",
              "  <tbody>\n",
              "    <tr>\n",
              "      <th>69572</th>\n",
              "      <td>functional</td>\n",
              "    </tr>\n",
              "    <tr>\n",
              "      <th>8776</th>\n",
              "      <td>functional</td>\n",
              "    </tr>\n",
              "    <tr>\n",
              "      <th>34310</th>\n",
              "      <td>functional</td>\n",
              "    </tr>\n",
              "    <tr>\n",
              "      <th>67743</th>\n",
              "      <td>non functional</td>\n",
              "    </tr>\n",
              "    <tr>\n",
              "      <th>19728</th>\n",
              "      <td>functional</td>\n",
              "    </tr>\n",
              "  </tbody>\n",
              "</table>\n",
              "</div>"
            ],
            "text/plain": [
              "         status_group\n",
              "id                   \n",
              "69572      functional\n",
              "8776       functional\n",
              "34310      functional\n",
              "67743  non functional\n",
              "19728      functional"
            ]
          },
          "metadata": {},
          "execution_count": 11
        }
      ]
    },
    {
      "cell_type": "markdown",
      "metadata": {
        "id": "CNuTAGjZ3F7a"
      },
      "source": [
        "#**Data Cleaning**"
      ]
    },
    {
      "cell_type": "code",
      "metadata": {
        "id": "at6EJKitN9eO",
        "colab": {
          "base_uri": "https://localhost:8080/"
        },
        "outputId": "649113de-8fbf-4d03-ef0c-0b358fbb5cff"
      },
      "source": [
        "X.isnull().sum()"
      ],
      "execution_count": null,
      "outputs": [
        {
          "output_type": "execute_result",
          "data": {
            "text/plain": [
              "amount_tsh                   0\n",
              "date_recorded                0\n",
              "funder                    3635\n",
              "gps_height                   0\n",
              "installer                 3655\n",
              "longitude                    0\n",
              "latitude                     0\n",
              "wpt_name                     0\n",
              "num_private                  0\n",
              "basin                        0\n",
              "subvillage                 371\n",
              "region                       0\n",
              "region_code                  0\n",
              "district_code                0\n",
              "lga                          0\n",
              "ward                         0\n",
              "population                   0\n",
              "public_meeting            3334\n",
              "recorded_by                  0\n",
              "scheme_management         3877\n",
              "scheme_name              28166\n",
              "permit                    3056\n",
              "construction_year            0\n",
              "extraction_type              0\n",
              "extraction_type_group        0\n",
              "extraction_type_class        0\n",
              "management                   0\n",
              "management_group             0\n",
              "payment                      0\n",
              "payment_type                 0\n",
              "water_quality                0\n",
              "quality_group                0\n",
              "quantity                     0\n",
              "quantity_group               0\n",
              "source                       0\n",
              "source_type                  0\n",
              "source_class                 0\n",
              "waterpoint_type              0\n",
              "waterpoint_type_group        0\n",
              "dtype: int64"
            ]
          },
          "metadata": {},
          "execution_count": 12
        }
      ]
    },
    {
      "cell_type": "code",
      "metadata": {
        "id": "0F-8OyCbOEjI",
        "colab": {
          "base_uri": "https://localhost:8080/"
        },
        "outputId": "226e022a-210d-4bf3-a749-d965c361e3d0"
      },
      "source": [
        "X_test.isnull().sum()"
      ],
      "execution_count": null,
      "outputs": [
        {
          "output_type": "execute_result",
          "data": {
            "text/plain": [
              "amount_tsh                  0\n",
              "date_recorded               0\n",
              "funder                    869\n",
              "gps_height                  0\n",
              "installer                 877\n",
              "longitude                   0\n",
              "latitude                    0\n",
              "wpt_name                    0\n",
              "num_private                 0\n",
              "basin                       0\n",
              "subvillage                 99\n",
              "region                      0\n",
              "region_code                 0\n",
              "district_code               0\n",
              "lga                         0\n",
              "ward                        0\n",
              "population                  0\n",
              "public_meeting            821\n",
              "recorded_by                 0\n",
              "scheme_management         969\n",
              "scheme_name              7092\n",
              "permit                    737\n",
              "construction_year           0\n",
              "extraction_type             0\n",
              "extraction_type_group       0\n",
              "extraction_type_class       0\n",
              "management                  0\n",
              "management_group            0\n",
              "payment                     0\n",
              "payment_type                0\n",
              "water_quality               0\n",
              "quality_group               0\n",
              "quantity                    0\n",
              "quantity_group              0\n",
              "source                      0\n",
              "source_type                 0\n",
              "source_class                0\n",
              "waterpoint_type             0\n",
              "waterpoint_type_group       0\n",
              "dtype: int64"
            ]
          },
          "metadata": {},
          "execution_count": 13
        }
      ]
    },
    {
      "cell_type": "code",
      "metadata": {
        "id": "do_HTtbtOhWN"
      },
      "source": [
        "X_null = X.isnull().sum()\n",
        "test_null = X_test.isnull().sum()"
      ],
      "execution_count": null,
      "outputs": []
    },
    {
      "cell_type": "code",
      "metadata": {
        "id": "NXp-aE9mOJZG",
        "colab": {
          "base_uri": "https://localhost:8080/"
        },
        "outputId": "21d64528-b497-4bf5-aad1-8741fdc7962e"
      },
      "source": [
        "list_features = X_test.columns\n",
        "print('Number of features : ',len(list_features))\n",
        "print('')\n",
        "i = 0\n",
        "for f in list_features:\n",
        "    print('feature:', f, '|| Type:', type(X[f][0]), '|| Example:', X[f][0], '|| number of unique values', len(X[f].unique()), '|| missing values training : ', (X_null.values[i]/X.shape[0])*100, '|| missing values test : ', (test_null.values[i]/X_test.shape[0])*100 )\n",
        "    i +=1"
      ],
      "execution_count": null,
      "outputs": [
        {
          "output_type": "stream",
          "name": "stdout",
          "text": [
            "Number of features :  39\n",
            "\n",
            "feature: amount_tsh || Type: <class 'numpy.float64'> || Example: 0.0 || number of unique values 98 || missing values training :  0.0 || missing values test :  0.0\n",
            "feature: date_recorded || Type: <class 'str'> || Example: 2012-11-13 || number of unique values 356 || missing values training :  0.0 || missing values test :  0.0\n",
            "feature: funder || Type: <class 'str'> || Example: Tasaf || number of unique values 1898 || missing values training :  6.11952861952862 || missing values test :  5.851851851851852\n",
            "feature: gps_height || Type: <class 'numpy.int64'> || Example: 0 || number of unique values 2428 || missing values training :  0.0 || missing values test :  0.0\n",
            "feature: installer || Type: <class 'str'> || Example: TASAF || number of unique values 2146 || missing values training :  6.153198653198653 || missing values test :  5.905723905723906\n",
            "feature: longitude || Type: <class 'numpy.float64'> || Example: 33.1258283 || number of unique values 57516 || missing values training :  0.0 || missing values test :  0.0\n",
            "feature: latitude || Type: <class 'numpy.float64'> || Example: -5.11815407 || number of unique values 57517 || missing values training :  0.0 || missing values test :  0.0\n",
            "feature: wpt_name || Type: <class 'str'> || Example: Mratibu || number of unique values 37400 || missing values training :  0.0 || missing values test :  0.0\n",
            "feature: num_private || Type: <class 'numpy.int64'> || Example: 0 || number of unique values 65 || missing values training :  0.0 || missing values test :  0.0\n",
            "feature: basin || Type: <class 'str'> || Example: Lake Tanganyika || number of unique values 9 || missing values training :  0.0 || missing values test :  0.0\n",
            "feature: subvillage || Type: <class 'str'> || Example: Majengo || number of unique values 19288 || missing values training :  0.6245791245791246 || missing values test :  0.6666666666666667\n",
            "feature: region || Type: <class 'str'> || Example: Tabora || number of unique values 21 || missing values training :  0.0 || missing values test :  0.0\n",
            "feature: region_code || Type: <class 'numpy.int64'> || Example: 14 || number of unique values 27 || missing values training :  0.0 || missing values test :  0.0\n",
            "feature: district_code || Type: <class 'numpy.int64'> || Example: 3 || number of unique values 20 || missing values training :  0.0 || missing values test :  0.0\n",
            "feature: lga || Type: <class 'str'> || Example: Uyui || number of unique values 125 || missing values training :  0.0 || missing values test :  0.0\n",
            "feature: ward || Type: <class 'str'> || Example: Igalula || number of unique values 2092 || missing values training :  0.0 || missing values test :  0.0\n",
            "feature: population || Type: <class 'numpy.int64'> || Example: 0 || number of unique values 1049 || missing values training :  0.0 || missing values test :  0.0\n",
            "feature: public_meeting || Type: <class 'float'> || Example: nan || number of unique values 3 || missing values training :  5.612794612794613 || missing values test :  5.5286195286195285\n",
            "feature: recorded_by || Type: <class 'str'> || Example: GeoData Consultants Ltd || number of unique values 1 || missing values training :  0.0 || missing values test :  0.0\n",
            "feature: scheme_management || Type: <class 'str'> || Example: VWC || number of unique values 13 || missing values training :  6.526936026936027 || missing values test :  6.525252525252526\n",
            "feature: scheme_name || Type: <class 'float'> || Example: nan || number of unique values 2697 || missing values training :  47.41750841750842 || missing values test :  47.75757575757576\n",
            "feature: permit || Type: <class 'bool'> || Example: True || number of unique values 3 || missing values training :  5.144781144781145 || missing values test :  4.962962962962963\n",
            "feature: construction_year || Type: <class 'numpy.int64'> || Example: 0 || number of unique values 55 || missing values training :  0.0 || missing values test :  0.0\n",
            "feature: extraction_type || Type: <class 'str'> || Example: afridev || number of unique values 18 || missing values training :  0.0 || missing values test :  0.0\n",
            "feature: extraction_type_group || Type: <class 'str'> || Example: afridev || number of unique values 13 || missing values training :  0.0 || missing values test :  0.0\n",
            "feature: extraction_type_class || Type: <class 'str'> || Example: handpump || number of unique values 7 || missing values training :  0.0 || missing values test :  0.0\n",
            "feature: management || Type: <class 'str'> || Example: vwc || number of unique values 12 || missing values training :  0.0 || missing values test :  0.0\n",
            "feature: management_group || Type: <class 'str'> || Example: user-group || number of unique values 5 || missing values training :  0.0 || missing values test :  0.0\n",
            "feature: payment || Type: <class 'str'> || Example: unknown || number of unique values 7 || missing values training :  0.0 || missing values test :  0.0\n",
            "feature: payment_type || Type: <class 'str'> || Example: unknown || number of unique values 7 || missing values training :  0.0 || missing values test :  0.0\n",
            "feature: water_quality || Type: <class 'str'> || Example: milky || number of unique values 8 || missing values training :  0.0 || missing values test :  0.0\n",
            "feature: quality_group || Type: <class 'str'> || Example: milky || number of unique values 6 || missing values training :  0.0 || missing values test :  0.0\n",
            "feature: quantity || Type: <class 'str'> || Example: enough || number of unique values 5 || missing values training :  0.0 || missing values test :  0.0\n",
            "feature: quantity_group || Type: <class 'str'> || Example: enough || number of unique values 5 || missing values training :  0.0 || missing values test :  0.0\n",
            "feature: source || Type: <class 'str'> || Example: shallow well || number of unique values 10 || missing values training :  0.0 || missing values test :  0.0\n",
            "feature: source_type || Type: <class 'str'> || Example: shallow well || number of unique values 7 || missing values training :  0.0 || missing values test :  0.0\n",
            "feature: source_class || Type: <class 'str'> || Example: groundwater || number of unique values 3 || missing values training :  0.0 || missing values test :  0.0\n",
            "feature: waterpoint_type || Type: <class 'str'> || Example: hand pump || number of unique values 7 || missing values training :  0.0 || missing values test :  0.0\n",
            "feature: waterpoint_type_group || Type: <class 'str'> || Example: hand pump || number of unique values 6 || missing values training :  0.0 || missing values test :  0.0\n"
          ]
        }
      ]
    },
    {
      "cell_type": "code",
      "metadata": {
        "id": "m_uSefPqUBik",
        "colab": {
          "base_uri": "https://localhost:8080/"
        },
        "outputId": "97ff00aa-98ed-479a-98ec-39e83a6b83ac"
      },
      "source": [
        "#finding Zero Percentage in each column\n",
        "all = X.shape[0]\n",
        "X_zero = X.astype(bool).sum(axis=0)\n",
        "list_X = X_test.columns\n",
        "print('Number of features : ',len(list_X))\n",
        "print('')\n",
        "i = 0\n",
        "for f in list_X:\n",
        "  if (((all - X_zero.values[i])/all)*100 > 0):\n",
        "    print('feature:', f, '|| Type:', type(X[f][0]),'|| Example:', X[f][0], '|| zero percentage', ((all - X_zero.values[i])/all)*100 )\n",
        "  i += 1"
      ],
      "execution_count": null,
      "outputs": [
        {
          "output_type": "stream",
          "name": "stdout",
          "text": [
            "Number of features :  39\n",
            "\n",
            "feature: amount_tsh || Type: <class 'numpy.float64'> || Example: 0.0 || zero percentage 70.09932659932659\n",
            "feature: gps_height || Type: <class 'numpy.int64'> || Example: 0 || zero percentage 34.40740740740741\n",
            "feature: longitude || Type: <class 'numpy.float64'> || Example: 33.1258283 || zero percentage 3.05050505050505\n",
            "feature: num_private || Type: <class 'numpy.int64'> || Example: 0 || zero percentage 98.72558922558923\n",
            "feature: district_code || Type: <class 'numpy.int64'> || Example: 3 || zero percentage 0.038720538720538725\n",
            "feature: population || Type: <class 'numpy.int64'> || Example: 0 || zero percentage 35.994949494949495\n",
            "feature: public_meeting || Type: <class 'float'> || Example: nan || zero percentage 8.51010101010101\n",
            "feature: permit || Type: <class 'bool'> || Example: True || zero percentage 29.44781144781145\n",
            "feature: construction_year || Type: <class 'numpy.int64'> || Example: 0 || zero percentage 34.86363636363636\n"
          ]
        }
      ]
    },
    {
      "cell_type": "code",
      "metadata": {
        "id": "e6UOgdcfl6yt"
      },
      "source": [
        "#remove columns with zeros and more missing values along with more unique values\n",
        "df.drop(columns=['num_private', 'scheme_name'], axis=1, inplace=True)"
      ],
      "execution_count": null,
      "outputs": []
    },
    {
      "cell_type": "code",
      "metadata": {
        "id": "Y36STGON7q4q"
      },
      "source": [
        "#drop unwanted columns\n",
        "df.drop(columns=['recorded_by','wpt_name'], axis=1, inplace=True)"
      ],
      "execution_count": null,
      "outputs": []
    },
    {
      "cell_type": "markdown",
      "metadata": {
        "id": "wyCsUWSpojaW"
      },
      "source": [
        "**Handling Missing Values**"
      ]
    },
    {
      "cell_type": "code",
      "metadata": {
        "colab": {
          "base_uri": "https://localhost:8080/"
        },
        "id": "pi-CvTJSojHt",
        "outputId": "9347635c-b8ed-47b9-ef80-20b1e9b51edf"
      },
      "source": [
        "# Number of missing values in each column\n",
        "missing_val_count_by_column = (df.isnull().sum())\n",
        "print(missing_val_count_by_column[missing_val_count_by_column > 0])"
      ],
      "execution_count": null,
      "outputs": [
        {
          "output_type": "stream",
          "name": "stdout",
          "text": [
            "funder               4504\n",
            "installer            4532\n",
            "subvillage            470\n",
            "public_meeting       4155\n",
            "scheme_management    4846\n",
            "permit               3793\n",
            "dtype: int64\n"
          ]
        }
      ]
    },
    {
      "cell_type": "markdown",
      "metadata": {
        "id": "9jR7c1tIpa9U"
      },
      "source": [
        "*   num_private - droped - only one unique value\n",
        "*   wpt_name - droped - number of unique values 37400\n",
        "*   amount_tsh, num_private, scheme_name - droped\n",
        "*   Population - need to search more 36% zero count - relaced zeros with nan and mean\n",
        "*   funder - mode\n",
        "*   installer - mode\n",
        "*   subvilage - mode\n",
        "*   public_meeting - mode\n",
        "*   scheme_management - mode\n",
        "*   permit - mode\n",
        "*   construction year - replace zeros with nan and use mode\n",
        "\n",
        "\n",
        "\n",
        "\n",
        "\n",
        "\n",
        "\n"
      ]
    },
    {
      "cell_type": "code",
      "metadata": {
        "id": "lrEcWDbI2e-G"
      },
      "source": [
        "mis_columns = ['construction_year','population']\n",
        "for col in mis_columns:\n",
        "  df[col].replace(0, np.nan, inplace=True)"
      ],
      "execution_count": null,
      "outputs": []
    },
    {
      "cell_type": "code",
      "metadata": {
        "colab": {
          "base_uri": "https://localhost:8080/"
        },
        "id": "jfk2LZGekMNR",
        "outputId": "398a37a2-014f-43ec-f634-3fccc0fa62ad"
      },
      "source": [
        "all = df.shape[0]\n",
        "X_zero = df.astype(bool).sum(axis=0)\n",
        "list_X = df.columns\n",
        "print('Number of features : ',len(list_X))\n",
        "print('')\n",
        "i = 0\n",
        "for f in list_X:\n",
        "  if (((all - X_zero.values[i])/all)*100 > 0):\n",
        "    print('feature:', f, '|| Type:', type(df[f][0]),'|| Example:', df[f][0], '|| zero percentage', ((all - X_zero.values[i])/all)*100 )\n",
        "  i += 1"
      ],
      "execution_count": null,
      "outputs": [
        {
          "output_type": "stream",
          "name": "stdout",
          "text": [
            "Number of features :  35\n",
            "\n",
            "feature: amount_tsh || Type: <class 'numpy.float64'> || Example: 0.0 || zero percentage 70.09966329966329\n",
            "feature: gps_height || Type: <class 'numpy.int64'> || Example: 0 || zero percentage 34.54410774410774\n",
            "feature: longitude || Type: <class 'numpy.float64'> || Example: 33.1258283 || zero percentage 3.055892255892256\n",
            "feature: district_code || Type: <class 'numpy.int64'> || Example: 3 || zero percentage 0.03636363636363636\n",
            "feature: public_meeting || Type: <class 'float'> || Example: nan || zero percentage 8.546801346801347\n",
            "feature: permit || Type: <class 'bool'> || Example: True || zero percentage 29.428956228956228\n"
          ]
        }
      ]
    },
    {
      "cell_type": "code",
      "metadata": {
        "id": "sPUO4ftHPFTo"
      },
      "source": [
        "# Fill missing values with mode\n",
        "def fill_mode(all_column,X):\n",
        "  for X_column in all_column:\n",
        "    X[X_column] = X[X_column].fillna(X[X_column].mode()[0])\n",
        "  return X"
      ],
      "execution_count": null,
      "outputs": []
    },
    {
      "cell_type": "code",
      "metadata": {
        "id": "jy5nK_iWPGUD"
      },
      "source": [
        "df = fill_mode([\"funder\",\"installer\",\"subvillage\",\"public_meeting\",\"scheme_management\",\"permit\",\"construction_year\"],df)"
      ],
      "execution_count": null,
      "outputs": []
    },
    {
      "cell_type": "code",
      "metadata": {
        "id": "AaeiRyflPsQp"
      },
      "source": [
        "# Fill missing values with mean\n",
        "def fill_mean(all_column,X):\n",
        "  for X_column in all_column:\n",
        "    X[X_column] = X[X_column].fillna(round(X[X_column].mean()))\n",
        "  return X"
      ],
      "execution_count": null,
      "outputs": []
    },
    {
      "cell_type": "code",
      "metadata": {
        "id": "7VWtZ6NJP5aQ"
      },
      "source": [
        "df = fill_mean([\"population\"],df)"
      ],
      "execution_count": null,
      "outputs": []
    },
    {
      "cell_type": "code",
      "metadata": {
        "colab": {
          "base_uri": "https://localhost:8080/"
        },
        "id": "ArtzCUol9C7i",
        "outputId": "67e9b8cb-2020-463f-aac4-a50b63a4e8ca"
      },
      "source": [
        "# Number of missing values in each column\n",
        "missing_val_count_by_column = (df.isnull().sum())\n",
        "print(missing_val_count_by_column[missing_val_count_by_column > 0])"
      ],
      "execution_count": null,
      "outputs": [
        {
          "output_type": "stream",
          "name": "stdout",
          "text": [
            "Series([], dtype: int64)\n"
          ]
        }
      ]
    },
    {
      "cell_type": "markdown",
      "metadata": {
        "id": "YP0oglRp9Nyh"
      },
      "source": [
        "*   *No missing values*"
      ]
    },
    {
      "cell_type": "markdown",
      "metadata": {
        "id": "Pay9Tixy-GIh"
      },
      "source": [
        "#**Data Visualization**"
      ]
    },
    {
      "cell_type": "code",
      "metadata": {
        "id": "WMhX4Yyw_7Lx"
      },
      "source": [
        "# Combined training dataset with labels\n",
        "combined = df.copy()\n",
        "combined['status_group'] = y['status_group']"
      ],
      "execution_count": null,
      "outputs": []
    },
    {
      "cell_type": "code",
      "metadata": {
        "colab": {
          "base_uri": "https://localhost:8080/",
          "height": 370
        },
        "id": "o0zBUSgB_q7S",
        "outputId": "3241d1f0-b22e-4561-bf10-aa4488ca51fd"
      },
      "source": [
        "combined.head()"
      ],
      "execution_count": null,
      "outputs": [
        {
          "output_type": "execute_result",
          "data": {
            "text/html": [
              "<div>\n",
              "<style scoped>\n",
              "    .dataframe tbody tr th:only-of-type {\n",
              "        vertical-align: middle;\n",
              "    }\n",
              "\n",
              "    .dataframe tbody tr th {\n",
              "        vertical-align: top;\n",
              "    }\n",
              "\n",
              "    .dataframe thead th {\n",
              "        text-align: right;\n",
              "    }\n",
              "</style>\n",
              "<table border=\"1\" class=\"dataframe\">\n",
              "  <thead>\n",
              "    <tr style=\"text-align: right;\">\n",
              "      <th></th>\n",
              "      <th>amount_tsh</th>\n",
              "      <th>date_recorded</th>\n",
              "      <th>funder</th>\n",
              "      <th>gps_height</th>\n",
              "      <th>installer</th>\n",
              "      <th>longitude</th>\n",
              "      <th>latitude</th>\n",
              "      <th>basin</th>\n",
              "      <th>subvillage</th>\n",
              "      <th>region</th>\n",
              "      <th>region_code</th>\n",
              "      <th>district_code</th>\n",
              "      <th>lga</th>\n",
              "      <th>ward</th>\n",
              "      <th>population</th>\n",
              "      <th>public_meeting</th>\n",
              "      <th>scheme_management</th>\n",
              "      <th>permit</th>\n",
              "      <th>construction_year</th>\n",
              "      <th>extraction_type</th>\n",
              "      <th>extraction_type_group</th>\n",
              "      <th>extraction_type_class</th>\n",
              "      <th>management</th>\n",
              "      <th>management_group</th>\n",
              "      <th>payment</th>\n",
              "      <th>payment_type</th>\n",
              "      <th>water_quality</th>\n",
              "      <th>quality_group</th>\n",
              "      <th>quantity</th>\n",
              "      <th>quantity_group</th>\n",
              "      <th>source</th>\n",
              "      <th>source_type</th>\n",
              "      <th>source_class</th>\n",
              "      <th>waterpoint_type</th>\n",
              "      <th>waterpoint_type_group</th>\n",
              "      <th>status_group</th>\n",
              "    </tr>\n",
              "    <tr>\n",
              "      <th>id</th>\n",
              "      <th></th>\n",
              "      <th></th>\n",
              "      <th></th>\n",
              "      <th></th>\n",
              "      <th></th>\n",
              "      <th></th>\n",
              "      <th></th>\n",
              "      <th></th>\n",
              "      <th></th>\n",
              "      <th></th>\n",
              "      <th></th>\n",
              "      <th></th>\n",
              "      <th></th>\n",
              "      <th></th>\n",
              "      <th></th>\n",
              "      <th></th>\n",
              "      <th></th>\n",
              "      <th></th>\n",
              "      <th></th>\n",
              "      <th></th>\n",
              "      <th></th>\n",
              "      <th></th>\n",
              "      <th></th>\n",
              "      <th></th>\n",
              "      <th></th>\n",
              "      <th></th>\n",
              "      <th></th>\n",
              "      <th></th>\n",
              "      <th></th>\n",
              "      <th></th>\n",
              "      <th></th>\n",
              "      <th></th>\n",
              "      <th></th>\n",
              "      <th></th>\n",
              "      <th></th>\n",
              "      <th></th>\n",
              "    </tr>\n",
              "  </thead>\n",
              "  <tbody>\n",
              "    <tr>\n",
              "      <th>69572</th>\n",
              "      <td>6000.0</td>\n",
              "      <td>2011-03-14</td>\n",
              "      <td>Roman</td>\n",
              "      <td>1390</td>\n",
              "      <td>Roman</td>\n",
              "      <td>34.938093</td>\n",
              "      <td>-9.856322</td>\n",
              "      <td>Lake Nyasa</td>\n",
              "      <td>Mnyusi B</td>\n",
              "      <td>Iringa</td>\n",
              "      <td>11</td>\n",
              "      <td>5</td>\n",
              "      <td>Ludewa</td>\n",
              "      <td>Mundindi</td>\n",
              "      <td>109.0</td>\n",
              "      <td>True</td>\n",
              "      <td>VWC</td>\n",
              "      <td>False</td>\n",
              "      <td>1999.0</td>\n",
              "      <td>gravity</td>\n",
              "      <td>gravity</td>\n",
              "      <td>gravity</td>\n",
              "      <td>vwc</td>\n",
              "      <td>user-group</td>\n",
              "      <td>pay annually</td>\n",
              "      <td>annually</td>\n",
              "      <td>soft</td>\n",
              "      <td>good</td>\n",
              "      <td>enough</td>\n",
              "      <td>enough</td>\n",
              "      <td>spring</td>\n",
              "      <td>spring</td>\n",
              "      <td>groundwater</td>\n",
              "      <td>communal standpipe</td>\n",
              "      <td>communal standpipe</td>\n",
              "      <td>functional</td>\n",
              "    </tr>\n",
              "    <tr>\n",
              "      <th>8776</th>\n",
              "      <td>0.0</td>\n",
              "      <td>2013-03-06</td>\n",
              "      <td>Grumeti</td>\n",
              "      <td>1399</td>\n",
              "      <td>GRUMETI</td>\n",
              "      <td>34.698766</td>\n",
              "      <td>-2.147466</td>\n",
              "      <td>Lake Victoria</td>\n",
              "      <td>Nyamara</td>\n",
              "      <td>Mara</td>\n",
              "      <td>20</td>\n",
              "      <td>2</td>\n",
              "      <td>Serengeti</td>\n",
              "      <td>Natta</td>\n",
              "      <td>280.0</td>\n",
              "      <td>True</td>\n",
              "      <td>Other</td>\n",
              "      <td>True</td>\n",
              "      <td>2010.0</td>\n",
              "      <td>gravity</td>\n",
              "      <td>gravity</td>\n",
              "      <td>gravity</td>\n",
              "      <td>wug</td>\n",
              "      <td>user-group</td>\n",
              "      <td>never pay</td>\n",
              "      <td>never pay</td>\n",
              "      <td>soft</td>\n",
              "      <td>good</td>\n",
              "      <td>insufficient</td>\n",
              "      <td>insufficient</td>\n",
              "      <td>rainwater harvesting</td>\n",
              "      <td>rainwater harvesting</td>\n",
              "      <td>surface</td>\n",
              "      <td>communal standpipe</td>\n",
              "      <td>communal standpipe</td>\n",
              "      <td>functional</td>\n",
              "    </tr>\n",
              "    <tr>\n",
              "      <th>34310</th>\n",
              "      <td>25.0</td>\n",
              "      <td>2013-02-25</td>\n",
              "      <td>Lottery Club</td>\n",
              "      <td>686</td>\n",
              "      <td>World vision</td>\n",
              "      <td>37.460664</td>\n",
              "      <td>-3.821329</td>\n",
              "      <td>Pangani</td>\n",
              "      <td>Majengo</td>\n",
              "      <td>Manyara</td>\n",
              "      <td>21</td>\n",
              "      <td>4</td>\n",
              "      <td>Simanjiro</td>\n",
              "      <td>Ngorika</td>\n",
              "      <td>250.0</td>\n",
              "      <td>True</td>\n",
              "      <td>VWC</td>\n",
              "      <td>True</td>\n",
              "      <td>2009.0</td>\n",
              "      <td>gravity</td>\n",
              "      <td>gravity</td>\n",
              "      <td>gravity</td>\n",
              "      <td>vwc</td>\n",
              "      <td>user-group</td>\n",
              "      <td>pay per bucket</td>\n",
              "      <td>per bucket</td>\n",
              "      <td>soft</td>\n",
              "      <td>good</td>\n",
              "      <td>enough</td>\n",
              "      <td>enough</td>\n",
              "      <td>dam</td>\n",
              "      <td>dam</td>\n",
              "      <td>surface</td>\n",
              "      <td>communal standpipe multiple</td>\n",
              "      <td>communal standpipe</td>\n",
              "      <td>functional</td>\n",
              "    </tr>\n",
              "    <tr>\n",
              "      <th>67743</th>\n",
              "      <td>0.0</td>\n",
              "      <td>2013-01-28</td>\n",
              "      <td>Unicef</td>\n",
              "      <td>263</td>\n",
              "      <td>UNICEF</td>\n",
              "      <td>38.486161</td>\n",
              "      <td>-11.155298</td>\n",
              "      <td>Ruvuma / Southern Coast</td>\n",
              "      <td>Mahakamani</td>\n",
              "      <td>Mtwara</td>\n",
              "      <td>90</td>\n",
              "      <td>63</td>\n",
              "      <td>Nanyumbu</td>\n",
              "      <td>Nanyumbu</td>\n",
              "      <td>58.0</td>\n",
              "      <td>True</td>\n",
              "      <td>VWC</td>\n",
              "      <td>True</td>\n",
              "      <td>1986.0</td>\n",
              "      <td>submersible</td>\n",
              "      <td>submersible</td>\n",
              "      <td>submersible</td>\n",
              "      <td>vwc</td>\n",
              "      <td>user-group</td>\n",
              "      <td>never pay</td>\n",
              "      <td>never pay</td>\n",
              "      <td>soft</td>\n",
              "      <td>good</td>\n",
              "      <td>dry</td>\n",
              "      <td>dry</td>\n",
              "      <td>machine dbh</td>\n",
              "      <td>borehole</td>\n",
              "      <td>groundwater</td>\n",
              "      <td>communal standpipe multiple</td>\n",
              "      <td>communal standpipe</td>\n",
              "      <td>non functional</td>\n",
              "    </tr>\n",
              "    <tr>\n",
              "      <th>19728</th>\n",
              "      <td>0.0</td>\n",
              "      <td>2011-07-13</td>\n",
              "      <td>Action In A</td>\n",
              "      <td>0</td>\n",
              "      <td>Artisan</td>\n",
              "      <td>31.130847</td>\n",
              "      <td>-1.825359</td>\n",
              "      <td>Lake Victoria</td>\n",
              "      <td>Kyanyamisa</td>\n",
              "      <td>Kagera</td>\n",
              "      <td>18</td>\n",
              "      <td>1</td>\n",
              "      <td>Karagwe</td>\n",
              "      <td>Nyakasimbi</td>\n",
              "      <td>283.0</td>\n",
              "      <td>True</td>\n",
              "      <td>VWC</td>\n",
              "      <td>True</td>\n",
              "      <td>2010.0</td>\n",
              "      <td>gravity</td>\n",
              "      <td>gravity</td>\n",
              "      <td>gravity</td>\n",
              "      <td>other</td>\n",
              "      <td>other</td>\n",
              "      <td>never pay</td>\n",
              "      <td>never pay</td>\n",
              "      <td>soft</td>\n",
              "      <td>good</td>\n",
              "      <td>seasonal</td>\n",
              "      <td>seasonal</td>\n",
              "      <td>rainwater harvesting</td>\n",
              "      <td>rainwater harvesting</td>\n",
              "      <td>surface</td>\n",
              "      <td>communal standpipe</td>\n",
              "      <td>communal standpipe</td>\n",
              "      <td>functional</td>\n",
              "    </tr>\n",
              "  </tbody>\n",
              "</table>\n",
              "</div>"
            ],
            "text/plain": [
              "       amount_tsh date_recorded  ... waterpoint_type_group    status_group\n",
              "id                               ...                                      \n",
              "69572      6000.0    2011-03-14  ...    communal standpipe      functional\n",
              "8776          0.0    2013-03-06  ...    communal standpipe      functional\n",
              "34310        25.0    2013-02-25  ...    communal standpipe      functional\n",
              "67743         0.0    2013-01-28  ...    communal standpipe  non functional\n",
              "19728         0.0    2011-07-13  ...    communal standpipe      functional\n",
              "\n",
              "[5 rows x 36 columns]"
            ]
          },
          "metadata": {},
          "execution_count": 28
        }
      ]
    },
    {
      "cell_type": "code",
      "metadata": {
        "colab": {
          "base_uri": "https://localhost:8080/",
          "height": 297
        },
        "id": "6HN8rDVCACnw",
        "outputId": "806129fe-0269-4ffc-89f0-c16e6cef401b"
      },
      "source": [
        "#Target - status_group\n",
        "sns.countplot(x=\"status_group\", data=combined)"
      ],
      "execution_count": null,
      "outputs": [
        {
          "output_type": "execute_result",
          "data": {
            "text/plain": [
              "<matplotlib.axes._subplots.AxesSubplot at 0x7f47ed86f6d0>"
            ]
          },
          "metadata": {},
          "execution_count": 29
        },
        {
          "output_type": "display_data",
          "data": {
            "image/png": "[encoded data removed]",
            "text/plain": [
              "<Figure size 432x288 with 1 Axes>"
            ]
          },
          "metadata": {
            "needs_background": "light"
          }
        }
      ]
    },
    {
      "cell_type": "code",
      "metadata": {
        "colab": {
          "base_uri": "https://localhost:8080/"
        },
        "id": "B1BVz9mIztVx",
        "outputId": "a7adb09c-c6fa-457c-e52d-f09d4035e24e"
      },
      "source": [
        "combined['status_group'].unique()"
      ],
      "execution_count": null,
      "outputs": [
        {
          "output_type": "execute_result",
          "data": {
            "text/plain": [
              "array(['functional', 'non functional', 'functional needs repair', nan],\n",
              "      dtype=object)"
            ]
          },
          "metadata": {},
          "execution_count": 30
        }
      ]
    },
    {
      "cell_type": "markdown",
      "metadata": {
        "id": "E1QVf-9Ycd44"
      },
      "source": [
        "Amount_tsh"
      ]
    },
    {
      "cell_type": "code",
      "metadata": {
        "id": "fB_Ca1micbp7",
        "colab": {
          "base_uri": "https://localhost:8080/",
          "height": 349
        },
        "outputId": "547f6cd9-fd0f-4c6e-a84d-b36a4f66bed1"
      },
      "source": [
        "fig = sns.distplot(df['amount_tsh'])\n",
        "plt.title('Amount of water')\n",
        "plt.show(fig)\n",
        "#have to smooth the data\n",
        "#get log"
      ],
      "execution_count": null,
      "outputs": [
        {
          "output_type": "stream",
          "name": "stderr",
          "text": [
            "/usr/local/lib/python3.7/dist-packages/seaborn/distributions.py:2557: FutureWarning: `distplot` is a deprecated function and will be removed in a future version. Please adapt your code to use either `displot` (a figure-level function with similar flexibility) or `histplot` (an axes-level function for histograms).\n",
            "  warnings.warn(msg, FutureWarning)\n"
          ]
        },
        {
          "output_type": "display_data",
          "data": {
            "image/png": "[encoded data removed]",
            "text/plain": [
              "<Figure size 432x288 with 1 Axes>"
            ]
          },
          "metadata": {
            "needs_background": "light"
          }
        }
      ]
    },
    {
      "cell_type": "code",
      "metadata": {
        "id": "ITvtOSw-cfZ0"
      },
      "source": [
        "df['amt'] = np.log(df['amount_tsh']+1)"
      ],
      "execution_count": null,
      "outputs": []
    },
    {
      "cell_type": "code",
      "metadata": {
        "id": "EbHNK0wEcsTP"
      },
      "source": [
        "df['amt_q3'] = 0"
      ],
      "execution_count": null,
      "outputs": []
    },
    {
      "cell_type": "code",
      "metadata": {
        "id": "i-sQs3vTcu0M"
      },
      "source": [
        "df.loc[(df['amt'] > 3.044), 'amt_q3'] = 1"
      ],
      "execution_count": null,
      "outputs": []
    },
    {
      "cell_type": "code",
      "metadata": {
        "id": "S5K-4S1Dcyd2",
        "colab": {
          "base_uri": "https://localhost:8080/"
        },
        "outputId": "abe4ed0c-5b62-4df5-f1ea-543f6a093418"
      },
      "source": [
        "df.loc[:, 'amt_q3'].value_counts()"
      ],
      "execution_count": null,
      "outputs": [
        {
          "output_type": "execute_result",
          "data": {
            "text/plain": [
              "0    53880\n",
              "1    20370\n",
              "Name: amt_q3, dtype: int64"
            ]
          },
          "metadata": {},
          "execution_count": 35
        }
      ]
    },
    {
      "cell_type": "code",
      "metadata": {
        "id": "hkYyh9Jfc0xw",
        "colab": {
          "base_uri": "https://localhost:8080/",
          "height": 349
        },
        "outputId": "9e2cfa63-a63f-4cad-8a55-3114c73d5225"
      },
      "source": [
        "fig = sns.distplot(df['amt'])\n",
        "plt.title('Amount ')\n",
        "plt.show(fig)"
      ],
      "execution_count": null,
      "outputs": [
        {
          "output_type": "stream",
          "name": "stderr",
          "text": [
            "/usr/local/lib/python3.7/dist-packages/seaborn/distributions.py:2557: FutureWarning: `distplot` is a deprecated function and will be removed in a future version. Please adapt your code to use either `displot` (a figure-level function with similar flexibility) or `histplot` (an axes-level function for histograms).\n",
            "  warnings.warn(msg, FutureWarning)\n"
          ]
        },
        {
          "output_type": "display_data",
          "data": {
            "image/png": "[encoded data removed]",
            "text/plain": [
              "<Figure size 432x288 with 1 Axes>"
            ]
          },
          "metadata": {
            "needs_background": "light"
          }
        }
      ]
    },
    {
      "cell_type": "code",
      "metadata": {
        "id": "CEeFlJQUc3JI"
      },
      "source": [
        "df.drop(columns=['amount_tsh','amt_q3'], axis=1, inplace=True)"
      ],
      "execution_count": null,
      "outputs": []
    },
    {
      "cell_type": "code",
      "metadata": {
        "colab": {
          "base_uri": "https://localhost:8080/"
        },
        "id": "Cjb7DaKlpCRV",
        "outputId": "12cca718-5035-4030-e4b0-d523244ed1cc"
      },
      "source": [
        "df['amt'].describe()"
      ],
      "execution_count": null,
      "outputs": [
        {
          "output_type": "execute_result",
          "data": {
            "text/plain": [
              "count    74250.000000\n",
              "mean         1.586515\n",
              "std          2.638600\n",
              "min          0.000000\n",
              "25%          0.000000\n",
              "50%          0.000000\n",
              "75%          3.044522\n",
              "max         12.765691\n",
              "Name: amt, dtype: float64"
            ]
          },
          "metadata": {},
          "execution_count": 38
        }
      ]
    },
    {
      "cell_type": "code",
      "metadata": {
        "id": "CnTtDkslrRKx"
      },
      "source": [
        "# Combined training dataset with labels\n",
        "combined = df.copy()\n",
        "combined['status_group'] = y['status_group']"
      ],
      "execution_count": null,
      "outputs": []
    },
    {
      "cell_type": "code",
      "metadata": {
        "colab": {
          "base_uri": "https://localhost:8080/",
          "height": 297
        },
        "id": "fO-RfUUtop0f",
        "outputId": "37eb249e-0ed8-4e3c-c7c8-79773a0d072f"
      },
      "source": [
        "sns.boxplot(x=\"status_group\", y=\"amt\",data= combined)"
      ],
      "execution_count": null,
      "outputs": [
        {
          "output_type": "execute_result",
          "data": {
            "text/plain": [
              "<matplotlib.axes._subplots.AxesSubplot at 0x7f47c24271d0>"
            ]
          },
          "metadata": {},
          "execution_count": 40
        },
        {
          "output_type": "display_data",
          "data": {
            "image/png": "[encoded data removed]",
            "text/plain": [
              "<Figure size 432x288 with 1 Axes>"
            ]
          },
          "metadata": {
            "needs_background": "light"
          }
        }
      ]
    },
    {
      "cell_type": "markdown",
      "metadata": {
        "id": "CLgqW37ZSR1w"
      },
      "source": [
        "Extraction"
      ]
    },
    {
      "cell_type": "code",
      "metadata": {
        "id": "wmCqoyDVRYGi"
      },
      "source": [
        "df_ex = df.loc[:, ['extraction_type', 'extraction_type_group','extraction_type_class']]"
      ],
      "execution_count": null,
      "outputs": []
    },
    {
      "cell_type": "code",
      "metadata": {
        "colab": {
          "base_uri": "https://localhost:8080/"
        },
        "id": "eClo_yMsRq_O",
        "outputId": "817b8510-f4ba-402f-d98e-408e5bc1857c"
      },
      "source": [
        "df_ex.value_counts()"
      ],
      "execution_count": null,
      "outputs": [
        {
          "output_type": "execute_result",
          "data": {
            "text/plain": [
              "extraction_type            extraction_type_group  extraction_type_class\n",
              "gravity                    gravity                gravity                  33263\n",
              "nira/tanira                nira/tanira            handpump                 10205\n",
              "other                      other                  other                     8102\n",
              "submersible                submersible            submersible               5982\n",
              "swn 80                     swn 80                 handpump                  4588\n",
              "mono                       mono                   motorpump                 3628\n",
              "india mark ii              india mark ii          handpump                  3029\n",
              "afridev                    afridev                handpump                  2208\n",
              "ksb                        submersible            submersible               1790\n",
              "other - rope pump          rope pump              rope pump                  572\n",
              "other - swn 81             other handpump         handpump                   284\n",
              "windmill                   wind-powered           wind-powered               152\n",
              "india mark iii             india mark iii         handpump                   135\n",
              "cemo                       other motorpump        motorpump                  108\n",
              "other - play pump          other handpump         handpump                   101\n",
              "walimi                     other handpump         handpump                    60\n",
              "climax                     other motorpump        motorpump                   41\n",
              "other - mkulima/shinyanga  other handpump         handpump                     2\n",
              "dtype: int64"
            ]
          },
          "metadata": {},
          "execution_count": 42
        }
      ]
    },
    {
      "cell_type": "code",
      "metadata": {
        "colab": {
          "base_uri": "https://localhost:8080/"
        },
        "id": "4BQtesHhR9UE",
        "outputId": "48dbbfc5-2a1d-4f83-ae5f-2aea1293a527"
      },
      "source": [
        "df['extraction_type_class'].value_counts()"
      ],
      "execution_count": null,
      "outputs": [
        {
          "output_type": "execute_result",
          "data": {
            "text/plain": [
              "gravity         33263\n",
              "handpump        20612\n",
              "other            8102\n",
              "submersible      7772\n",
              "motorpump        3777\n",
              "rope pump         572\n",
              "wind-powered      152\n",
              "Name: extraction_type_class, dtype: int64"
            ]
          },
          "metadata": {},
          "execution_count": 43
        }
      ]
    },
    {
      "cell_type": "code",
      "metadata": {
        "colab": {
          "base_uri": "https://localhost:8080/",
          "height": 297
        },
        "id": "8PECUk-nSgI6",
        "outputId": "98150c4e-1e3f-46c5-8e15-d1a3831c56d3"
      },
      "source": [
        "sns.countplot(x=\"extraction_type_class\", data=combined)"
      ],
      "execution_count": null,
      "outputs": [
        {
          "output_type": "execute_result",
          "data": {
            "text/plain": [
              "<matplotlib.axes._subplots.AxesSubplot at 0x7f47c23062d0>"
            ]
          },
          "metadata": {},
          "execution_count": 44
        },
        {
          "output_type": "display_data",
          "data": {
            "image/png": "[encoded data removed]",
            "text/plain": [
              "<Figure size 432x288 with 1 Axes>"
            ]
          },
          "metadata": {
            "needs_background": "light"
          }
        }
      ]
    },
    {
      "cell_type": "markdown",
      "metadata": {
        "id": "XCHIZG8IGBWs"
      },
      "source": [
        "Management Feature"
      ]
    },
    {
      "cell_type": "code",
      "metadata": {
        "colab": {
          "base_uri": "https://localhost:8080/",
          "height": 297
        },
        "id": "mHB51uJHCqBZ",
        "outputId": "0b59154c-b185-472c-97e2-f2fa27d03adf"
      },
      "source": [
        "sns.countplot(x=\"management_group\", data=combined)"
      ],
      "execution_count": null,
      "outputs": [
        {
          "output_type": "execute_result",
          "data": {
            "text/plain": [
              "<matplotlib.axes._subplots.AxesSubplot at 0x7f47c22d7710>"
            ]
          },
          "metadata": {},
          "execution_count": 45
        },
        {
          "output_type": "display_data",
          "data": {
            "image/png": "[encoded data removed]",
            "text/plain": [
              "<Figure size 432x288 with 1 Axes>"
            ]
          },
          "metadata": {
            "needs_background": "light"
          }
        }
      ]
    },
    {
      "cell_type": "code",
      "metadata": {
        "colab": {
          "base_uri": "https://localhost:8080/"
        },
        "id": "sdfIb_UJDnRY",
        "outputId": "c3b7f213-cad7-450c-fe60-9f7264df081d"
      },
      "source": [
        "df[\"management_group\"].value_counts()"
      ],
      "execution_count": null,
      "outputs": [
        {
          "output_type": "execute_result",
          "data": {
            "text/plain": [
              "user-group    65538\n",
              "commercial     4591\n",
              "parastatal     2229\n",
              "other          1209\n",
              "unknown         683\n",
              "Name: management_group, dtype: int64"
            ]
          },
          "metadata": {},
          "execution_count": 46
        }
      ]
    },
    {
      "cell_type": "code",
      "metadata": {
        "colab": {
          "base_uri": "https://localhost:8080/",
          "height": 296
        },
        "id": "zIbk_2ULCyVX",
        "outputId": "e6f9700f-6b5b-4150-ef2f-701c15da4e71"
      },
      "source": [
        "sns.countplot(x=\"management\", data=combined)"
      ],
      "execution_count": null,
      "outputs": [
        {
          "output_type": "execute_result",
          "data": {
            "text/plain": [
              "<matplotlib.axes._subplots.AxesSubplot at 0x7f47c226e490>"
            ]
          },
          "metadata": {},
          "execution_count": 47
        },
        {
          "output_type": "display_data",
          "data": {
            "image/png": "[encoded data removed]",
            "text/plain": [
              "<Figure size 432x288 with 1 Axes>"
            ]
          },
          "metadata": {
            "needs_background": "light"
          }
        }
      ]
    },
    {
      "cell_type": "code",
      "metadata": {
        "colab": {
          "base_uri": "https://localhost:8080/"
        },
        "id": "N5lgZeP7DLPI",
        "outputId": "c2b6ef7f-8b12-4292-9a70-63e2e8a780af"
      },
      "source": [
        "df[\"management\"].value_counts()"
      ],
      "execution_count": null,
      "outputs": [
        {
          "output_type": "execute_result",
          "data": {
            "text/plain": [
              "vwc                 50624\n",
              "wug                  8108\n",
              "water board          3688\n",
              "wua                  3118\n",
              "private operator     2504\n",
              "parastatal           2229\n",
              "water authority      1123\n",
              "other                1083\n",
              "company               859\n",
              "unknown               683\n",
              "other - school        126\n",
              "trust                 105\n",
              "Name: management, dtype: int64"
            ]
          },
          "metadata": {},
          "execution_count": 48
        }
      ]
    },
    {
      "cell_type": "code",
      "metadata": {
        "id": "HfVy8O9bETWn"
      },
      "source": [
        "df_man = df.loc[:, ['management_group', 'management']]"
      ],
      "execution_count": null,
      "outputs": []
    },
    {
      "cell_type": "code",
      "metadata": {
        "colab": {
          "base_uri": "https://localhost:8080/"
        },
        "id": "ZCmBXYlkEZNL",
        "outputId": "0fe69e81-3f46-466b-d958-01c2e2609dca"
      },
      "source": [
        "df_man.value_counts()"
      ],
      "execution_count": null,
      "outputs": [
        {
          "output_type": "execute_result",
          "data": {
            "text/plain": [
              "management_group  management      \n",
              "user-group        vwc                 50624\n",
              "                  wug                  8108\n",
              "                  water board          3688\n",
              "                  wua                  3118\n",
              "commercial        private operator     2504\n",
              "parastatal        parastatal           2229\n",
              "commercial        water authority      1123\n",
              "other             other                1083\n",
              "commercial        company               859\n",
              "unknown           unknown               683\n",
              "other             other - school        126\n",
              "commercial        trust                 105\n",
              "dtype: int64"
            ]
          },
          "metadata": {},
          "execution_count": 50
        }
      ]
    },
    {
      "cell_type": "markdown",
      "metadata": {
        "id": "mD6WWo_dGEzG"
      },
      "source": [
        "Payment Feature"
      ]
    },
    {
      "cell_type": "code",
      "metadata": {
        "id": "aLjusQwsE566"
      },
      "source": [
        "df_pay = df.loc[:, ['payment', 'payment_type']]"
      ],
      "execution_count": null,
      "outputs": []
    },
    {
      "cell_type": "code",
      "metadata": {
        "colab": {
          "base_uri": "https://localhost:8080/"
        },
        "id": "KVA_GStdFOHH",
        "outputId": "877c8573-ce12-4faa-c063-aa5481a05b9d"
      },
      "source": [
        "df_pay.value_counts()"
      ],
      "execution_count": null,
      "outputs": [
        {
          "output_type": "execute_result",
          "data": {
            "text/plain": [
              "payment                payment_type\n",
              "never pay              never pay       31712\n",
              "pay per bucket         per bucket      11266\n",
              "pay monthly            monthly         10397\n",
              "unknown                unknown         10149\n",
              "pay when scheme fails  on failure       4842\n",
              "pay annually           annually         4570\n",
              "other                  other            1314\n",
              "dtype: int64"
            ]
          },
          "metadata": {},
          "execution_count": 52
        }
      ]
    },
    {
      "cell_type": "code",
      "metadata": {
        "colab": {
          "base_uri": "https://localhost:8080/"
        },
        "id": "TVw7zmDLFUSn",
        "outputId": "a8d2af7d-ca0d-4e68-86de-00bdccf054e4"
      },
      "source": [
        "df[\"payment\"].value_counts()"
      ],
      "execution_count": null,
      "outputs": [
        {
          "output_type": "execute_result",
          "data": {
            "text/plain": [
              "never pay                31712\n",
              "pay per bucket           11266\n",
              "pay monthly              10397\n",
              "unknown                  10149\n",
              "pay when scheme fails     4842\n",
              "pay annually              4570\n",
              "other                     1314\n",
              "Name: payment, dtype: int64"
            ]
          },
          "metadata": {},
          "execution_count": 53
        }
      ]
    },
    {
      "cell_type": "code",
      "metadata": {
        "colab": {
          "base_uri": "https://localhost:8080/"
        },
        "id": "WYEA_zuOFtbn",
        "outputId": "47e24f80-6d3e-4d36-de54-4574876ed969"
      },
      "source": [
        "df[\"payment_type\"].value_counts()"
      ],
      "execution_count": null,
      "outputs": [
        {
          "output_type": "execute_result",
          "data": {
            "text/plain": [
              "never pay     31712\n",
              "per bucket    11266\n",
              "monthly       10397\n",
              "unknown       10149\n",
              "on failure     4842\n",
              "annually       4570\n",
              "other          1314\n",
              "Name: payment_type, dtype: int64"
            ]
          },
          "metadata": {},
          "execution_count": 54
        }
      ]
    },
    {
      "cell_type": "markdown",
      "metadata": {
        "id": "miQfDE0DGUNo"
      },
      "source": [
        "Quality"
      ]
    },
    {
      "cell_type": "code",
      "metadata": {
        "id": "b7kUFNFgGVny"
      },
      "source": [
        "df_quality = df.loc[:, ['water_quality', 'quality_group']]"
      ],
      "execution_count": null,
      "outputs": []
    },
    {
      "cell_type": "code",
      "metadata": {
        "colab": {
          "base_uri": "https://localhost:8080/"
        },
        "id": "WZBYL21_HELc",
        "outputId": "d34f2139-8369-44ac-bf8a-d7c164ffae82"
      },
      "source": [
        "df_quality.value_counts()"
      ],
      "execution_count": null,
      "outputs": [
        {
          "output_type": "execute_result",
          "data": {
            "text/plain": [
              "water_quality       quality_group\n",
              "soft                good             63505\n",
              "salty               salty             6082\n",
              "unknown             unknown           2345\n",
              "milky               milky             1005\n",
              "coloured            colored            623\n",
              "salty abandoned     salty              423\n",
              "fluoride            fluoride           244\n",
              "fluoride abandoned  fluoride            23\n",
              "dtype: int64"
            ]
          },
          "metadata": {},
          "execution_count": 56
        }
      ]
    },
    {
      "cell_type": "markdown",
      "metadata": {
        "id": "yZJ_2T1-HMLN"
      },
      "source": [
        "Quantity"
      ]
    },
    {
      "cell_type": "code",
      "metadata": {
        "id": "JHmyTva7HLfW"
      },
      "source": [
        "df_quantity = df.loc[:, ['quantity', 'quantity_group']]"
      ],
      "execution_count": null,
      "outputs": []
    },
    {
      "cell_type": "code",
      "metadata": {
        "colab": {
          "base_uri": "https://localhost:8080/"
        },
        "id": "I0lJWby3He5-",
        "outputId": "0136f112-e21a-4d77-94bb-cc8394042793"
      },
      "source": [
        "df_quantity.value_counts()"
      ],
      "execution_count": null,
      "outputs": [
        {
          "output_type": "execute_result",
          "data": {
            "text/plain": [
              "quantity      quantity_group\n",
              "enough        enough            41522\n",
              "insufficient  insufficient      18896\n",
              "dry           dry                7782\n",
              "seasonal      seasonal           5075\n",
              "unknown       unknown             975\n",
              "dtype: int64"
            ]
          },
          "metadata": {},
          "execution_count": 58
        }
      ]
    },
    {
      "cell_type": "markdown",
      "metadata": {
        "id": "czvvVFoWH6yk"
      },
      "source": [
        "Source"
      ]
    },
    {
      "cell_type": "code",
      "metadata": {
        "id": "7I3m_X5GH6Mu"
      },
      "source": [
        "df_source = df.loc[:, ['source', 'source_type']]"
      ],
      "execution_count": null,
      "outputs": []
    },
    {
      "cell_type": "code",
      "metadata": {
        "colab": {
          "base_uri": "https://localhost:8080/"
        },
        "id": "HjfDA5v-IY6-",
        "outputId": "79a09315-a1d5-453f-ee51-ed19047fba76"
      },
      "source": [
        "df_source.value_counts()"
      ],
      "execution_count": null,
      "outputs": [
        {
          "output_type": "execute_result",
          "data": {
            "text/plain": [
              "source                source_type         \n",
              "spring                spring                  21216\n",
              "shallow well          shallow well            21140\n",
              "machine dbh           borehole                13822\n",
              "river                 river/lake              11964\n",
              "rainwater harvesting  rainwater harvesting     2863\n",
              "hand dtw              borehole                 1108\n",
              "lake                  river/lake                950\n",
              "dam                   dam                       840\n",
              "other                 other                     261\n",
              "unknown               other                      86\n",
              "dtype: int64"
            ]
          },
          "metadata": {},
          "execution_count": 60
        }
      ]
    },
    {
      "cell_type": "markdown",
      "metadata": {
        "id": "T4cynCLGIylK"
      },
      "source": [
        "Water Point"
      ]
    },
    {
      "cell_type": "code",
      "metadata": {
        "id": "rFsewIyTIu0G"
      },
      "source": [
        "df_water = df.loc[:, ['waterpoint_type', 'waterpoint_type_group']]"
      ],
      "execution_count": null,
      "outputs": []
    },
    {
      "cell_type": "code",
      "metadata": {
        "colab": {
          "base_uri": "https://localhost:8080/"
        },
        "id": "iNdaKdU5I9rm",
        "outputId": "fe84b7f3-0483-4ddf-ae15-06878b943730"
      },
      "source": [
        "df_water.value_counts()"
      ],
      "execution_count": null,
      "outputs": [
        {
          "output_type": "execute_result",
          "data": {
            "text/plain": [
              "waterpoint_type              waterpoint_type_group\n",
              "communal standpipe           communal standpipe       35628\n",
              "hand pump                    hand pump                21884\n",
              "other                        other                     8010\n",
              "communal standpipe multiple  communal standpipe        7611\n",
              "improved spring              improved spring            959\n",
              "cattle trough                cattle trough              150\n",
              "dam                          dam                          8\n",
              "dtype: int64"
            ]
          },
          "metadata": {},
          "execution_count": 62
        }
      ]
    },
    {
      "cell_type": "code",
      "metadata": {
        "colab": {
          "base_uri": "https://localhost:8080/",
          "height": 350
        },
        "id": "TvmlqCruBVpI",
        "outputId": "0e442f98-02e0-4176-8f5a-8d10095b9b29"
      },
      "source": [
        "sns.distplot( combined['district_code'], kde=False)"
      ],
      "execution_count": null,
      "outputs": [
        {
          "output_type": "stream",
          "name": "stderr",
          "text": [
            "/usr/local/lib/python3.7/dist-packages/seaborn/distributions.py:2557: FutureWarning: `distplot` is a deprecated function and will be removed in a future version. Please adapt your code to use either `displot` (a figure-level function with similar flexibility) or `histplot` (an axes-level function for histograms).\n",
            "  warnings.warn(msg, FutureWarning)\n"
          ]
        },
        {
          "output_type": "execute_result",
          "data": {
            "text/plain": [
              "<matplotlib.axes._subplots.AxesSubplot at 0x7f47c228bfd0>"
            ]
          },
          "metadata": {},
          "execution_count": 63
        },
        {
          "output_type": "display_data",
          "data": {
            "image/png": "[encoded data removed]",
            "text/plain": [
              "<Figure size 432x288 with 1 Axes>"
            ]
          },
          "metadata": {
            "needs_background": "light"
          }
        }
      ]
    },
    {
      "cell_type": "code",
      "metadata": {
        "colab": {
          "base_uri": "https://localhost:8080/",
          "height": 297
        },
        "id": "SDHMjPgN5hCO",
        "outputId": "314598ca-e0b7-45f3-c998-11a90764b1b2"
      },
      "source": [
        "#Public meeting\n",
        "sns.countplot(x=\"public_meeting\", data=df)"
      ],
      "execution_count": null,
      "outputs": [
        {
          "output_type": "execute_result",
          "data": {
            "text/plain": [
              "<matplotlib.axes._subplots.AxesSubplot at 0x7f47c251e690>"
            ]
          },
          "metadata": {},
          "execution_count": 64
        },
        {
          "output_type": "display_data",
          "data": {
            "image/png": "[encoded data removed]",
            "text/plain": [
              "<Figure size 432x288 with 1 Axes>"
            ]
          },
          "metadata": {
            "needs_background": "light"
          }
        }
      ]
    },
    {
      "cell_type": "code",
      "metadata": {
        "colab": {
          "base_uri": "https://localhost:8080/",
          "height": 296
        },
        "id": "VC9kAS726Swf",
        "outputId": "d51a29b0-741a-4d70-c468-d396550312c8"
      },
      "source": [
        "#Permit\n",
        "sns.countplot(x=\"permit\", data=combined)"
      ],
      "execution_count": null,
      "outputs": [
        {
          "output_type": "execute_result",
          "data": {
            "text/plain": [
              "<matplotlib.axes._subplots.AxesSubplot at 0x7f47ccdc4510>"
            ]
          },
          "metadata": {},
          "execution_count": 65
        },
        {
          "output_type": "display_data",
          "data": {
            "image/png": "[encoded data removed]",
            "text/plain": [
              "<Figure size 432x288 with 1 Axes>"
            ]
          },
          "metadata": {
            "needs_background": "light"
          }
        }
      ]
    },
    {
      "cell_type": "code",
      "metadata": {
        "colab": {
          "base_uri": "https://localhost:8080/",
          "height": 301
        },
        "id": "6AjszxpHjoJD",
        "outputId": "b8c8616b-120b-489e-b1e5-cf0d1e37fb50"
      },
      "source": [
        "#sorce_class\n",
        "sns.countplot(x=\"source_class\", data=combined)"
      ],
      "execution_count": null,
      "outputs": [
        {
          "output_type": "execute_result",
          "data": {
            "text/plain": [
              "<matplotlib.axes._subplots.AxesSubplot at 0x7f47c20c1310>"
            ]
          },
          "metadata": {},
          "execution_count": 66
        },
        {
          "output_type": "display_data",
          "data": {
            "image/png": "[encoded data removed]",
            "text/plain": [
              "<Figure size 432x288 with 1 Axes>"
            ]
          },
          "metadata": {
            "needs_background": "light"
          }
        }
      ]
    },
    {
      "cell_type": "code",
      "metadata": {
        "colab": {
          "base_uri": "https://localhost:8080/",
          "height": 241
        },
        "id": "nCxk7BYCE06q",
        "outputId": "6fcddb35-9afc-4e0a-afd3-0d8e2a472687"
      },
      "source": [
        "com  = df.copy()\n",
        "com['status_group'] = y['status_group']\n",
        "num = sns.FacetGrid(com, col='status_group')\n",
        "print(num.map(plt.hist, 'construction_year', bins=40))"
      ],
      "execution_count": null,
      "outputs": [
        {
          "output_type": "stream",
          "name": "stdout",
          "text": [
            "<seaborn.axisgrid.FacetGrid object at 0x7f47c252a710>\n"
          ]
        },
        {
          "output_type": "display_data",
          "data": {
            "image/png": "[encoded data removed]",
            "text/plain": [
              "<Figure size 648x216 with 3 Axes>"
            ]
          },
          "metadata": {
            "needs_background": "light"
          }
        }
      ]
    },
    {
      "cell_type": "code",
      "metadata": {
        "colab": {
          "base_uri": "https://localhost:8080/",
          "height": 366
        },
        "id": "8pud8JGxV1xb",
        "outputId": "648b62b4-06ab-4cc7-fc28-10635b4f4f15"
      },
      "source": [
        "sns.heatmap(df.corr(), fmt = \".2f\")"
      ],
      "execution_count": null,
      "outputs": [
        {
          "output_type": "execute_result",
          "data": {
            "text/plain": [
              "<matplotlib.axes._subplots.AxesSubplot at 0x7f47c1e5ae50>"
            ]
          },
          "metadata": {},
          "execution_count": 68
        },
        {
          "output_type": "display_data",
          "data": {
            "image/png": "[encoded data removed]",
            "text/plain": [
              "<Figure size 432x288 with 2 Axes>"
            ]
          },
          "metadata": {
            "needs_background": "light"
          }
        }
      ]
    },
    {
      "cell_type": "code",
      "metadata": {
        "id": "329ur-aCs-SB"
      },
      "source": [
        "df_region = df.loc[:, ['region', 'region_code']]"
      ],
      "execution_count": null,
      "outputs": []
    },
    {
      "cell_type": "code",
      "metadata": {
        "colab": {
          "base_uri": "https://localhost:8080/"
        },
        "id": "BeRLKJwYtFeB",
        "outputId": "eb8824b2-c102-4958-eb40-188cb1f0a00b"
      },
      "source": [
        "df_region.value_counts()"
      ],
      "execution_count": null,
      "outputs": [
        {
          "output_type": "execute_result",
          "data": {
            "text/plain": [
              "region         region_code\n",
              "Iringa         11             6599\n",
              "Shinyanga      17             6262\n",
              "Mbeya          12             5758\n",
              "Kilimanjaro    3              5494\n",
              "Morogoro       5              5038\n",
              "Kagera         18             4174\n",
              "Mwanza         19             3824\n",
              "Arusha         2              3709\n",
              "Kigoma         16             3533\n",
              "Ruvuma         10             3306\n",
              "Tanga          4              3145\n",
              "Dodoma         1              2779\n",
              "Singida        13             2536\n",
              "Tabora         14             2466\n",
              "Mara           20             2451\n",
              "Rukwa          15             2242\n",
              "Pwani          6              2032\n",
              "Manyara        21             1972\n",
              "Lindi          80             1536\n",
              "Pwani          60             1298\n",
              "Mtwara         90             1133\n",
              "Dar es Salaam  7              1020\n",
              "Mtwara         99              512\n",
              "               9               499\n",
              "Arusha         24              402\n",
              "Lindi          8               375\n",
              "Mwanza         17               72\n",
              "Tanga          5                41\n",
              "Shinyanga      14               22\n",
              "Lindi          18                9\n",
              "Shinyanga      11                9\n",
              "Mwanza         12                1\n",
              "Pwani          40                1\n",
              "dtype: int64"
            ]
          },
          "metadata": {},
          "execution_count": 70
        }
      ]
    },
    {
      "cell_type": "code",
      "metadata": {
        "colab": {
          "base_uri": "https://localhost:8080/"
        },
        "id": "RE2drDLRtSoR",
        "outputId": "9898666f-5eac-4803-8b35-25abb5851449"
      },
      "source": [
        "df['region'].value_counts().nunique()"
      ],
      "execution_count": null,
      "outputs": [
        {
          "output_type": "execute_result",
          "data": {
            "text/plain": [
              "21"
            ]
          },
          "metadata": {},
          "execution_count": 71
        }
      ]
    },
    {
      "cell_type": "code",
      "metadata": {
        "colab": {
          "base_uri": "https://localhost:8080/"
        },
        "id": "Ac_aKkTYtYRX",
        "outputId": "9e362cfd-588b-40ef-f25c-ec1f40f55bf1"
      },
      "source": [
        "df['region_code'].value_counts().nunique()"
      ],
      "execution_count": null,
      "outputs": [
        {
          "output_type": "execute_result",
          "data": {
            "text/plain": [
              "27"
            ]
          },
          "metadata": {},
          "execution_count": 72
        }
      ]
    },
    {
      "cell_type": "code",
      "metadata": {
        "colab": {
          "base_uri": "https://localhost:8080/",
          "height": 370
        },
        "id": "sESJL3fmQ2_X",
        "outputId": "01c31c6a-8a1a-4b25-971b-8a9f4d7e58df"
      },
      "source": [
        "df.head()"
      ],
      "execution_count": null,
      "outputs": [
        {
          "output_type": "execute_result",
          "data": {
            "text/html": [
              "<div>\n",
              "<style scoped>\n",
              "    .dataframe tbody tr th:only-of-type {\n",
              "        vertical-align: middle;\n",
              "    }\n",
              "\n",
              "    .dataframe tbody tr th {\n",
              "        vertical-align: top;\n",
              "    }\n",
              "\n",
              "    .dataframe thead th {\n",
              "        text-align: right;\n",
              "    }\n",
              "</style>\n",
              "<table border=\"1\" class=\"dataframe\">\n",
              "  <thead>\n",
              "    <tr style=\"text-align: right;\">\n",
              "      <th></th>\n",
              "      <th>date_recorded</th>\n",
              "      <th>funder</th>\n",
              "      <th>gps_height</th>\n",
              "      <th>installer</th>\n",
              "      <th>longitude</th>\n",
              "      <th>latitude</th>\n",
              "      <th>basin</th>\n",
              "      <th>subvillage</th>\n",
              "      <th>region</th>\n",
              "      <th>region_code</th>\n",
              "      <th>district_code</th>\n",
              "      <th>lga</th>\n",
              "      <th>ward</th>\n",
              "      <th>population</th>\n",
              "      <th>public_meeting</th>\n",
              "      <th>scheme_management</th>\n",
              "      <th>permit</th>\n",
              "      <th>construction_year</th>\n",
              "      <th>extraction_type</th>\n",
              "      <th>extraction_type_group</th>\n",
              "      <th>extraction_type_class</th>\n",
              "      <th>management</th>\n",
              "      <th>management_group</th>\n",
              "      <th>payment</th>\n",
              "      <th>payment_type</th>\n",
              "      <th>water_quality</th>\n",
              "      <th>quality_group</th>\n",
              "      <th>quantity</th>\n",
              "      <th>quantity_group</th>\n",
              "      <th>source</th>\n",
              "      <th>source_type</th>\n",
              "      <th>source_class</th>\n",
              "      <th>waterpoint_type</th>\n",
              "      <th>waterpoint_type_group</th>\n",
              "      <th>amt</th>\n",
              "    </tr>\n",
              "    <tr>\n",
              "      <th>id</th>\n",
              "      <th></th>\n",
              "      <th></th>\n",
              "      <th></th>\n",
              "      <th></th>\n",
              "      <th></th>\n",
              "      <th></th>\n",
              "      <th></th>\n",
              "      <th></th>\n",
              "      <th></th>\n",
              "      <th></th>\n",
              "      <th></th>\n",
              "      <th></th>\n",
              "      <th></th>\n",
              "      <th></th>\n",
              "      <th></th>\n",
              "      <th></th>\n",
              "      <th></th>\n",
              "      <th></th>\n",
              "      <th></th>\n",
              "      <th></th>\n",
              "      <th></th>\n",
              "      <th></th>\n",
              "      <th></th>\n",
              "      <th></th>\n",
              "      <th></th>\n",
              "      <th></th>\n",
              "      <th></th>\n",
              "      <th></th>\n",
              "      <th></th>\n",
              "      <th></th>\n",
              "      <th></th>\n",
              "      <th></th>\n",
              "      <th></th>\n",
              "      <th></th>\n",
              "      <th></th>\n",
              "    </tr>\n",
              "  </thead>\n",
              "  <tbody>\n",
              "    <tr>\n",
              "      <th>69572</th>\n",
              "      <td>2011-03-14</td>\n",
              "      <td>Roman</td>\n",
              "      <td>1390</td>\n",
              "      <td>Roman</td>\n",
              "      <td>34.938093</td>\n",
              "      <td>-9.856322</td>\n",
              "      <td>Lake Nyasa</td>\n",
              "      <td>Mnyusi B</td>\n",
              "      <td>Iringa</td>\n",
              "      <td>11</td>\n",
              "      <td>5</td>\n",
              "      <td>Ludewa</td>\n",
              "      <td>Mundindi</td>\n",
              "      <td>109.0</td>\n",
              "      <td>True</td>\n",
              "      <td>VWC</td>\n",
              "      <td>False</td>\n",
              "      <td>1999.0</td>\n",
              "      <td>gravity</td>\n",
              "      <td>gravity</td>\n",
              "      <td>gravity</td>\n",
              "      <td>vwc</td>\n",
              "      <td>user-group</td>\n",
              "      <td>pay annually</td>\n",
              "      <td>annually</td>\n",
              "      <td>soft</td>\n",
              "      <td>good</td>\n",
              "      <td>enough</td>\n",
              "      <td>enough</td>\n",
              "      <td>spring</td>\n",
              "      <td>spring</td>\n",
              "      <td>groundwater</td>\n",
              "      <td>communal standpipe</td>\n",
              "      <td>communal standpipe</td>\n",
              "      <td>8.699681</td>\n",
              "    </tr>\n",
              "    <tr>\n",
              "      <th>8776</th>\n",
              "      <td>2013-03-06</td>\n",
              "      <td>Grumeti</td>\n",
              "      <td>1399</td>\n",
              "      <td>GRUMETI</td>\n",
              "      <td>34.698766</td>\n",
              "      <td>-2.147466</td>\n",
              "      <td>Lake Victoria</td>\n",
              "      <td>Nyamara</td>\n",
              "      <td>Mara</td>\n",
              "      <td>20</td>\n",
              "      <td>2</td>\n",
              "      <td>Serengeti</td>\n",
              "      <td>Natta</td>\n",
              "      <td>280.0</td>\n",
              "      <td>True</td>\n",
              "      <td>Other</td>\n",
              "      <td>True</td>\n",
              "      <td>2010.0</td>\n",
              "      <td>gravity</td>\n",
              "      <td>gravity</td>\n",
              "      <td>gravity</td>\n",
              "      <td>wug</td>\n",
              "      <td>user-group</td>\n",
              "      <td>never pay</td>\n",
              "      <td>never pay</td>\n",
              "      <td>soft</td>\n",
              "      <td>good</td>\n",
              "      <td>insufficient</td>\n",
              "      <td>insufficient</td>\n",
              "      <td>rainwater harvesting</td>\n",
              "      <td>rainwater harvesting</td>\n",
              "      <td>surface</td>\n",
              "      <td>communal standpipe</td>\n",
              "      <td>communal standpipe</td>\n",
              "      <td>0.000000</td>\n",
              "    </tr>\n",
              "    <tr>\n",
              "      <th>34310</th>\n",
              "      <td>2013-02-25</td>\n",
              "      <td>Lottery Club</td>\n",
              "      <td>686</td>\n",
              "      <td>World vision</td>\n",
              "      <td>37.460664</td>\n",
              "      <td>-3.821329</td>\n",
              "      <td>Pangani</td>\n",
              "      <td>Majengo</td>\n",
              "      <td>Manyara</td>\n",
              "      <td>21</td>\n",
              "      <td>4</td>\n",
              "      <td>Simanjiro</td>\n",
              "      <td>Ngorika</td>\n",
              "      <td>250.0</td>\n",
              "      <td>True</td>\n",
              "      <td>VWC</td>\n",
              "      <td>True</td>\n",
              "      <td>2009.0</td>\n",
              "      <td>gravity</td>\n",
              "      <td>gravity</td>\n",
              "      <td>gravity</td>\n",
              "      <td>vwc</td>\n",
              "      <td>user-group</td>\n",
              "      <td>pay per bucket</td>\n",
              "      <td>per bucket</td>\n",
              "      <td>soft</td>\n",
              "      <td>good</td>\n",
              "      <td>enough</td>\n",
              "      <td>enough</td>\n",
              "      <td>dam</td>\n",
              "      <td>dam</td>\n",
              "      <td>surface</td>\n",
              "      <td>communal standpipe multiple</td>\n",
              "      <td>communal standpipe</td>\n",
              "      <td>3.258097</td>\n",
              "    </tr>\n",
              "    <tr>\n",
              "      <th>67743</th>\n",
              "      <td>2013-01-28</td>\n",
              "      <td>Unicef</td>\n",
              "      <td>263</td>\n",
              "      <td>UNICEF</td>\n",
              "      <td>38.486161</td>\n",
              "      <td>-11.155298</td>\n",
              "      <td>Ruvuma / Southern Coast</td>\n",
              "      <td>Mahakamani</td>\n",
              "      <td>Mtwara</td>\n",
              "      <td>90</td>\n",
              "      <td>63</td>\n",
              "      <td>Nanyumbu</td>\n",
              "      <td>Nanyumbu</td>\n",
              "      <td>58.0</td>\n",
              "      <td>True</td>\n",
              "      <td>VWC</td>\n",
              "      <td>True</td>\n",
              "      <td>1986.0</td>\n",
              "      <td>submersible</td>\n",
              "      <td>submersible</td>\n",
              "      <td>submersible</td>\n",
              "      <td>vwc</td>\n",
              "      <td>user-group</td>\n",
              "      <td>never pay</td>\n",
              "      <td>never pay</td>\n",
              "      <td>soft</td>\n",
              "      <td>good</td>\n",
              "      <td>dry</td>\n",
              "      <td>dry</td>\n",
              "      <td>machine dbh</td>\n",
              "      <td>borehole</td>\n",
              "      <td>groundwater</td>\n",
              "      <td>communal standpipe multiple</td>\n",
              "      <td>communal standpipe</td>\n",
              "      <td>0.000000</td>\n",
              "    </tr>\n",
              "    <tr>\n",
              "      <th>19728</th>\n",
              "      <td>2011-07-13</td>\n",
              "      <td>Action In A</td>\n",
              "      <td>0</td>\n",
              "      <td>Artisan</td>\n",
              "      <td>31.130847</td>\n",
              "      <td>-1.825359</td>\n",
              "      <td>Lake Victoria</td>\n",
              "      <td>Kyanyamisa</td>\n",
              "      <td>Kagera</td>\n",
              "      <td>18</td>\n",
              "      <td>1</td>\n",
              "      <td>Karagwe</td>\n",
              "      <td>Nyakasimbi</td>\n",
              "      <td>283.0</td>\n",
              "      <td>True</td>\n",
              "      <td>VWC</td>\n",
              "      <td>True</td>\n",
              "      <td>2010.0</td>\n",
              "      <td>gravity</td>\n",
              "      <td>gravity</td>\n",
              "      <td>gravity</td>\n",
              "      <td>other</td>\n",
              "      <td>other</td>\n",
              "      <td>never pay</td>\n",
              "      <td>never pay</td>\n",
              "      <td>soft</td>\n",
              "      <td>good</td>\n",
              "      <td>seasonal</td>\n",
              "      <td>seasonal</td>\n",
              "      <td>rainwater harvesting</td>\n",
              "      <td>rainwater harvesting</td>\n",
              "      <td>surface</td>\n",
              "      <td>communal standpipe</td>\n",
              "      <td>communal standpipe</td>\n",
              "      <td>0.000000</td>\n",
              "    </tr>\n",
              "  </tbody>\n",
              "</table>\n",
              "</div>"
            ],
            "text/plain": [
              "      date_recorded        funder  ...  waterpoint_type_group       amt\n",
              "id                                 ...                                 \n",
              "69572    2011-03-14         Roman  ...     communal standpipe  8.699681\n",
              "8776     2013-03-06       Grumeti  ...     communal standpipe  0.000000\n",
              "34310    2013-02-25  Lottery Club  ...     communal standpipe  3.258097\n",
              "67743    2013-01-28        Unicef  ...     communal standpipe  0.000000\n",
              "19728    2011-07-13   Action In A  ...     communal standpipe  0.000000\n",
              "\n",
              "[5 rows x 35 columns]"
            ]
          },
          "metadata": {},
          "execution_count": 73
        }
      ]
    },
    {
      "cell_type": "markdown",
      "metadata": {
        "id": "xzRJ9F0kRTJi"
      },
      "source": [
        "#**Data Preprocessing**"
      ]
    },
    {
      "cell_type": "code",
      "metadata": {
        "id": "P3I9JxUtSwL-"
      },
      "source": [
        "#date time\n",
        "df.date_recorded = pd.to_datetime(df.date_recorded)"
      ],
      "execution_count": null,
      "outputs": []
    },
    {
      "cell_type": "code",
      "metadata": {
        "id": "8OM34uMGYp8l"
      },
      "source": [
        "df['year'] = df['date_recorded'].dt.year\n",
        "df['month'] = df['date_recorded'].dt.month\n",
        "df['day_of_months'] = df['date_recorded'].dt.day"
      ],
      "execution_count": null,
      "outputs": []
    },
    {
      "cell_type": "code",
      "metadata": {
        "id": "GzFCsBgrZt6W"
      },
      "source": [
        "df.drop(columns=['date_recorded'], axis=1, inplace=True)"
      ],
      "execution_count": null,
      "outputs": []
    },
    {
      "cell_type": "code",
      "metadata": {
        "id": "8R7KSEt5Sun3"
      },
      "source": [
        "# Extraction\n",
        "df[\"Extraction_all\"] = df[\"extraction_type\"] + df[\"extraction_type_group\"] + df[\"extraction_type_class\"]\n",
        "\n",
        "#management\n",
        "df[\"Management_all\"] = df[\"management\"] + df[\"management_group\"]\n",
        "\n",
        "#Payment\n",
        "df[\"Payment_all\"] = df[\"payment\"] + df[\"payment_type\"]\n",
        "\n",
        "#quality\n",
        "df[\"Quality_all\"] = df[\"water_quality\"] + df[\"quality_group\"]\n",
        "\n",
        "#Quantitiy\n",
        "df[\"Quantity_all\"] = df[\"quantity\"] + df[\"quantity_group\"]\n",
        "\n",
        "#Source\n",
        "df[\"Source_all\"] = df[\"source\"] + df[\"source_type\"]\n",
        "\n",
        "#waterpoint_type\n",
        "df[\"Waterpoint_all\"] = df[\"waterpoint_type\"] + df[\"waterpoint_type_group\"]"
      ],
      "execution_count": null,
      "outputs": []
    },
    {
      "cell_type": "code",
      "metadata": {
        "id": "6zfKCdoQfP91"
      },
      "source": [
        "#drop unwanted columns\n",
        "df.drop(columns=['extraction_type','extraction_type_group','extraction_type_class','management','management_group','payment','payment_type','water_quality','quality_group','quantity','quantity_group','source','source_type','waterpoint_type','waterpoint_type_group'], axis=1, inplace=True)"
      ],
      "execution_count": null,
      "outputs": []
    },
    {
      "cell_type": "markdown",
      "metadata": {
        "id": "aFOSjq35Jp9F"
      },
      "source": [
        "**Encoding**"
      ]
    },
    {
      "cell_type": "code",
      "metadata": {
        "id": "g3VQQJSaRLc3"
      },
      "source": [
        "#one hot encoding\n",
        "def one_hot_encode(df,object_cols):\n",
        "  OH_encoder = OneHotEncoder(handle_unknown='ignore', sparse=False)\n",
        "  OH_cols_train = pd.DataFrame(OH_encoder.fit_transform(df[object_cols]))\n",
        "\n",
        "  # One-hot encoding removed index; put it back\n",
        "  OH_cols_train.index = df.index\n",
        "\n",
        "  # Remove categorical columns (will replace with one-hot encoding)\n",
        "  num_X_train = df.drop(object_cols, axis=1)\n",
        "\n",
        "  # Add one-hot encoded columns to numerical features\n",
        "  df = pd.concat([num_X_train, OH_cols_train], axis=1)\n",
        "  return df"
      ],
      "execution_count": null,
      "outputs": []
    },
    {
      "cell_type": "code",
      "metadata": {
        "id": "ZQRhUXf1RXMf"
      },
      "source": [
        "columns=[\"basin\", \"scheme_management\", \"Management_all\", \"Payment_all\",\"Quality_all\",\"Quantity_all\",\"Source_all\",\"Waterpoint_all\"]\n",
        "df = one_hot_encode(df, columns)\n",
        "# one_hot_encode(test, columns)"
      ],
      "execution_count": null,
      "outputs": []
    },
    {
      "cell_type": "code",
      "metadata": {
        "id": "xyl14np8RZQ3"
      },
      "source": [
        "#ordinal encoding\n",
        "map = {\n",
        "    False: 0,\n",
        "    True: 1\n",
        "  }\n",
        "\n",
        "df['public_meeting'] = df['public_meeting'].map(map)"
      ],
      "execution_count": null,
      "outputs": []
    },
    {
      "cell_type": "code",
      "metadata": {
        "id": "PDuV9ylgi78R"
      },
      "source": [
        "#ordinal encoding\n",
        "map = {\n",
        "    False: 0,\n",
        "    True: 1\n",
        "  }\n",
        "\n",
        "df['permit'] = df['permit'].map(map)"
      ],
      "execution_count": null,
      "outputs": []
    },
    {
      "cell_type": "code",
      "metadata": {
        "id": "zeTY-LGsj0QJ"
      },
      "source": [
        "#ordinal encoding\n",
        "map = {\n",
        "    'unknown': 0,\n",
        "    'surface': 1,\n",
        "    'groundwater': 2\n",
        "  }\n",
        "\n",
        "df['source_class'] = df['source_class'].map(map)"
      ],
      "execution_count": null,
      "outputs": []
    },
    {
      "cell_type": "code",
      "metadata": {
        "colab": {
          "base_uri": "https://localhost:8080/"
        },
        "id": "2OMcT-piRhq3",
        "outputId": "07fbf73b-53e2-445c-eabf-943cc3c0eec6"
      },
      "source": [
        "#binary encoder\n",
        "#use if count of unique values is more than 15\n",
        " \n",
        "enc = ce.BinaryEncoder(cols=['funder','installer', 'subvillage', 'region','lga','ward','Extraction_all']).fit(df)\n",
        "df = enc.transform(df)"
      ],
      "execution_count": null,
      "outputs": [
        {
          "output_type": "stream",
          "name": "stderr",
          "text": [
            "/usr/local/lib/python3.7/dist-packages/category_encoders/utils.py:21: FutureWarning: is_categorical is deprecated and will be removed in a future version.  Use is_categorical_dtype instead\n",
            "  elif pd.api.types.is_categorical(cols):\n"
          ]
        }
      ]
    },
    {
      "cell_type": "code",
      "metadata": {
        "colab": {
          "base_uri": "https://localhost:8080/"
        },
        "id": "PzFbhq3hwXhd",
        "outputId": "0198d8f7-e406-4627-a236-bbf298aa280d"
      },
      "source": [
        "df.head()"
      ],
      "execution_count": null,
      "outputs": [
        {
          "output_type": "execute_result",
          "data": {
            "text/html": [
              "<div>\n",
              "<style scoped>\n",
              "    .dataframe tbody tr th:only-of-type {\n",
              "        vertical-align: middle;\n",
              "    }\n",
              "\n",
              "    .dataframe tbody tr th {\n",
              "        vertical-align: top;\n",
              "    }\n",
              "\n",
              "    .dataframe thead th {\n",
              "        text-align: right;\n",
              "    }\n",
              "</style>\n",
              "<table border=\"1\" class=\"dataframe\">\n",
              "  <thead>\n",
              "    <tr style=\"text-align: right;\">\n",
              "      <th></th>\n",
              "      <th>funder_0</th>\n",
              "      <th>funder_1</th>\n",
              "      <th>funder_2</th>\n",
              "      <th>funder_3</th>\n",
              "      <th>funder_4</th>\n",
              "      <th>funder_5</th>\n",
              "      <th>funder_6</th>\n",
              "      <th>funder_7</th>\n",
              "      <th>funder_8</th>\n",
              "      <th>funder_9</th>\n",
              "      <th>funder_10</th>\n",
              "      <th>funder_11</th>\n",
              "      <th>funder_12</th>\n",
              "      <th>gps_height</th>\n",
              "      <th>installer_0</th>\n",
              "      <th>installer_1</th>\n",
              "      <th>installer_2</th>\n",
              "      <th>installer_3</th>\n",
              "      <th>installer_4</th>\n",
              "      <th>installer_5</th>\n",
              "      <th>installer_6</th>\n",
              "      <th>installer_7</th>\n",
              "      <th>installer_8</th>\n",
              "      <th>installer_9</th>\n",
              "      <th>installer_10</th>\n",
              "      <th>installer_11</th>\n",
              "      <th>installer_12</th>\n",
              "      <th>longitude</th>\n",
              "      <th>latitude</th>\n",
              "      <th>subvillage_0</th>\n",
              "      <th>subvillage_1</th>\n",
              "      <th>subvillage_2</th>\n",
              "      <th>subvillage_3</th>\n",
              "      <th>subvillage_4</th>\n",
              "      <th>subvillage_5</th>\n",
              "      <th>subvillage_6</th>\n",
              "      <th>subvillage_7</th>\n",
              "      <th>subvillage_8</th>\n",
              "      <th>subvillage_9</th>\n",
              "      <th>subvillage_10</th>\n",
              "      <th>...</th>\n",
              "      <th>30</th>\n",
              "      <th>31</th>\n",
              "      <th>32</th>\n",
              "      <th>33</th>\n",
              "      <th>34</th>\n",
              "      <th>35</th>\n",
              "      <th>36</th>\n",
              "      <th>37</th>\n",
              "      <th>38</th>\n",
              "      <th>39</th>\n",
              "      <th>40</th>\n",
              "      <th>41</th>\n",
              "      <th>42</th>\n",
              "      <th>43</th>\n",
              "      <th>44</th>\n",
              "      <th>45</th>\n",
              "      <th>46</th>\n",
              "      <th>47</th>\n",
              "      <th>48</th>\n",
              "      <th>49</th>\n",
              "      <th>50</th>\n",
              "      <th>51</th>\n",
              "      <th>52</th>\n",
              "      <th>53</th>\n",
              "      <th>54</th>\n",
              "      <th>55</th>\n",
              "      <th>56</th>\n",
              "      <th>57</th>\n",
              "      <th>58</th>\n",
              "      <th>59</th>\n",
              "      <th>60</th>\n",
              "      <th>61</th>\n",
              "      <th>62</th>\n",
              "      <th>63</th>\n",
              "      <th>64</th>\n",
              "      <th>65</th>\n",
              "      <th>66</th>\n",
              "      <th>67</th>\n",
              "      <th>68</th>\n",
              "      <th>69</th>\n",
              "    </tr>\n",
              "    <tr>\n",
              "      <th>id</th>\n",
              "      <th></th>\n",
              "      <th></th>\n",
              "      <th></th>\n",
              "      <th></th>\n",
              "      <th></th>\n",
              "      <th></th>\n",
              "      <th></th>\n",
              "      <th></th>\n",
              "      <th></th>\n",
              "      <th></th>\n",
              "      <th></th>\n",
              "      <th></th>\n",
              "      <th></th>\n",
              "      <th></th>\n",
              "      <th></th>\n",
              "      <th></th>\n",
              "      <th></th>\n",
              "      <th></th>\n",
              "      <th></th>\n",
              "      <th></th>\n",
              "      <th></th>\n",
              "      <th></th>\n",
              "      <th></th>\n",
              "      <th></th>\n",
              "      <th></th>\n",
              "      <th></th>\n",
              "      <th></th>\n",
              "      <th></th>\n",
              "      <th></th>\n",
              "      <th></th>\n",
              "      <th></th>\n",
              "      <th></th>\n",
              "      <th></th>\n",
              "      <th></th>\n",
              "      <th></th>\n",
              "      <th></th>\n",
              "      <th></th>\n",
              "      <th></th>\n",
              "      <th></th>\n",
              "      <th></th>\n",
              "      <th></th>\n",
              "      <th></th>\n",
              "      <th></th>\n",
              "      <th></th>\n",
              "      <th></th>\n",
              "      <th></th>\n",
              "      <th></th>\n",
              "      <th></th>\n",
              "      <th></th>\n",
              "      <th></th>\n",
              "      <th></th>\n",
              "      <th></th>\n",
              "      <th></th>\n",
              "      <th></th>\n",
              "      <th></th>\n",
              "      <th></th>\n",
              "      <th></th>\n",
              "      <th></th>\n",
              "      <th></th>\n",
              "      <th></th>\n",
              "      <th></th>\n",
              "      <th></th>\n",
              "      <th></th>\n",
              "      <th></th>\n",
              "      <th></th>\n",
              "      <th></th>\n",
              "      <th></th>\n",
              "      <th></th>\n",
              "      <th></th>\n",
              "      <th></th>\n",
              "      <th></th>\n",
              "      <th></th>\n",
              "      <th></th>\n",
              "      <th></th>\n",
              "      <th></th>\n",
              "      <th></th>\n",
              "      <th></th>\n",
              "      <th></th>\n",
              "      <th></th>\n",
              "      <th></th>\n",
              "      <th></th>\n",
              "    </tr>\n",
              "  </thead>\n",
              "  <tbody>\n",
              "    <tr>\n",
              "      <th>69572</th>\n",
              "      <td>0</td>\n",
              "      <td>0</td>\n",
              "      <td>0</td>\n",
              "      <td>0</td>\n",
              "      <td>0</td>\n",
              "      <td>0</td>\n",
              "      <td>0</td>\n",
              "      <td>0</td>\n",
              "      <td>0</td>\n",
              "      <td>0</td>\n",
              "      <td>0</td>\n",
              "      <td>0</td>\n",
              "      <td>1</td>\n",
              "      <td>1390</td>\n",
              "      <td>0</td>\n",
              "      <td>0</td>\n",
              "      <td>0</td>\n",
              "      <td>0</td>\n",
              "      <td>0</td>\n",
              "      <td>0</td>\n",
              "      <td>0</td>\n",
              "      <td>0</td>\n",
              "      <td>0</td>\n",
              "      <td>0</td>\n",
              "      <td>0</td>\n",
              "      <td>0</td>\n",
              "      <td>1</td>\n",
              "      <td>34.938093</td>\n",
              "      <td>-9.856322</td>\n",
              "      <td>0</td>\n",
              "      <td>0</td>\n",
              "      <td>0</td>\n",
              "      <td>0</td>\n",
              "      <td>0</td>\n",
              "      <td>0</td>\n",
              "      <td>0</td>\n",
              "      <td>0</td>\n",
              "      <td>0</td>\n",
              "      <td>0</td>\n",
              "      <td>0</td>\n",
              "      <td>...</td>\n",
              "      <td>0.0</td>\n",
              "      <td>0.0</td>\n",
              "      <td>0.0</td>\n",
              "      <td>0.0</td>\n",
              "      <td>0.0</td>\n",
              "      <td>1.0</td>\n",
              "      <td>0.0</td>\n",
              "      <td>0.0</td>\n",
              "      <td>0.0</td>\n",
              "      <td>0.0</td>\n",
              "      <td>0.0</td>\n",
              "      <td>0.0</td>\n",
              "      <td>0.0</td>\n",
              "      <td>0.0</td>\n",
              "      <td>0.0</td>\n",
              "      <td>0.0</td>\n",
              "      <td>1.0</td>\n",
              "      <td>0.0</td>\n",
              "      <td>0.0</td>\n",
              "      <td>1.0</td>\n",
              "      <td>0.0</td>\n",
              "      <td>0.0</td>\n",
              "      <td>0.0</td>\n",
              "      <td>0.0</td>\n",
              "      <td>0.0</td>\n",
              "      <td>0.0</td>\n",
              "      <td>0.0</td>\n",
              "      <td>0.0</td>\n",
              "      <td>0.0</td>\n",
              "      <td>0.0</td>\n",
              "      <td>0.0</td>\n",
              "      <td>1.0</td>\n",
              "      <td>0.0</td>\n",
              "      <td>0.0</td>\n",
              "      <td>0.0</td>\n",
              "      <td>1.0</td>\n",
              "      <td>0.0</td>\n",
              "      <td>0.0</td>\n",
              "      <td>0.0</td>\n",
              "      <td>0.0</td>\n",
              "    </tr>\n",
              "    <tr>\n",
              "      <th>8776</th>\n",
              "      <td>0</td>\n",
              "      <td>0</td>\n",
              "      <td>0</td>\n",
              "      <td>0</td>\n",
              "      <td>0</td>\n",
              "      <td>0</td>\n",
              "      <td>0</td>\n",
              "      <td>0</td>\n",
              "      <td>0</td>\n",
              "      <td>0</td>\n",
              "      <td>0</td>\n",
              "      <td>1</td>\n",
              "      <td>0</td>\n",
              "      <td>1399</td>\n",
              "      <td>0</td>\n",
              "      <td>0</td>\n",
              "      <td>0</td>\n",
              "      <td>0</td>\n",
              "      <td>0</td>\n",
              "      <td>0</td>\n",
              "      <td>0</td>\n",
              "      <td>0</td>\n",
              "      <td>0</td>\n",
              "      <td>0</td>\n",
              "      <td>0</td>\n",
              "      <td>1</td>\n",
              "      <td>0</td>\n",
              "      <td>34.698766</td>\n",
              "      <td>-2.147466</td>\n",
              "      <td>0</td>\n",
              "      <td>0</td>\n",
              "      <td>0</td>\n",
              "      <td>0</td>\n",
              "      <td>0</td>\n",
              "      <td>0</td>\n",
              "      <td>0</td>\n",
              "      <td>0</td>\n",
              "      <td>0</td>\n",
              "      <td>0</td>\n",
              "      <td>0</td>\n",
              "      <td>...</td>\n",
              "      <td>0.0</td>\n",
              "      <td>0.0</td>\n",
              "      <td>1.0</td>\n",
              "      <td>1.0</td>\n",
              "      <td>0.0</td>\n",
              "      <td>0.0</td>\n",
              "      <td>0.0</td>\n",
              "      <td>0.0</td>\n",
              "      <td>0.0</td>\n",
              "      <td>0.0</td>\n",
              "      <td>0.0</td>\n",
              "      <td>0.0</td>\n",
              "      <td>0.0</td>\n",
              "      <td>0.0</td>\n",
              "      <td>0.0</td>\n",
              "      <td>0.0</td>\n",
              "      <td>1.0</td>\n",
              "      <td>0.0</td>\n",
              "      <td>0.0</td>\n",
              "      <td>0.0</td>\n",
              "      <td>1.0</td>\n",
              "      <td>0.0</td>\n",
              "      <td>0.0</td>\n",
              "      <td>0.0</td>\n",
              "      <td>0.0</td>\n",
              "      <td>0.0</td>\n",
              "      <td>0.0</td>\n",
              "      <td>0.0</td>\n",
              "      <td>1.0</td>\n",
              "      <td>0.0</td>\n",
              "      <td>0.0</td>\n",
              "      <td>0.0</td>\n",
              "      <td>0.0</td>\n",
              "      <td>0.0</td>\n",
              "      <td>0.0</td>\n",
              "      <td>1.0</td>\n",
              "      <td>0.0</td>\n",
              "      <td>0.0</td>\n",
              "      <td>0.0</td>\n",
              "      <td>0.0</td>\n",
              "    </tr>\n",
              "    <tr>\n",
              "      <th>34310</th>\n",
              "      <td>0</td>\n",
              "      <td>0</td>\n",
              "      <td>0</td>\n",
              "      <td>0</td>\n",
              "      <td>0</td>\n",
              "      <td>0</td>\n",
              "      <td>0</td>\n",
              "      <td>0</td>\n",
              "      <td>0</td>\n",
              "      <td>0</td>\n",
              "      <td>0</td>\n",
              "      <td>1</td>\n",
              "      <td>1</td>\n",
              "      <td>686</td>\n",
              "      <td>0</td>\n",
              "      <td>0</td>\n",
              "      <td>0</td>\n",
              "      <td>0</td>\n",
              "      <td>0</td>\n",
              "      <td>0</td>\n",
              "      <td>0</td>\n",
              "      <td>0</td>\n",
              "      <td>0</td>\n",
              "      <td>0</td>\n",
              "      <td>0</td>\n",
              "      <td>1</td>\n",
              "      <td>1</td>\n",
              "      <td>37.460664</td>\n",
              "      <td>-3.821329</td>\n",
              "      <td>0</td>\n",
              "      <td>0</td>\n",
              "      <td>0</td>\n",
              "      <td>0</td>\n",
              "      <td>0</td>\n",
              "      <td>0</td>\n",
              "      <td>0</td>\n",
              "      <td>0</td>\n",
              "      <td>0</td>\n",
              "      <td>0</td>\n",
              "      <td>0</td>\n",
              "      <td>...</td>\n",
              "      <td>0.0</td>\n",
              "      <td>0.0</td>\n",
              "      <td>0.0</td>\n",
              "      <td>0.0</td>\n",
              "      <td>0.0</td>\n",
              "      <td>0.0</td>\n",
              "      <td>0.0</td>\n",
              "      <td>1.0</td>\n",
              "      <td>0.0</td>\n",
              "      <td>0.0</td>\n",
              "      <td>0.0</td>\n",
              "      <td>0.0</td>\n",
              "      <td>0.0</td>\n",
              "      <td>0.0</td>\n",
              "      <td>0.0</td>\n",
              "      <td>0.0</td>\n",
              "      <td>1.0</td>\n",
              "      <td>0.0</td>\n",
              "      <td>0.0</td>\n",
              "      <td>1.0</td>\n",
              "      <td>0.0</td>\n",
              "      <td>0.0</td>\n",
              "      <td>0.0</td>\n",
              "      <td>1.0</td>\n",
              "      <td>0.0</td>\n",
              "      <td>0.0</td>\n",
              "      <td>0.0</td>\n",
              "      <td>0.0</td>\n",
              "      <td>0.0</td>\n",
              "      <td>0.0</td>\n",
              "      <td>0.0</td>\n",
              "      <td>0.0</td>\n",
              "      <td>0.0</td>\n",
              "      <td>0.0</td>\n",
              "      <td>1.0</td>\n",
              "      <td>0.0</td>\n",
              "      <td>0.0</td>\n",
              "      <td>0.0</td>\n",
              "      <td>0.0</td>\n",
              "      <td>0.0</td>\n",
              "    </tr>\n",
              "    <tr>\n",
              "      <th>67743</th>\n",
              "      <td>0</td>\n",
              "      <td>0</td>\n",
              "      <td>0</td>\n",
              "      <td>0</td>\n",
              "      <td>0</td>\n",
              "      <td>0</td>\n",
              "      <td>0</td>\n",
              "      <td>0</td>\n",
              "      <td>0</td>\n",
              "      <td>0</td>\n",
              "      <td>1</td>\n",
              "      <td>0</td>\n",
              "      <td>0</td>\n",
              "      <td>263</td>\n",
              "      <td>0</td>\n",
              "      <td>0</td>\n",
              "      <td>0</td>\n",
              "      <td>0</td>\n",
              "      <td>0</td>\n",
              "      <td>0</td>\n",
              "      <td>0</td>\n",
              "      <td>0</td>\n",
              "      <td>0</td>\n",
              "      <td>0</td>\n",
              "      <td>1</td>\n",
              "      <td>0</td>\n",
              "      <td>0</td>\n",
              "      <td>38.486161</td>\n",
              "      <td>-11.155298</td>\n",
              "      <td>0</td>\n",
              "      <td>0</td>\n",
              "      <td>0</td>\n",
              "      <td>0</td>\n",
              "      <td>0</td>\n",
              "      <td>0</td>\n",
              "      <td>0</td>\n",
              "      <td>0</td>\n",
              "      <td>0</td>\n",
              "      <td>0</td>\n",
              "      <td>0</td>\n",
              "      <td>...</td>\n",
              "      <td>0.0</td>\n",
              "      <td>0.0</td>\n",
              "      <td>0.0</td>\n",
              "      <td>1.0</td>\n",
              "      <td>0.0</td>\n",
              "      <td>0.0</td>\n",
              "      <td>0.0</td>\n",
              "      <td>0.0</td>\n",
              "      <td>0.0</td>\n",
              "      <td>0.0</td>\n",
              "      <td>0.0</td>\n",
              "      <td>0.0</td>\n",
              "      <td>0.0</td>\n",
              "      <td>0.0</td>\n",
              "      <td>0.0</td>\n",
              "      <td>0.0</td>\n",
              "      <td>1.0</td>\n",
              "      <td>0.0</td>\n",
              "      <td>1.0</td>\n",
              "      <td>0.0</td>\n",
              "      <td>0.0</td>\n",
              "      <td>0.0</td>\n",
              "      <td>0.0</td>\n",
              "      <td>0.0</td>\n",
              "      <td>0.0</td>\n",
              "      <td>0.0</td>\n",
              "      <td>1.0</td>\n",
              "      <td>0.0</td>\n",
              "      <td>0.0</td>\n",
              "      <td>0.0</td>\n",
              "      <td>0.0</td>\n",
              "      <td>0.0</td>\n",
              "      <td>0.0</td>\n",
              "      <td>0.0</td>\n",
              "      <td>1.0</td>\n",
              "      <td>0.0</td>\n",
              "      <td>0.0</td>\n",
              "      <td>0.0</td>\n",
              "      <td>0.0</td>\n",
              "      <td>0.0</td>\n",
              "    </tr>\n",
              "    <tr>\n",
              "      <th>19728</th>\n",
              "      <td>0</td>\n",
              "      <td>0</td>\n",
              "      <td>0</td>\n",
              "      <td>0</td>\n",
              "      <td>0</td>\n",
              "      <td>0</td>\n",
              "      <td>0</td>\n",
              "      <td>0</td>\n",
              "      <td>0</td>\n",
              "      <td>0</td>\n",
              "      <td>1</td>\n",
              "      <td>0</td>\n",
              "      <td>1</td>\n",
              "      <td>0</td>\n",
              "      <td>0</td>\n",
              "      <td>0</td>\n",
              "      <td>0</td>\n",
              "      <td>0</td>\n",
              "      <td>0</td>\n",
              "      <td>0</td>\n",
              "      <td>0</td>\n",
              "      <td>0</td>\n",
              "      <td>0</td>\n",
              "      <td>0</td>\n",
              "      <td>1</td>\n",
              "      <td>0</td>\n",
              "      <td>1</td>\n",
              "      <td>31.130847</td>\n",
              "      <td>-1.825359</td>\n",
              "      <td>0</td>\n",
              "      <td>0</td>\n",
              "      <td>0</td>\n",
              "      <td>0</td>\n",
              "      <td>0</td>\n",
              "      <td>0</td>\n",
              "      <td>0</td>\n",
              "      <td>0</td>\n",
              "      <td>0</td>\n",
              "      <td>0</td>\n",
              "      <td>0</td>\n",
              "      <td>...</td>\n",
              "      <td>0.0</td>\n",
              "      <td>0.0</td>\n",
              "      <td>0.0</td>\n",
              "      <td>1.0</td>\n",
              "      <td>0.0</td>\n",
              "      <td>0.0</td>\n",
              "      <td>0.0</td>\n",
              "      <td>0.0</td>\n",
              "      <td>0.0</td>\n",
              "      <td>0.0</td>\n",
              "      <td>0.0</td>\n",
              "      <td>0.0</td>\n",
              "      <td>0.0</td>\n",
              "      <td>0.0</td>\n",
              "      <td>0.0</td>\n",
              "      <td>0.0</td>\n",
              "      <td>1.0</td>\n",
              "      <td>0.0</td>\n",
              "      <td>0.0</td>\n",
              "      <td>0.0</td>\n",
              "      <td>0.0</td>\n",
              "      <td>1.0</td>\n",
              "      <td>0.0</td>\n",
              "      <td>0.0</td>\n",
              "      <td>0.0</td>\n",
              "      <td>0.0</td>\n",
              "      <td>0.0</td>\n",
              "      <td>0.0</td>\n",
              "      <td>1.0</td>\n",
              "      <td>0.0</td>\n",
              "      <td>0.0</td>\n",
              "      <td>0.0</td>\n",
              "      <td>0.0</td>\n",
              "      <td>0.0</td>\n",
              "      <td>0.0</td>\n",
              "      <td>1.0</td>\n",
              "      <td>0.0</td>\n",
              "      <td>0.0</td>\n",
              "      <td>0.0</td>\n",
              "      <td>0.0</td>\n",
              "    </tr>\n",
              "  </tbody>\n",
              "</table>\n",
              "<p>5 rows × 159 columns</p>\n",
              "</div>"
            ],
            "text/plain": [
              "       funder_0  funder_1  funder_2  funder_3  ...   66   67   68   69\n",
              "id                                             ...                    \n",
              "69572         0         0         0         0  ...  0.0  0.0  0.0  0.0\n",
              "8776          0         0         0         0  ...  0.0  0.0  0.0  0.0\n",
              "34310         0         0         0         0  ...  0.0  0.0  0.0  0.0\n",
              "67743         0         0         0         0  ...  0.0  0.0  0.0  0.0\n",
              "19728         0         0         0         0  ...  0.0  0.0  0.0  0.0\n",
              "\n",
              "[5 rows x 159 columns]"
            ]
          },
          "metadata": {},
          "execution_count": 85
        }
      ]
    },
    {
      "cell_type": "code",
      "metadata": {
        "id": "OV9G55RKu4qx"
      },
      "source": [
        "Y_copy = y.copy() "
      ],
      "execution_count": null,
      "outputs": []
    },
    {
      "cell_type": "code",
      "metadata": {
        "id": "fVBz6jKZvMLp"
      },
      "source": [
        "#Label Encoding\n",
        "Y_copy['status_group'] = LabelEncoder().fit_transform(Y_copy['status_group'])"
      ],
      "execution_count": null,
      "outputs": []
    },
    {
      "cell_type": "code",
      "metadata": {
        "colab": {
          "base_uri": "https://localhost:8080/"
        },
        "id": "vUlnbmfvx__0",
        "outputId": "6f9474d6-e3eb-4660-952d-b8ed640491c0"
      },
      "source": [
        "Y_copy.head()"
      ],
      "execution_count": null,
      "outputs": [
        {
          "output_type": "execute_result",
          "data": {
            "text/html": [
              "<div>\n",
              "<style scoped>\n",
              "    .dataframe tbody tr th:only-of-type {\n",
              "        vertical-align: middle;\n",
              "    }\n",
              "\n",
              "    .dataframe tbody tr th {\n",
              "        vertical-align: top;\n",
              "    }\n",
              "\n",
              "    .dataframe thead th {\n",
              "        text-align: right;\n",
              "    }\n",
              "</style>\n",
              "<table border=\"1\" class=\"dataframe\">\n",
              "  <thead>\n",
              "    <tr style=\"text-align: right;\">\n",
              "      <th></th>\n",
              "      <th>status_group</th>\n",
              "    </tr>\n",
              "    <tr>\n",
              "      <th>id</th>\n",
              "      <th></th>\n",
              "    </tr>\n",
              "  </thead>\n",
              "  <tbody>\n",
              "    <tr>\n",
              "      <th>69572</th>\n",
              "      <td>0</td>\n",
              "    </tr>\n",
              "    <tr>\n",
              "      <th>8776</th>\n",
              "      <td>0</td>\n",
              "    </tr>\n",
              "    <tr>\n",
              "      <th>34310</th>\n",
              "      <td>0</td>\n",
              "    </tr>\n",
              "    <tr>\n",
              "      <th>67743</th>\n",
              "      <td>2</td>\n",
              "    </tr>\n",
              "    <tr>\n",
              "      <th>19728</th>\n",
              "      <td>0</td>\n",
              "    </tr>\n",
              "  </tbody>\n",
              "</table>\n",
              "</div>"
            ],
            "text/plain": [
              "       status_group\n",
              "id                 \n",
              "69572             0\n",
              "8776              0\n",
              "34310             0\n",
              "67743             2\n",
              "19728             0"
            ]
          },
          "metadata": {},
          "execution_count": 88
        }
      ]
    },
    {
      "cell_type": "markdown",
      "metadata": {
        "id": "qh1UbzU6ltOE"
      },
      "source": [
        "#**Separate training and test set**"
      ]
    },
    {
      "cell_type": "code",
      "metadata": {
        "id": "9MfMGuJHlyDx"
      },
      "source": [
        "X = df[:len(features_df)]\n",
        "X_test = df[len(features_df):]"
      ],
      "execution_count": null,
      "outputs": []
    },
    {
      "cell_type": "code",
      "metadata": {
        "colab": {
          "base_uri": "https://localhost:8080/",
          "height": 282
        },
        "id": "N9mhq0j3l1Fw",
        "outputId": "ac738553-ec80-4b90-e79f-000798856531"
      },
      "source": [
        "X.head()"
      ],
      "execution_count": null,
      "outputs": [
        {
          "output_type": "execute_result",
          "data": {
            "text/html": [
              "<div>\n",
              "<style scoped>\n",
              "    .dataframe tbody tr th:only-of-type {\n",
              "        vertical-align: middle;\n",
              "    }\n",
              "\n",
              "    .dataframe tbody tr th {\n",
              "        vertical-align: top;\n",
              "    }\n",
              "\n",
              "    .dataframe thead th {\n",
              "        text-align: right;\n",
              "    }\n",
              "</style>\n",
              "<table border=\"1\" class=\"dataframe\">\n",
              "  <thead>\n",
              "    <tr style=\"text-align: right;\">\n",
              "      <th></th>\n",
              "      <th>funder_0</th>\n",
              "      <th>funder_1</th>\n",
              "      <th>funder_2</th>\n",
              "      <th>funder_3</th>\n",
              "      <th>funder_4</th>\n",
              "      <th>funder_5</th>\n",
              "      <th>funder_6</th>\n",
              "      <th>funder_7</th>\n",
              "      <th>funder_8</th>\n",
              "      <th>funder_9</th>\n",
              "      <th>funder_10</th>\n",
              "      <th>funder_11</th>\n",
              "      <th>funder_12</th>\n",
              "      <th>gps_height</th>\n",
              "      <th>installer_0</th>\n",
              "      <th>installer_1</th>\n",
              "      <th>installer_2</th>\n",
              "      <th>installer_3</th>\n",
              "      <th>installer_4</th>\n",
              "      <th>installer_5</th>\n",
              "      <th>installer_6</th>\n",
              "      <th>installer_7</th>\n",
              "      <th>installer_8</th>\n",
              "      <th>installer_9</th>\n",
              "      <th>installer_10</th>\n",
              "      <th>installer_11</th>\n",
              "      <th>installer_12</th>\n",
              "      <th>longitude</th>\n",
              "      <th>latitude</th>\n",
              "      <th>subvillage_0</th>\n",
              "      <th>subvillage_1</th>\n",
              "      <th>subvillage_2</th>\n",
              "      <th>subvillage_3</th>\n",
              "      <th>subvillage_4</th>\n",
              "      <th>subvillage_5</th>\n",
              "      <th>subvillage_6</th>\n",
              "      <th>subvillage_7</th>\n",
              "      <th>subvillage_8</th>\n",
              "      <th>subvillage_9</th>\n",
              "      <th>subvillage_10</th>\n",
              "      <th>...</th>\n",
              "      <th>30</th>\n",
              "      <th>31</th>\n",
              "      <th>32</th>\n",
              "      <th>33</th>\n",
              "      <th>34</th>\n",
              "      <th>35</th>\n",
              "      <th>36</th>\n",
              "      <th>37</th>\n",
              "      <th>38</th>\n",
              "      <th>39</th>\n",
              "      <th>40</th>\n",
              "      <th>41</th>\n",
              "      <th>42</th>\n",
              "      <th>43</th>\n",
              "      <th>44</th>\n",
              "      <th>45</th>\n",
              "      <th>46</th>\n",
              "      <th>47</th>\n",
              "      <th>48</th>\n",
              "      <th>49</th>\n",
              "      <th>50</th>\n",
              "      <th>51</th>\n",
              "      <th>52</th>\n",
              "      <th>53</th>\n",
              "      <th>54</th>\n",
              "      <th>55</th>\n",
              "      <th>56</th>\n",
              "      <th>57</th>\n",
              "      <th>58</th>\n",
              "      <th>59</th>\n",
              "      <th>60</th>\n",
              "      <th>61</th>\n",
              "      <th>62</th>\n",
              "      <th>63</th>\n",
              "      <th>64</th>\n",
              "      <th>65</th>\n",
              "      <th>66</th>\n",
              "      <th>67</th>\n",
              "      <th>68</th>\n",
              "      <th>69</th>\n",
              "    </tr>\n",
              "    <tr>\n",
              "      <th>id</th>\n",
              "      <th></th>\n",
              "      <th></th>\n",
              "      <th></th>\n",
              "      <th></th>\n",
              "      <th></th>\n",
              "      <th></th>\n",
              "      <th></th>\n",
              "      <th></th>\n",
              "      <th></th>\n",
              "      <th></th>\n",
              "      <th></th>\n",
              "      <th></th>\n",
              "      <th></th>\n",
              "      <th></th>\n",
              "      <th></th>\n",
              "      <th></th>\n",
              "      <th></th>\n",
              "      <th></th>\n",
              "      <th></th>\n",
              "      <th></th>\n",
              "      <th></th>\n",
              "      <th></th>\n",
              "      <th></th>\n",
              "      <th></th>\n",
              "      <th></th>\n",
              "      <th></th>\n",
              "      <th></th>\n",
              "      <th></th>\n",
              "      <th></th>\n",
              "      <th></th>\n",
              "      <th></th>\n",
              "      <th></th>\n",
              "      <th></th>\n",
              "      <th></th>\n",
              "      <th></th>\n",
              "      <th></th>\n",
              "      <th></th>\n",
              "      <th></th>\n",
              "      <th></th>\n",
              "      <th></th>\n",
              "      <th></th>\n",
              "      <th></th>\n",
              "      <th></th>\n",
              "      <th></th>\n",
              "      <th></th>\n",
              "      <th></th>\n",
              "      <th></th>\n",
              "      <th></th>\n",
              "      <th></th>\n",
              "      <th></th>\n",
              "      <th></th>\n",
              "      <th></th>\n",
              "      <th></th>\n",
              "      <th></th>\n",
              "      <th></th>\n",
              "      <th></th>\n",
              "      <th></th>\n",
              "      <th></th>\n",
              "      <th></th>\n",
              "      <th></th>\n",
              "      <th></th>\n",
              "      <th></th>\n",
              "      <th></th>\n",
              "      <th></th>\n",
              "      <th></th>\n",
              "      <th></th>\n",
              "      <th></th>\n",
              "      <th></th>\n",
              "      <th></th>\n",
              "      <th></th>\n",
              "      <th></th>\n",
              "      <th></th>\n",
              "      <th></th>\n",
              "      <th></th>\n",
              "      <th></th>\n",
              "      <th></th>\n",
              "      <th></th>\n",
              "      <th></th>\n",
              "      <th></th>\n",
              "      <th></th>\n",
              "      <th></th>\n",
              "    </tr>\n",
              "  </thead>\n",
              "  <tbody>\n",
              "    <tr>\n",
              "      <th>69572</th>\n",
              "      <td>0</td>\n",
              "      <td>0</td>\n",
              "      <td>0</td>\n",
              "      <td>0</td>\n",
              "      <td>0</td>\n",
              "      <td>0</td>\n",
              "      <td>0</td>\n",
              "      <td>0</td>\n",
              "      <td>0</td>\n",
              "      <td>0</td>\n",
              "      <td>0</td>\n",
              "      <td>0</td>\n",
              "      <td>1</td>\n",
              "      <td>1390</td>\n",
              "      <td>0</td>\n",
              "      <td>0</td>\n",
              "      <td>0</td>\n",
              "      <td>0</td>\n",
              "      <td>0</td>\n",
              "      <td>0</td>\n",
              "      <td>0</td>\n",
              "      <td>0</td>\n",
              "      <td>0</td>\n",
              "      <td>0</td>\n",
              "      <td>0</td>\n",
              "      <td>0</td>\n",
              "      <td>1</td>\n",
              "      <td>34.938093</td>\n",
              "      <td>-9.856322</td>\n",
              "      <td>0</td>\n",
              "      <td>0</td>\n",
              "      <td>0</td>\n",
              "      <td>0</td>\n",
              "      <td>0</td>\n",
              "      <td>0</td>\n",
              "      <td>0</td>\n",
              "      <td>0</td>\n",
              "      <td>0</td>\n",
              "      <td>0</td>\n",
              "      <td>0</td>\n",
              "      <td>...</td>\n",
              "      <td>0.0</td>\n",
              "      <td>0.0</td>\n",
              "      <td>0.0</td>\n",
              "      <td>0.0</td>\n",
              "      <td>0.0</td>\n",
              "      <td>1.0</td>\n",
              "      <td>0.0</td>\n",
              "      <td>0.0</td>\n",
              "      <td>0.0</td>\n",
              "      <td>0.0</td>\n",
              "      <td>0.0</td>\n",
              "      <td>0.0</td>\n",
              "      <td>0.0</td>\n",
              "      <td>0.0</td>\n",
              "      <td>0.0</td>\n",
              "      <td>0.0</td>\n",
              "      <td>1.0</td>\n",
              "      <td>0.0</td>\n",
              "      <td>0.0</td>\n",
              "      <td>1.0</td>\n",
              "      <td>0.0</td>\n",
              "      <td>0.0</td>\n",
              "      <td>0.0</td>\n",
              "      <td>0.0</td>\n",
              "      <td>0.0</td>\n",
              "      <td>0.0</td>\n",
              "      <td>0.0</td>\n",
              "      <td>0.0</td>\n",
              "      <td>0.0</td>\n",
              "      <td>0.0</td>\n",
              "      <td>0.0</td>\n",
              "      <td>1.0</td>\n",
              "      <td>0.0</td>\n",
              "      <td>0.0</td>\n",
              "      <td>0.0</td>\n",
              "      <td>1.0</td>\n",
              "      <td>0.0</td>\n",
              "      <td>0.0</td>\n",
              "      <td>0.0</td>\n",
              "      <td>0.0</td>\n",
              "    </tr>\n",
              "    <tr>\n",
              "      <th>8776</th>\n",
              "      <td>0</td>\n",
              "      <td>0</td>\n",
              "      <td>0</td>\n",
              "      <td>0</td>\n",
              "      <td>0</td>\n",
              "      <td>0</td>\n",
              "      <td>0</td>\n",
              "      <td>0</td>\n",
              "      <td>0</td>\n",
              "      <td>0</td>\n",
              "      <td>0</td>\n",
              "      <td>1</td>\n",
              "      <td>0</td>\n",
              "      <td>1399</td>\n",
              "      <td>0</td>\n",
              "      <td>0</td>\n",
              "      <td>0</td>\n",
              "      <td>0</td>\n",
              "      <td>0</td>\n",
              "      <td>0</td>\n",
              "      <td>0</td>\n",
              "      <td>0</td>\n",
              "      <td>0</td>\n",
              "      <td>0</td>\n",
              "      <td>0</td>\n",
              "      <td>1</td>\n",
              "      <td>0</td>\n",
              "      <td>34.698766</td>\n",
              "      <td>-2.147466</td>\n",
              "      <td>0</td>\n",
              "      <td>0</td>\n",
              "      <td>0</td>\n",
              "      <td>0</td>\n",
              "      <td>0</td>\n",
              "      <td>0</td>\n",
              "      <td>0</td>\n",
              "      <td>0</td>\n",
              "      <td>0</td>\n",
              "      <td>0</td>\n",
              "      <td>0</td>\n",
              "      <td>...</td>\n",
              "      <td>0.0</td>\n",
              "      <td>0.0</td>\n",
              "      <td>1.0</td>\n",
              "      <td>1.0</td>\n",
              "      <td>0.0</td>\n",
              "      <td>0.0</td>\n",
              "      <td>0.0</td>\n",
              "      <td>0.0</td>\n",
              "      <td>0.0</td>\n",
              "      <td>0.0</td>\n",
              "      <td>0.0</td>\n",
              "      <td>0.0</td>\n",
              "      <td>0.0</td>\n",
              "      <td>0.0</td>\n",
              "      <td>0.0</td>\n",
              "      <td>0.0</td>\n",
              "      <td>1.0</td>\n",
              "      <td>0.0</td>\n",
              "      <td>0.0</td>\n",
              "      <td>0.0</td>\n",
              "      <td>1.0</td>\n",
              "      <td>0.0</td>\n",
              "      <td>0.0</td>\n",
              "      <td>0.0</td>\n",
              "      <td>0.0</td>\n",
              "      <td>0.0</td>\n",
              "      <td>0.0</td>\n",
              "      <td>0.0</td>\n",
              "      <td>1.0</td>\n",
              "      <td>0.0</td>\n",
              "      <td>0.0</td>\n",
              "      <td>0.0</td>\n",
              "      <td>0.0</td>\n",
              "      <td>0.0</td>\n",
              "      <td>0.0</td>\n",
              "      <td>1.0</td>\n",
              "      <td>0.0</td>\n",
              "      <td>0.0</td>\n",
              "      <td>0.0</td>\n",
              "      <td>0.0</td>\n",
              "    </tr>\n",
              "    <tr>\n",
              "      <th>34310</th>\n",
              "      <td>0</td>\n",
              "      <td>0</td>\n",
              "      <td>0</td>\n",
              "      <td>0</td>\n",
              "      <td>0</td>\n",
              "      <td>0</td>\n",
              "      <td>0</td>\n",
              "      <td>0</td>\n",
              "      <td>0</td>\n",
              "      <td>0</td>\n",
              "      <td>0</td>\n",
              "      <td>1</td>\n",
              "      <td>1</td>\n",
              "      <td>686</td>\n",
              "      <td>0</td>\n",
              "      <td>0</td>\n",
              "      <td>0</td>\n",
              "      <td>0</td>\n",
              "      <td>0</td>\n",
              "      <td>0</td>\n",
              "      <td>0</td>\n",
              "      <td>0</td>\n",
              "      <td>0</td>\n",
              "      <td>0</td>\n",
              "      <td>0</td>\n",
              "      <td>1</td>\n",
              "      <td>1</td>\n",
              "      <td>37.460664</td>\n",
              "      <td>-3.821329</td>\n",
              "      <td>0</td>\n",
              "      <td>0</td>\n",
              "      <td>0</td>\n",
              "      <td>0</td>\n",
              "      <td>0</td>\n",
              "      <td>0</td>\n",
              "      <td>0</td>\n",
              "      <td>0</td>\n",
              "      <td>0</td>\n",
              "      <td>0</td>\n",
              "      <td>0</td>\n",
              "      <td>...</td>\n",
              "      <td>0.0</td>\n",
              "      <td>0.0</td>\n",
              "      <td>0.0</td>\n",
              "      <td>0.0</td>\n",
              "      <td>0.0</td>\n",
              "      <td>0.0</td>\n",
              "      <td>0.0</td>\n",
              "      <td>1.0</td>\n",
              "      <td>0.0</td>\n",
              "      <td>0.0</td>\n",
              "      <td>0.0</td>\n",
              "      <td>0.0</td>\n",
              "      <td>0.0</td>\n",
              "      <td>0.0</td>\n",
              "      <td>0.0</td>\n",
              "      <td>0.0</td>\n",
              "      <td>1.0</td>\n",
              "      <td>0.0</td>\n",
              "      <td>0.0</td>\n",
              "      <td>1.0</td>\n",
              "      <td>0.0</td>\n",
              "      <td>0.0</td>\n",
              "      <td>0.0</td>\n",
              "      <td>1.0</td>\n",
              "      <td>0.0</td>\n",
              "      <td>0.0</td>\n",
              "      <td>0.0</td>\n",
              "      <td>0.0</td>\n",
              "      <td>0.0</td>\n",
              "      <td>0.0</td>\n",
              "      <td>0.0</td>\n",
              "      <td>0.0</td>\n",
              "      <td>0.0</td>\n",
              "      <td>0.0</td>\n",
              "      <td>1.0</td>\n",
              "      <td>0.0</td>\n",
              "      <td>0.0</td>\n",
              "      <td>0.0</td>\n",
              "      <td>0.0</td>\n",
              "      <td>0.0</td>\n",
              "    </tr>\n",
              "    <tr>\n",
              "      <th>67743</th>\n",
              "      <td>0</td>\n",
              "      <td>0</td>\n",
              "      <td>0</td>\n",
              "      <td>0</td>\n",
              "      <td>0</td>\n",
              "      <td>0</td>\n",
              "      <td>0</td>\n",
              "      <td>0</td>\n",
              "      <td>0</td>\n",
              "      <td>0</td>\n",
              "      <td>1</td>\n",
              "      <td>0</td>\n",
              "      <td>0</td>\n",
              "      <td>263</td>\n",
              "      <td>0</td>\n",
              "      <td>0</td>\n",
              "      <td>0</td>\n",
              "      <td>0</td>\n",
              "      <td>0</td>\n",
              "      <td>0</td>\n",
              "      <td>0</td>\n",
              "      <td>0</td>\n",
              "      <td>0</td>\n",
              "      <td>0</td>\n",
              "      <td>1</td>\n",
              "      <td>0</td>\n",
              "      <td>0</td>\n",
              "      <td>38.486161</td>\n",
              "      <td>-11.155298</td>\n",
              "      <td>0</td>\n",
              "      <td>0</td>\n",
              "      <td>0</td>\n",
              "      <td>0</td>\n",
              "      <td>0</td>\n",
              "      <td>0</td>\n",
              "      <td>0</td>\n",
              "      <td>0</td>\n",
              "      <td>0</td>\n",
              "      <td>0</td>\n",
              "      <td>0</td>\n",
              "      <td>...</td>\n",
              "      <td>0.0</td>\n",
              "      <td>0.0</td>\n",
              "      <td>0.0</td>\n",
              "      <td>1.0</td>\n",
              "      <td>0.0</td>\n",
              "      <td>0.0</td>\n",
              "      <td>0.0</td>\n",
              "      <td>0.0</td>\n",
              "      <td>0.0</td>\n",
              "      <td>0.0</td>\n",
              "      <td>0.0</td>\n",
              "      <td>0.0</td>\n",
              "      <td>0.0</td>\n",
              "      <td>0.0</td>\n",
              "      <td>0.0</td>\n",
              "      <td>0.0</td>\n",
              "      <td>1.0</td>\n",
              "      <td>0.0</td>\n",
              "      <td>1.0</td>\n",
              "      <td>0.0</td>\n",
              "      <td>0.0</td>\n",
              "      <td>0.0</td>\n",
              "      <td>0.0</td>\n",
              "      <td>0.0</td>\n",
              "      <td>0.0</td>\n",
              "      <td>0.0</td>\n",
              "      <td>1.0</td>\n",
              "      <td>0.0</td>\n",
              "      <td>0.0</td>\n",
              "      <td>0.0</td>\n",
              "      <td>0.0</td>\n",
              "      <td>0.0</td>\n",
              "      <td>0.0</td>\n",
              "      <td>0.0</td>\n",
              "      <td>1.0</td>\n",
              "      <td>0.0</td>\n",
              "      <td>0.0</td>\n",
              "      <td>0.0</td>\n",
              "      <td>0.0</td>\n",
              "      <td>0.0</td>\n",
              "    </tr>\n",
              "    <tr>\n",
              "      <th>19728</th>\n",
              "      <td>0</td>\n",
              "      <td>0</td>\n",
              "      <td>0</td>\n",
              "      <td>0</td>\n",
              "      <td>0</td>\n",
              "      <td>0</td>\n",
              "      <td>0</td>\n",
              "      <td>0</td>\n",
              "      <td>0</td>\n",
              "      <td>0</td>\n",
              "      <td>1</td>\n",
              "      <td>0</td>\n",
              "      <td>1</td>\n",
              "      <td>0</td>\n",
              "      <td>0</td>\n",
              "      <td>0</td>\n",
              "      <td>0</td>\n",
              "      <td>0</td>\n",
              "      <td>0</td>\n",
              "      <td>0</td>\n",
              "      <td>0</td>\n",
              "      <td>0</td>\n",
              "      <td>0</td>\n",
              "      <td>0</td>\n",
              "      <td>1</td>\n",
              "      <td>0</td>\n",
              "      <td>1</td>\n",
              "      <td>31.130847</td>\n",
              "      <td>-1.825359</td>\n",
              "      <td>0</td>\n",
              "      <td>0</td>\n",
              "      <td>0</td>\n",
              "      <td>0</td>\n",
              "      <td>0</td>\n",
              "      <td>0</td>\n",
              "      <td>0</td>\n",
              "      <td>0</td>\n",
              "      <td>0</td>\n",
              "      <td>0</td>\n",
              "      <td>0</td>\n",
              "      <td>...</td>\n",
              "      <td>0.0</td>\n",
              "      <td>0.0</td>\n",
              "      <td>0.0</td>\n",
              "      <td>1.0</td>\n",
              "      <td>0.0</td>\n",
              "      <td>0.0</td>\n",
              "      <td>0.0</td>\n",
              "      <td>0.0</td>\n",
              "      <td>0.0</td>\n",
              "      <td>0.0</td>\n",
              "      <td>0.0</td>\n",
              "      <td>0.0</td>\n",
              "      <td>0.0</td>\n",
              "      <td>0.0</td>\n",
              "      <td>0.0</td>\n",
              "      <td>0.0</td>\n",
              "      <td>1.0</td>\n",
              "      <td>0.0</td>\n",
              "      <td>0.0</td>\n",
              "      <td>0.0</td>\n",
              "      <td>0.0</td>\n",
              "      <td>1.0</td>\n",
              "      <td>0.0</td>\n",
              "      <td>0.0</td>\n",
              "      <td>0.0</td>\n",
              "      <td>0.0</td>\n",
              "      <td>0.0</td>\n",
              "      <td>0.0</td>\n",
              "      <td>1.0</td>\n",
              "      <td>0.0</td>\n",
              "      <td>0.0</td>\n",
              "      <td>0.0</td>\n",
              "      <td>0.0</td>\n",
              "      <td>0.0</td>\n",
              "      <td>0.0</td>\n",
              "      <td>1.0</td>\n",
              "      <td>0.0</td>\n",
              "      <td>0.0</td>\n",
              "      <td>0.0</td>\n",
              "      <td>0.0</td>\n",
              "    </tr>\n",
              "  </tbody>\n",
              "</table>\n",
              "<p>5 rows × 159 columns</p>\n",
              "</div>"
            ],
            "text/plain": [
              "       funder_0  funder_1  funder_2  funder_3  ...   66   67   68   69\n",
              "id                                             ...                    \n",
              "69572         0         0         0         0  ...  0.0  0.0  0.0  0.0\n",
              "8776          0         0         0         0  ...  0.0  0.0  0.0  0.0\n",
              "34310         0         0         0         0  ...  0.0  0.0  0.0  0.0\n",
              "67743         0         0         0         0  ...  0.0  0.0  0.0  0.0\n",
              "19728         0         0         0         0  ...  0.0  0.0  0.0  0.0\n",
              "\n",
              "[5 rows x 159 columns]"
            ]
          },
          "metadata": {},
          "execution_count": 96
        }
      ]
    },
    {
      "cell_type": "code",
      "metadata": {
        "colab": {
          "base_uri": "https://localhost:8080/",
          "height": 282
        },
        "id": "FRQuVXuZl-bZ",
        "outputId": "123a7703-4c88-49ea-8ff5-61113dda4979"
      },
      "source": [
        "X_test.head()"
      ],
      "execution_count": null,
      "outputs": [
        {
          "output_type": "execute_result",
          "data": {
            "text/html": [
              "<div>\n",
              "<style scoped>\n",
              "    .dataframe tbody tr th:only-of-type {\n",
              "        vertical-align: middle;\n",
              "    }\n",
              "\n",
              "    .dataframe tbody tr th {\n",
              "        vertical-align: top;\n",
              "    }\n",
              "\n",
              "    .dataframe thead th {\n",
              "        text-align: right;\n",
              "    }\n",
              "</style>\n",
              "<table border=\"1\" class=\"dataframe\">\n",
              "  <thead>\n",
              "    <tr style=\"text-align: right;\">\n",
              "      <th></th>\n",
              "      <th>funder_0</th>\n",
              "      <th>funder_1</th>\n",
              "      <th>funder_2</th>\n",
              "      <th>funder_3</th>\n",
              "      <th>funder_4</th>\n",
              "      <th>funder_5</th>\n",
              "      <th>funder_6</th>\n",
              "      <th>funder_7</th>\n",
              "      <th>funder_8</th>\n",
              "      <th>funder_9</th>\n",
              "      <th>funder_10</th>\n",
              "      <th>funder_11</th>\n",
              "      <th>funder_12</th>\n",
              "      <th>gps_height</th>\n",
              "      <th>installer_0</th>\n",
              "      <th>installer_1</th>\n",
              "      <th>installer_2</th>\n",
              "      <th>installer_3</th>\n",
              "      <th>installer_4</th>\n",
              "      <th>installer_5</th>\n",
              "      <th>installer_6</th>\n",
              "      <th>installer_7</th>\n",
              "      <th>installer_8</th>\n",
              "      <th>installer_9</th>\n",
              "      <th>installer_10</th>\n",
              "      <th>installer_11</th>\n",
              "      <th>installer_12</th>\n",
              "      <th>longitude</th>\n",
              "      <th>latitude</th>\n",
              "      <th>subvillage_0</th>\n",
              "      <th>subvillage_1</th>\n",
              "      <th>subvillage_2</th>\n",
              "      <th>subvillage_3</th>\n",
              "      <th>subvillage_4</th>\n",
              "      <th>subvillage_5</th>\n",
              "      <th>subvillage_6</th>\n",
              "      <th>subvillage_7</th>\n",
              "      <th>subvillage_8</th>\n",
              "      <th>subvillage_9</th>\n",
              "      <th>subvillage_10</th>\n",
              "      <th>...</th>\n",
              "      <th>30</th>\n",
              "      <th>31</th>\n",
              "      <th>32</th>\n",
              "      <th>33</th>\n",
              "      <th>34</th>\n",
              "      <th>35</th>\n",
              "      <th>36</th>\n",
              "      <th>37</th>\n",
              "      <th>38</th>\n",
              "      <th>39</th>\n",
              "      <th>40</th>\n",
              "      <th>41</th>\n",
              "      <th>42</th>\n",
              "      <th>43</th>\n",
              "      <th>44</th>\n",
              "      <th>45</th>\n",
              "      <th>46</th>\n",
              "      <th>47</th>\n",
              "      <th>48</th>\n",
              "      <th>49</th>\n",
              "      <th>50</th>\n",
              "      <th>51</th>\n",
              "      <th>52</th>\n",
              "      <th>53</th>\n",
              "      <th>54</th>\n",
              "      <th>55</th>\n",
              "      <th>56</th>\n",
              "      <th>57</th>\n",
              "      <th>58</th>\n",
              "      <th>59</th>\n",
              "      <th>60</th>\n",
              "      <th>61</th>\n",
              "      <th>62</th>\n",
              "      <th>63</th>\n",
              "      <th>64</th>\n",
              "      <th>65</th>\n",
              "      <th>66</th>\n",
              "      <th>67</th>\n",
              "      <th>68</th>\n",
              "      <th>69</th>\n",
              "    </tr>\n",
              "    <tr>\n",
              "      <th>id</th>\n",
              "      <th></th>\n",
              "      <th></th>\n",
              "      <th></th>\n",
              "      <th></th>\n",
              "      <th></th>\n",
              "      <th></th>\n",
              "      <th></th>\n",
              "      <th></th>\n",
              "      <th></th>\n",
              "      <th></th>\n",
              "      <th></th>\n",
              "      <th></th>\n",
              "      <th></th>\n",
              "      <th></th>\n",
              "      <th></th>\n",
              "      <th></th>\n",
              "      <th></th>\n",
              "      <th></th>\n",
              "      <th></th>\n",
              "      <th></th>\n",
              "      <th></th>\n",
              "      <th></th>\n",
              "      <th></th>\n",
              "      <th></th>\n",
              "      <th></th>\n",
              "      <th></th>\n",
              "      <th></th>\n",
              "      <th></th>\n",
              "      <th></th>\n",
              "      <th></th>\n",
              "      <th></th>\n",
              "      <th></th>\n",
              "      <th></th>\n",
              "      <th></th>\n",
              "      <th></th>\n",
              "      <th></th>\n",
              "      <th></th>\n",
              "      <th></th>\n",
              "      <th></th>\n",
              "      <th></th>\n",
              "      <th></th>\n",
              "      <th></th>\n",
              "      <th></th>\n",
              "      <th></th>\n",
              "      <th></th>\n",
              "      <th></th>\n",
              "      <th></th>\n",
              "      <th></th>\n",
              "      <th></th>\n",
              "      <th></th>\n",
              "      <th></th>\n",
              "      <th></th>\n",
              "      <th></th>\n",
              "      <th></th>\n",
              "      <th></th>\n",
              "      <th></th>\n",
              "      <th></th>\n",
              "      <th></th>\n",
              "      <th></th>\n",
              "      <th></th>\n",
              "      <th></th>\n",
              "      <th></th>\n",
              "      <th></th>\n",
              "      <th></th>\n",
              "      <th></th>\n",
              "      <th></th>\n",
              "      <th></th>\n",
              "      <th></th>\n",
              "      <th></th>\n",
              "      <th></th>\n",
              "      <th></th>\n",
              "      <th></th>\n",
              "      <th></th>\n",
              "      <th></th>\n",
              "      <th></th>\n",
              "      <th></th>\n",
              "      <th></th>\n",
              "      <th></th>\n",
              "      <th></th>\n",
              "      <th></th>\n",
              "      <th></th>\n",
              "    </tr>\n",
              "  </thead>\n",
              "  <tbody>\n",
              "    <tr>\n",
              "      <th>50785</th>\n",
              "      <td>0</td>\n",
              "      <td>0</td>\n",
              "      <td>0</td>\n",
              "      <td>0</td>\n",
              "      <td>0</td>\n",
              "      <td>1</td>\n",
              "      <td>0</td>\n",
              "      <td>1</td>\n",
              "      <td>0</td>\n",
              "      <td>0</td>\n",
              "      <td>0</td>\n",
              "      <td>1</td>\n",
              "      <td>1</td>\n",
              "      <td>1996</td>\n",
              "      <td>0</td>\n",
              "      <td>0</td>\n",
              "      <td>0</td>\n",
              "      <td>0</td>\n",
              "      <td>1</td>\n",
              "      <td>0</td>\n",
              "      <td>1</td>\n",
              "      <td>0</td>\n",
              "      <td>1</td>\n",
              "      <td>0</td>\n",
              "      <td>1</td>\n",
              "      <td>0</td>\n",
              "      <td>1</td>\n",
              "      <td>35.290799</td>\n",
              "      <td>-4.059696</td>\n",
              "      <td>0</td>\n",
              "      <td>0</td>\n",
              "      <td>1</td>\n",
              "      <td>0</td>\n",
              "      <td>1</td>\n",
              "      <td>0</td>\n",
              "      <td>1</td>\n",
              "      <td>0</td>\n",
              "      <td>1</td>\n",
              "      <td>0</td>\n",
              "      <td>1</td>\n",
              "      <td>...</td>\n",
              "      <td>0.0</td>\n",
              "      <td>0.0</td>\n",
              "      <td>0.0</td>\n",
              "      <td>1.0</td>\n",
              "      <td>0.0</td>\n",
              "      <td>0.0</td>\n",
              "      <td>0.0</td>\n",
              "      <td>0.0</td>\n",
              "      <td>0.0</td>\n",
              "      <td>0.0</td>\n",
              "      <td>0.0</td>\n",
              "      <td>0.0</td>\n",
              "      <td>0.0</td>\n",
              "      <td>0.0</td>\n",
              "      <td>0.0</td>\n",
              "      <td>0.0</td>\n",
              "      <td>1.0</td>\n",
              "      <td>0.0</td>\n",
              "      <td>0.0</td>\n",
              "      <td>0.0</td>\n",
              "      <td>0.0</td>\n",
              "      <td>1.0</td>\n",
              "      <td>0.0</td>\n",
              "      <td>0.0</td>\n",
              "      <td>0.0</td>\n",
              "      <td>0.0</td>\n",
              "      <td>0.0</td>\n",
              "      <td>0.0</td>\n",
              "      <td>1.0</td>\n",
              "      <td>0.0</td>\n",
              "      <td>0.0</td>\n",
              "      <td>0.0</td>\n",
              "      <td>0.0</td>\n",
              "      <td>0.0</td>\n",
              "      <td>0.0</td>\n",
              "      <td>0.0</td>\n",
              "      <td>0.0</td>\n",
              "      <td>0.0</td>\n",
              "      <td>0.0</td>\n",
              "      <td>1.0</td>\n",
              "    </tr>\n",
              "    <tr>\n",
              "      <th>51630</th>\n",
              "      <td>0</td>\n",
              "      <td>0</td>\n",
              "      <td>0</td>\n",
              "      <td>0</td>\n",
              "      <td>0</td>\n",
              "      <td>0</td>\n",
              "      <td>0</td>\n",
              "      <td>0</td>\n",
              "      <td>1</td>\n",
              "      <td>0</td>\n",
              "      <td>1</td>\n",
              "      <td>0</td>\n",
              "      <td>1</td>\n",
              "      <td>1569</td>\n",
              "      <td>0</td>\n",
              "      <td>0</td>\n",
              "      <td>0</td>\n",
              "      <td>0</td>\n",
              "      <td>0</td>\n",
              "      <td>0</td>\n",
              "      <td>0</td>\n",
              "      <td>0</td>\n",
              "      <td>0</td>\n",
              "      <td>0</td>\n",
              "      <td>1</td>\n",
              "      <td>1</td>\n",
              "      <td>0</td>\n",
              "      <td>36.656709</td>\n",
              "      <td>-3.309214</td>\n",
              "      <td>0</td>\n",
              "      <td>1</td>\n",
              "      <td>0</td>\n",
              "      <td>0</td>\n",
              "      <td>1</td>\n",
              "      <td>0</td>\n",
              "      <td>1</td>\n",
              "      <td>1</td>\n",
              "      <td>0</td>\n",
              "      <td>1</td>\n",
              "      <td>0</td>\n",
              "      <td>...</td>\n",
              "      <td>0.0</td>\n",
              "      <td>0.0</td>\n",
              "      <td>0.0</td>\n",
              "      <td>1.0</td>\n",
              "      <td>0.0</td>\n",
              "      <td>0.0</td>\n",
              "      <td>0.0</td>\n",
              "      <td>0.0</td>\n",
              "      <td>0.0</td>\n",
              "      <td>0.0</td>\n",
              "      <td>0.0</td>\n",
              "      <td>0.0</td>\n",
              "      <td>0.0</td>\n",
              "      <td>0.0</td>\n",
              "      <td>0.0</td>\n",
              "      <td>0.0</td>\n",
              "      <td>1.0</td>\n",
              "      <td>0.0</td>\n",
              "      <td>0.0</td>\n",
              "      <td>0.0</td>\n",
              "      <td>1.0</td>\n",
              "      <td>0.0</td>\n",
              "      <td>0.0</td>\n",
              "      <td>0.0</td>\n",
              "      <td>0.0</td>\n",
              "      <td>0.0</td>\n",
              "      <td>0.0</td>\n",
              "      <td>0.0</td>\n",
              "      <td>0.0</td>\n",
              "      <td>0.0</td>\n",
              "      <td>0.0</td>\n",
              "      <td>1.0</td>\n",
              "      <td>0.0</td>\n",
              "      <td>0.0</td>\n",
              "      <td>0.0</td>\n",
              "      <td>1.0</td>\n",
              "      <td>0.0</td>\n",
              "      <td>0.0</td>\n",
              "      <td>0.0</td>\n",
              "      <td>0.0</td>\n",
              "    </tr>\n",
              "    <tr>\n",
              "      <th>17168</th>\n",
              "      <td>0</td>\n",
              "      <td>0</td>\n",
              "      <td>0</td>\n",
              "      <td>0</td>\n",
              "      <td>0</td>\n",
              "      <td>0</td>\n",
              "      <td>0</td>\n",
              "      <td>0</td>\n",
              "      <td>1</td>\n",
              "      <td>0</td>\n",
              "      <td>1</td>\n",
              "      <td>0</td>\n",
              "      <td>1</td>\n",
              "      <td>1567</td>\n",
              "      <td>0</td>\n",
              "      <td>0</td>\n",
              "      <td>0</td>\n",
              "      <td>0</td>\n",
              "      <td>0</td>\n",
              "      <td>0</td>\n",
              "      <td>0</td>\n",
              "      <td>0</td>\n",
              "      <td>0</td>\n",
              "      <td>0</td>\n",
              "      <td>1</td>\n",
              "      <td>1</td>\n",
              "      <td>0</td>\n",
              "      <td>34.767863</td>\n",
              "      <td>-5.004344</td>\n",
              "      <td>0</td>\n",
              "      <td>0</td>\n",
              "      <td>0</td>\n",
              "      <td>1</td>\n",
              "      <td>1</td>\n",
              "      <td>1</td>\n",
              "      <td>0</td>\n",
              "      <td>0</td>\n",
              "      <td>1</td>\n",
              "      <td>0</td>\n",
              "      <td>1</td>\n",
              "      <td>...</td>\n",
              "      <td>0.0</td>\n",
              "      <td>0.0</td>\n",
              "      <td>0.0</td>\n",
              "      <td>1.0</td>\n",
              "      <td>0.0</td>\n",
              "      <td>0.0</td>\n",
              "      <td>0.0</td>\n",
              "      <td>0.0</td>\n",
              "      <td>0.0</td>\n",
              "      <td>0.0</td>\n",
              "      <td>0.0</td>\n",
              "      <td>0.0</td>\n",
              "      <td>0.0</td>\n",
              "      <td>0.0</td>\n",
              "      <td>0.0</td>\n",
              "      <td>0.0</td>\n",
              "      <td>1.0</td>\n",
              "      <td>0.0</td>\n",
              "      <td>0.0</td>\n",
              "      <td>0.0</td>\n",
              "      <td>1.0</td>\n",
              "      <td>0.0</td>\n",
              "      <td>0.0</td>\n",
              "      <td>0.0</td>\n",
              "      <td>0.0</td>\n",
              "      <td>0.0</td>\n",
              "      <td>0.0</td>\n",
              "      <td>0.0</td>\n",
              "      <td>1.0</td>\n",
              "      <td>0.0</td>\n",
              "      <td>0.0</td>\n",
              "      <td>0.0</td>\n",
              "      <td>0.0</td>\n",
              "      <td>0.0</td>\n",
              "      <td>0.0</td>\n",
              "      <td>0.0</td>\n",
              "      <td>0.0</td>\n",
              "      <td>0.0</td>\n",
              "      <td>0.0</td>\n",
              "      <td>1.0</td>\n",
              "    </tr>\n",
              "    <tr>\n",
              "      <th>45559</th>\n",
              "      <td>0</td>\n",
              "      <td>0</td>\n",
              "      <td>0</td>\n",
              "      <td>0</td>\n",
              "      <td>0</td>\n",
              "      <td>1</td>\n",
              "      <td>0</td>\n",
              "      <td>0</td>\n",
              "      <td>1</td>\n",
              "      <td>0</td>\n",
              "      <td>0</td>\n",
              "      <td>0</td>\n",
              "      <td>0</td>\n",
              "      <td>267</td>\n",
              "      <td>0</td>\n",
              "      <td>0</td>\n",
              "      <td>0</td>\n",
              "      <td>0</td>\n",
              "      <td>0</td>\n",
              "      <td>1</td>\n",
              "      <td>0</td>\n",
              "      <td>0</td>\n",
              "      <td>0</td>\n",
              "      <td>0</td>\n",
              "      <td>0</td>\n",
              "      <td>1</td>\n",
              "      <td>0</td>\n",
              "      <td>38.058046</td>\n",
              "      <td>-9.418672</td>\n",
              "      <td>0</td>\n",
              "      <td>0</td>\n",
              "      <td>0</td>\n",
              "      <td>1</td>\n",
              "      <td>0</td>\n",
              "      <td>1</td>\n",
              "      <td>0</td>\n",
              "      <td>1</td>\n",
              "      <td>1</td>\n",
              "      <td>1</td>\n",
              "      <td>0</td>\n",
              "      <td>...</td>\n",
              "      <td>0.0</td>\n",
              "      <td>0.0</td>\n",
              "      <td>0.0</td>\n",
              "      <td>0.0</td>\n",
              "      <td>0.0</td>\n",
              "      <td>0.0</td>\n",
              "      <td>0.0</td>\n",
              "      <td>0.0</td>\n",
              "      <td>0.0</td>\n",
              "      <td>1.0</td>\n",
              "      <td>0.0</td>\n",
              "      <td>0.0</td>\n",
              "      <td>0.0</td>\n",
              "      <td>0.0</td>\n",
              "      <td>0.0</td>\n",
              "      <td>0.0</td>\n",
              "      <td>1.0</td>\n",
              "      <td>0.0</td>\n",
              "      <td>1.0</td>\n",
              "      <td>0.0</td>\n",
              "      <td>0.0</td>\n",
              "      <td>0.0</td>\n",
              "      <td>0.0</td>\n",
              "      <td>0.0</td>\n",
              "      <td>0.0</td>\n",
              "      <td>0.0</td>\n",
              "      <td>0.0</td>\n",
              "      <td>0.0</td>\n",
              "      <td>0.0</td>\n",
              "      <td>0.0</td>\n",
              "      <td>1.0</td>\n",
              "      <td>0.0</td>\n",
              "      <td>0.0</td>\n",
              "      <td>0.0</td>\n",
              "      <td>0.0</td>\n",
              "      <td>0.0</td>\n",
              "      <td>0.0</td>\n",
              "      <td>0.0</td>\n",
              "      <td>0.0</td>\n",
              "      <td>1.0</td>\n",
              "    </tr>\n",
              "    <tr>\n",
              "      <th>49871</th>\n",
              "      <td>0</td>\n",
              "      <td>0</td>\n",
              "      <td>1</td>\n",
              "      <td>0</td>\n",
              "      <td>0</td>\n",
              "      <td>0</td>\n",
              "      <td>0</td>\n",
              "      <td>0</td>\n",
              "      <td>0</td>\n",
              "      <td>1</td>\n",
              "      <td>1</td>\n",
              "      <td>0</td>\n",
              "      <td>1</td>\n",
              "      <td>1260</td>\n",
              "      <td>0</td>\n",
              "      <td>0</td>\n",
              "      <td>1</td>\n",
              "      <td>0</td>\n",
              "      <td>0</td>\n",
              "      <td>0</td>\n",
              "      <td>1</td>\n",
              "      <td>1</td>\n",
              "      <td>0</td>\n",
              "      <td>1</td>\n",
              "      <td>1</td>\n",
              "      <td>0</td>\n",
              "      <td>0</td>\n",
              "      <td>35.006123</td>\n",
              "      <td>-10.950412</td>\n",
              "      <td>0</td>\n",
              "      <td>0</td>\n",
              "      <td>0</td>\n",
              "      <td>0</td>\n",
              "      <td>1</td>\n",
              "      <td>0</td>\n",
              "      <td>1</td>\n",
              "      <td>1</td>\n",
              "      <td>0</td>\n",
              "      <td>1</td>\n",
              "      <td>0</td>\n",
              "      <td>...</td>\n",
              "      <td>1.0</td>\n",
              "      <td>0.0</td>\n",
              "      <td>0.0</td>\n",
              "      <td>0.0</td>\n",
              "      <td>0.0</td>\n",
              "      <td>0.0</td>\n",
              "      <td>1.0</td>\n",
              "      <td>0.0</td>\n",
              "      <td>0.0</td>\n",
              "      <td>0.0</td>\n",
              "      <td>0.0</td>\n",
              "      <td>0.0</td>\n",
              "      <td>0.0</td>\n",
              "      <td>0.0</td>\n",
              "      <td>0.0</td>\n",
              "      <td>0.0</td>\n",
              "      <td>1.0</td>\n",
              "      <td>0.0</td>\n",
              "      <td>0.0</td>\n",
              "      <td>1.0</td>\n",
              "      <td>0.0</td>\n",
              "      <td>0.0</td>\n",
              "      <td>0.0</td>\n",
              "      <td>0.0</td>\n",
              "      <td>0.0</td>\n",
              "      <td>0.0</td>\n",
              "      <td>0.0</td>\n",
              "      <td>0.0</td>\n",
              "      <td>0.0</td>\n",
              "      <td>0.0</td>\n",
              "      <td>0.0</td>\n",
              "      <td>1.0</td>\n",
              "      <td>0.0</td>\n",
              "      <td>0.0</td>\n",
              "      <td>0.0</td>\n",
              "      <td>1.0</td>\n",
              "      <td>0.0</td>\n",
              "      <td>0.0</td>\n",
              "      <td>0.0</td>\n",
              "      <td>0.0</td>\n",
              "    </tr>\n",
              "  </tbody>\n",
              "</table>\n",
              "<p>5 rows × 159 columns</p>\n",
              "</div>"
            ],
            "text/plain": [
              "       funder_0  funder_1  funder_2  funder_3  ...   66   67   68   69\n",
              "id                                             ...                    \n",
              "50785         0         0         0         0  ...  0.0  0.0  0.0  1.0\n",
              "51630         0         0         0         0  ...  0.0  0.0  0.0  0.0\n",
              "17168         0         0         0         0  ...  0.0  0.0  0.0  1.0\n",
              "45559         0         0         0         0  ...  0.0  0.0  0.0  1.0\n",
              "49871         0         0         1         0  ...  0.0  0.0  0.0  0.0\n",
              "\n",
              "[5 rows x 159 columns]"
            ]
          },
          "metadata": {},
          "execution_count": 97
        }
      ]
    },
    {
      "cell_type": "code",
      "metadata": {
        "colab": {
          "base_uri": "https://localhost:8080/"
        },
        "id": "_eqCEVu-mCFl",
        "outputId": "76be9c8c-91b4-405e-bc6e-476329c3ee76"
      },
      "source": [
        "X.shape"
      ],
      "execution_count": null,
      "outputs": [
        {
          "output_type": "execute_result",
          "data": {
            "text/plain": [
              "(59400, 159)"
            ]
          },
          "metadata": {},
          "execution_count": 98
        }
      ]
    },
    {
      "cell_type": "code",
      "metadata": {
        "colab": {
          "base_uri": "https://localhost:8080/"
        },
        "id": "65B61fnomEoc",
        "outputId": "ee7eae27-0e36-449d-9b62-0c1c0c8cd21a"
      },
      "source": [
        "X_test.shape"
      ],
      "execution_count": null,
      "outputs": [
        {
          "output_type": "execute_result",
          "data": {
            "text/plain": [
              "(14850, 159)"
            ]
          },
          "metadata": {},
          "execution_count": 99
        }
      ]
    },
    {
      "cell_type": "markdown",
      "metadata": {
        "id": "OFBoo4fMwBvM"
      },
      "source": [
        "#**Principle Components Analysis (PCA)**"
      ]
    },
    {
      "cell_type": "code",
      "metadata": {
        "id": "kINT4LU0wkFL"
      },
      "source": [
        "df_copy = df.copy()"
      ],
      "execution_count": null,
      "outputs": []
    },
    {
      "cell_type": "code",
      "metadata": {
        "colab": {
          "base_uri": "https://localhost:8080/",
          "height": 233
        },
        "id": "KZUfBYCtxH38",
        "outputId": "7b563a86-5939-497f-8083-af9447266f86"
      },
      "source": [
        "y.head()"
      ],
      "execution_count": null,
      "outputs": [
        {
          "output_type": "execute_result",
          "data": {
            "text/html": [
              "<div>\n",
              "<style scoped>\n",
              "    .dataframe tbody tr th:only-of-type {\n",
              "        vertical-align: middle;\n",
              "    }\n",
              "\n",
              "    .dataframe tbody tr th {\n",
              "        vertical-align: top;\n",
              "    }\n",
              "\n",
              "    .dataframe thead th {\n",
              "        text-align: right;\n",
              "    }\n",
              "</style>\n",
              "<table border=\"1\" class=\"dataframe\">\n",
              "  <thead>\n",
              "    <tr style=\"text-align: right;\">\n",
              "      <th></th>\n",
              "      <th>status_group</th>\n",
              "    </tr>\n",
              "    <tr>\n",
              "      <th>id</th>\n",
              "      <th></th>\n",
              "    </tr>\n",
              "  </thead>\n",
              "  <tbody>\n",
              "    <tr>\n",
              "      <th>69572</th>\n",
              "      <td>functional</td>\n",
              "    </tr>\n",
              "    <tr>\n",
              "      <th>8776</th>\n",
              "      <td>functional</td>\n",
              "    </tr>\n",
              "    <tr>\n",
              "      <th>34310</th>\n",
              "      <td>functional</td>\n",
              "    </tr>\n",
              "    <tr>\n",
              "      <th>67743</th>\n",
              "      <td>non functional</td>\n",
              "    </tr>\n",
              "    <tr>\n",
              "      <th>19728</th>\n",
              "      <td>functional</td>\n",
              "    </tr>\n",
              "  </tbody>\n",
              "</table>\n",
              "</div>"
            ],
            "text/plain": [
              "         status_group\n",
              "id                   \n",
              "69572      functional\n",
              "8776       functional\n",
              "34310      functional\n",
              "67743  non functional\n",
              "19728      functional"
            ]
          },
          "metadata": {},
          "execution_count": 90
        }
      ]
    },
    {
      "cell_type": "code",
      "metadata": {
        "colab": {
          "base_uri": "https://localhost:8080/",
          "height": 202
        },
        "id": "fPlFvOmRwBXF",
        "outputId": "6d9062d9-bf0d-4695-98bc-78733147741e"
      },
      "source": [
        "pca = PCA(n_components=2)\n",
        "# X_pca = pca.fit_transform(df_copy)\n",
        "X_pca = pca.fit_transform(X)\n",
        "PCA_df = pd.DataFrame(data = X_pca, columns = ['PC1', 'PC2'])\n",
        "PCA_df = pd.concat([PCA_df, Y_copy], axis = 1)\n",
        "PCA_df.head()"
      ],
      "execution_count": null,
      "outputs": [
        {
          "output_type": "execute_result",
          "data": {
            "text/html": [
              "<div>\n",
              "<style scoped>\n",
              "    .dataframe tbody tr th:only-of-type {\n",
              "        vertical-align: middle;\n",
              "    }\n",
              "\n",
              "    .dataframe tbody tr th {\n",
              "        vertical-align: top;\n",
              "    }\n",
              "\n",
              "    .dataframe thead th {\n",
              "        text-align: right;\n",
              "    }\n",
              "</style>\n",
              "<table border=\"1\" class=\"dataframe\">\n",
              "  <thead>\n",
              "    <tr style=\"text-align: right;\">\n",
              "      <th></th>\n",
              "      <th>PC1</th>\n",
              "      <th>PC2</th>\n",
              "      <th>status_group</th>\n",
              "    </tr>\n",
              "  </thead>\n",
              "  <tbody>\n",
              "    <tr>\n",
              "      <th>0</th>\n",
              "      <td>727.766445</td>\n",
              "      <td>-145.249432</td>\n",
              "      <td>2.0</td>\n",
              "    </tr>\n",
              "    <tr>\n",
              "      <th>1</th>\n",
              "      <td>730.153949</td>\n",
              "      <td>25.990478</td>\n",
              "      <td>0.0</td>\n",
              "    </tr>\n",
              "    <tr>\n",
              "      <th>2</th>\n",
              "      <td>18.837127</td>\n",
              "      <td>-31.058355</td>\n",
              "      <td>0.0</td>\n",
              "    </tr>\n",
              "    <tr>\n",
              "      <th>3</th>\n",
              "      <td>-396.880949</td>\n",
              "      <td>-238.771432</td>\n",
              "      <td>0.0</td>\n",
              "    </tr>\n",
              "    <tr>\n",
              "      <th>4</th>\n",
              "      <td>-667.902062</td>\n",
              "      <td>-24.157339</td>\n",
              "      <td>2.0</td>\n",
              "    </tr>\n",
              "  </tbody>\n",
              "</table>\n",
              "</div>"
            ],
            "text/plain": [
              "          PC1         PC2  status_group\n",
              "0  727.766445 -145.249432           2.0\n",
              "1  730.153949   25.990478           0.0\n",
              "2   18.837127  -31.058355           0.0\n",
              "3 -396.880949 -238.771432           0.0\n",
              "4 -667.902062  -24.157339           2.0"
            ]
          },
          "metadata": {},
          "execution_count": 113
        }
      ]
    },
    {
      "cell_type": "code",
      "metadata": {
        "colab": {
          "base_uri": "https://localhost:8080/",
          "height": 572
        },
        "id": "_FOoiL81yxvo",
        "outputId": "6199b1b5-1e36-4332-a153-9d5aff3c9dfa"
      },
      "source": [
        "figure(num=None, figsize=(8, 8), dpi=80, facecolor='w', edgecolor='k')\n",
        "\n",
        "classes = [2, 1, 0]\n",
        "colors = ['r', 'g', 'b']\n",
        "for clas, color in zip(classes, colors):\n",
        "    plt.scatter(PCA_df.loc[PCA_df['status_group'] == clas, 'PC1'], \n",
        "                PCA_df.loc[PCA_df['status_group'] == clas, 'PC2'], \n",
        "                c = color)\n",
        "    \n",
        "plt.xlabel('Principal Component 1', fontsize = 12)\n",
        "plt.ylabel('Principal Component 2', fontsize = 12)\n",
        "plt.title('2D PCA', fontsize = 15)\n",
        "plt.legend(['functional', 'non functional','functional needs repair'])\n",
        "plt.grid()"
      ],
      "execution_count": null,
      "outputs": [
        {
          "output_type": "display_data",
          "data": {
            "image/png": "[encoded data removed]",
            "text/plain": [
              "<Figure size 640x640 with 1 Axes>"
            ]
          },
          "metadata": {}
        }
      ]
    },
    {
      "cell_type": "code",
      "metadata": {
        "colab": {
          "base_uri": "https://localhost:8080/"
        },
        "id": "GDKYMvNj3uYO",
        "outputId": "3914f261-9d00-4bf4-8150-04011eae1790"
      },
      "source": [
        "pca = PCA(n_components=2,svd_solver='full')\n",
        "X_pca = pca.fit_transform(df_copy)\n",
        "print(pca.explained_variance_)"
      ],
      "execution_count": null,
      "outputs": [
        {
          "output_type": "stream",
          "name": "stdout",
          "text": [
            "[480364.11211498 203021.49784488]\n"
          ]
        }
      ]
    },
    {
      "cell_type": "code",
      "metadata": {
        "colab": {
          "base_uri": "https://localhost:8080/"
        },
        "id": "uILUiJ-J2mpm",
        "outputId": "526b24e9-1b55-4e48-be3d-da4e62a46570"
      },
      "source": [
        "#pca.explained_variance_ratio_\n",
        "print ( \"Components = \", pca.n_components , \";\\nTotal explained variance = \",\n",
        "      round(pca.explained_variance_ratio_.sum(),5)  )"
      ],
      "execution_count": null,
      "outputs": [
        {
          "output_type": "stream",
          "name": "stdout",
          "text": [
            "Components =  2 ;\n",
            "Total explained variance =  0.99902\n"
          ]
        }
      ]
    },
    {
      "cell_type": "code",
      "metadata": {
        "colab": {
          "base_uri": "https://localhost:8080/"
        },
        "id": "RRRRGZFPxNU1",
        "outputId": "407af9f1-6b8d-4610-db96-464aa43f35f4"
      },
      "source": [
        "pca = PCA(n_components=2,svd_solver='full')\n",
        "X_pca = pca.fit_transform(X)\n",
        "print(pca.explained_variance_)"
      ],
      "execution_count": null,
      "outputs": [
        {
          "output_type": "stream",
          "name": "stdout",
          "text": [
            "[480843.25411395 203695.61078303]\n"
          ]
        }
      ]
    },
    {
      "cell_type": "markdown",
      "metadata": {
        "id": "AUWvzAg9mIF5"
      },
      "source": [
        "#**Model Training**"
      ]
    },
    {
      "cell_type": "code",
      "metadata": {
        "id": "ysK4gyApmH0h"
      },
      "source": [
        "def score_dataset(X, y, model):\n",
        "    # Label encoding for categoricals\n",
        "    # for colname in X.select_dtypes([\"category\", \"object\"]):\n",
        "    #     X[colname], _ = X[colname].factorize()\n",
        "    cv = RepeatedStratifiedKFold(n_splits=10, n_repeats=3, random_state=0)\n",
        "    # Metric is ROC AUC\n",
        "    score = cross_val_score(\n",
        "        model, X, y, scoring='accuracy', cv=cv, n_jobs=-1, error_score='raise')\n",
        "    print('Accuracy: %.3f (%.3f)' % (mean(score), std(score)))"
      ],
      "execution_count": null,
      "outputs": []
    },
    {
      "cell_type": "code",
      "metadata": {
        "id": "eoZ5j382mNxZ"
      },
      "source": [
        "modelRF = RandomForestClassifier(n_estimators=400, random_state=0,max_depth=20)\n",
        "modelETC = ExtraTreesClassifier(n_estimators=1000,min_samples_split=10)\n",
        "modelXGB = XGBClassifier()\n",
        "modelCAT = CatBoostClassifier(max_ctr_complexity=5, task_type='CPU', iterations=10000,\n",
        "                   eval_metric='AUC', od_type='Iter', od_wait=500, loss_function = 'MultiClass', random_seed=1, depth=10, learning_rate = 0.03, l2_leaf_reg = 1)\n",
        "modelMLP = MLPClassifier()"
      ],
      "execution_count": null,
      "outputs": []
    },
    {
      "cell_type": "code",
      "metadata": {
        "colab": {
          "base_uri": "https://localhost:8080/"
        },
        "id": "kPR5QH0fzVf9",
        "outputId": "e6c3cd56-41e6-45f0-dc97-e950afefbec3"
      },
      "source": [
        "# score model\n",
        "scoreRF = score_dataset(X,y,modelRF)"
      ],
      "execution_count": null,
      "outputs": [
        {
          "output_type": "stream",
          "name": "stdout",
          "text": [
            "Accuracy: 0.816 (0.005)\n"
          ]
        }
      ]
    },
    {
      "cell_type": "code",
      "metadata": {
        "colab": {
          "base_uri": "https://localhost:8080/"
        },
        "id": "EOkGe031mesr",
        "outputId": "96aa5f9c-6279-426c-def5-46ebe90d486c"
      },
      "source": [
        "# score model\n",
        "scoreXGB = score_dataset(X,y,modelXGB)"
      ],
      "execution_count": null,
      "outputs": [
        {
          "output_type": "stream",
          "name": "stdout",
          "text": [
            "Accuracy: 0.745 (0.004)\n"
          ]
        }
      ]
    },
    {
      "cell_type": "code",
      "metadata": {
        "id": "_tiQbbGITdc-",
        "colab": {
          "base_uri": "https://localhost:8080/"
        },
        "outputId": "ffe631b8-d05b-4658-8227-3a64cf5debb8"
      },
      "source": [
        "# score model\n",
        "scoreETC = score_dataset(X,y,modelETC)"
      ],
      "execution_count": null,
      "outputs": [
        {
          "output_type": "stream",
          "name": "stdout",
          "text": [
            "Accuracy: 0.812 (0.004)\n"
          ]
        }
      ]
    },
    {
      "cell_type": "markdown",
      "metadata": {
        "id": "fslCsVp9tPen"
      },
      "source": [
        "#**Hyperparameter Tunning**"
      ]
    },
    {
      "cell_type": "code",
      "metadata": {
        "id": "Yd4CQgeNtTei"
      },
      "source": [
        "def grid_search(model, params, X_tune, y_tune):\n",
        "  clf =  GridSearchCV(model, params, cv=5, scoring='accuracy')\n",
        "  clf.fit(X_tune, y_tune)\n",
        "  return clf.best_score_, clf.best_params_"
      ],
      "execution_count": null,
      "outputs": []
    },
    {
      "cell_type": "code",
      "metadata": {
        "id": "WRbSrfC-tc_q"
      },
      "source": [
        "model_params = {\n",
        "    'random_forest': {\n",
        "        'model': RandomForestClassifier(),\n",
        "        'params' : {\n",
        "            'n_estimators': [50,100,200,400],\n",
        "            'max_depth': [5, 10, 20, 100]\n",
        "        }\n",
        "    },\n",
        "    'xg_boost': {\n",
        "        'model': XGBClassifier(),\n",
        "        'params' : {\n",
        "            'eta': [0.01, 0.1, 0.2, 0.4],\n",
        "            'max_depth': [5, 10, 15, 20, 22, 100]\n",
        "        }\n",
        "    },\n",
        "    'cat_boost': {\n",
        "        'model': CatBoostClassifier(loss_function = 'MultiClass', iterations=1000),\n",
        "        'params' : {\n",
        "            'learning_rate': [0.03, 0.1],\n",
        "            'depth':[4, 6, 10],\n",
        "            'l2_leaf_reg': [1, 3, 5, 7, 9]\n",
        "        }\n",
        "    }\n",
        "}"
      ],
      "execution_count": null,
      "outputs": []
    },
    {
      "cell_type": "code",
      "metadata": {
        "id": "OMLXdFNgtgA_"
      },
      "source": [
        "X_tune=X\n",
        "y_tune = y.status_group"
      ],
      "execution_count": null,
      "outputs": []
    },
    {
      "cell_type": "code",
      "metadata": {
        "colab": {
          "background_save": true
        },
        "id": "vGOhwsh7tkZW",
        "outputId": "81f8f584-4d65-452d-ed5d-2c6ffa81b435"
      },
      "source": [
        "best_score, best_params = grid_search(model_params['random_forest']['model'], model_params['random_forest']['params'], X_tune, y_tune)\n",
        "print(best_score, best_params)"
      ],
      "execution_count": null,
      "outputs": [
        {
          "name": "stdout",
          "output_type": "stream",
          "text": [
            "0.8132491582491583 {'max_depth': 20, 'n_estimators': 400}\n"
          ]
        }
      ]
    },
    {
      "cell_type": "code",
      "metadata": {
        "id": "HS2Oa_9Ztmj9"
      },
      "source": [
        "best_score, best_params = grid_search(model_params['xg_boost']['model'], model_params['xg_boost']['params'], X_tune, y_tune)\n",
        "print(best_score, best_params)"
      ],
      "execution_count": null,
      "outputs": []
    },
    {
      "cell_type": "code",
      "metadata": {
        "id": "0Thgp8gQtnXt"
      },
      "source": [
        "best_score, best_params = grid_search(model_params['cat_boost']['model'], model_params['cat_boost']['params'], X_tune, y_tune)\n",
        "print(best_score, best_params)"
      ],
      "execution_count": null,
      "outputs": []
    },
    {
      "cell_type": "markdown",
      "metadata": {
        "id": "ql9fCGpvrKeA"
      },
      "source": [
        "#**Ensembling**"
      ]
    },
    {
      "cell_type": "code",
      "metadata": {
        "id": "SGrFsMUkqFXr"
      },
      "source": [
        "estimators_stacked = [\n",
        "              ('xbg', modelXGB),\n",
        "              # ('mlp', modelMLP),\n",
        "              #('xt', modelETC),\n",
        "              ('rn', modelRF)\n",
        "              #('nb', est_nb),\n",
        "              \n",
        "             ]\n",
        "\n",
        "# Stacking Classifier\n",
        "stacked_estimator =  StackingClassifier(estimators=estimators_stacked,\n",
        "                                    final_estimator=LogisticRegression()  \n",
        "                                  )\n",
        "# Voting Classifier\n",
        "voting_estimator = VotingClassifier(estimators=estimators_stacked, \n",
        "                        voting='hard')  # hard if labels needed, soft if probabilites needed"
      ],
      "execution_count": null,
      "outputs": []
    },
    {
      "cell_type": "code",
      "metadata": {
        "id": "BTw4UMFMo8SK"
      },
      "source": [
        "# score model\n",
        "scoreEns = score_dataset(X,y,stacked_estimator)"
      ],
      "execution_count": null,
      "outputs": []
    },
    {
      "cell_type": "markdown",
      "metadata": {
        "id": "BXlAclbqrVqP"
      },
      "source": [
        "#**Train on entire dataset**"
      ]
    },
    {
      "cell_type": "code",
      "metadata": {
        "colab": {
          "base_uri": "https://localhost:8080/"
        },
        "id": "C3-xaUyerP4a",
        "outputId": "f0c18c34-b319-42b9-b0cf-7d0c919a88b0"
      },
      "source": [
        "model = modelRF\n",
        "X_train = X\n",
        "y_train = y\n",
        "\n",
        "model.fit(X_train, y_train)"
      ],
      "execution_count": null,
      "outputs": [
        {
          "output_type": "stream",
          "name": "stderr",
          "text": [
            "/usr/local/lib/python3.7/dist-packages/ipykernel_launcher.py:5: DataConversionWarning: A column-vector y was passed when a 1d array was expected. Please change the shape of y to (n_samples,), for example using ravel().\n",
            "  \"\"\"\n"
          ]
        },
        {
          "output_type": "execute_result",
          "data": {
            "text/plain": [
              "RandomForestClassifier(bootstrap=True, ccp_alpha=0.0, class_weight=None,\n",
              "                       criterion='gini', max_depth=20, max_features='auto',\n",
              "                       max_leaf_nodes=None, max_samples=None,\n",
              "                       min_impurity_decrease=0.0, min_impurity_split=None,\n",
              "                       min_samples_leaf=1, min_samples_split=2,\n",
              "                       min_weight_fraction_leaf=0.0, n_estimators=400,\n",
              "                       n_jobs=None, oob_score=False, random_state=0, verbose=0,\n",
              "                       warm_start=False)"
            ]
          },
          "metadata": {},
          "execution_count": 102
        }
      ]
    },
    {
      "cell_type": "code",
      "metadata": {
        "colab": {
          "base_uri": "https://localhost:8080/"
        },
        "id": "QRMeR6QShd4X",
        "outputId": "0b564e9a-9b7e-4b3a-9484-b5d2cfb7e3d2"
      },
      "source": [
        "modelEns = stacked_estimator\n",
        "X_train = X\n",
        "y_train = y\n",
        "\n",
        "modelEns.fit(X_train, y_train)"
      ],
      "execution_count": null,
      "outputs": [
        {
          "output_type": "stream",
          "name": "stderr",
          "text": [
            "/usr/local/lib/python3.7/dist-packages/sklearn/preprocessing/_label.py:235: DataConversionWarning: A column-vector y was passed when a 1d array was expected. Please change the shape of y to (n_samples, ), for example using ravel().\n",
            "  y = column_or_1d(y, warn=True)\n",
            "/usr/local/lib/python3.7/dist-packages/sklearn/preprocessing/_label.py:268: DataConversionWarning: A column-vector y was passed when a 1d array was expected. Please change the shape of y to (n_samples, ), for example using ravel().\n",
            "  y = column_or_1d(y, warn=True)\n"
          ]
        },
        {
          "output_type": "execute_result",
          "data": {
            "text/plain": [
              "StackingClassifier(cv=None,\n",
              "                   estimators=[('xbg',\n",
              "                                XGBClassifier(base_score=0.5, booster='gbtree',\n",
              "                                              colsample_bylevel=1,\n",
              "                                              colsample_bynode=1,\n",
              "                                              colsample_bytree=1, gamma=0,\n",
              "                                              learning_rate=0.1,\n",
              "                                              max_delta_step=0, max_depth=3,\n",
              "                                              min_child_weight=1, missing=None,\n",
              "                                              n_estimators=100, n_jobs=1,\n",
              "                                              nthread=None,\n",
              "                                              objective='binary:logistic',\n",
              "                                              random_state=0, reg_alpha=0,\n",
              "                                              reg_lambda=1, scale_...\n",
              "                                                       random_state=0,\n",
              "                                                       verbose=0,\n",
              "                                                       warm_start=False))],\n",
              "                   final_estimator=LogisticRegression(C=1.0, class_weight=None,\n",
              "                                                      dual=False,\n",
              "                                                      fit_intercept=True,\n",
              "                                                      intercept_scaling=1,\n",
              "                                                      l1_ratio=None,\n",
              "                                                      max_iter=100,\n",
              "                                                      multi_class='auto',\n",
              "                                                      n_jobs=None, penalty='l2',\n",
              "                                                      random_state=None,\n",
              "                                                      solver='lbfgs',\n",
              "                                                      tol=0.0001, verbose=0,\n",
              "                                                      warm_start=False),\n",
              "                   n_jobs=None, passthrough=False, stack_method='auto',\n",
              "                   verbose=0)"
            ]
          },
          "metadata": {},
          "execution_count": 339
        }
      ]
    },
    {
      "cell_type": "markdown",
      "metadata": {
        "id": "mvsIiXParx2R"
      },
      "source": [
        "#**Predict**"
      ]
    },
    {
      "cell_type": "code",
      "metadata": {
        "id": "kUdjdGoYrux_"
      },
      "source": [
        "predict=model.predict(X_test)"
      ],
      "execution_count": null,
      "outputs": []
    },
    {
      "cell_type": "markdown",
      "metadata": {
        "id": "7TrPwV1RRFS9"
      },
      "source": [
        "#**Feature Importance**"
      ]
    },
    {
      "cell_type": "code",
      "metadata": {
        "colab": {
          "base_uri": "https://localhost:8080/",
          "height": 1000
        },
        "id": "x_-ZssTtRPAB",
        "outputId": "f05d2cdb-fb72-4cfa-8bd3-506d018ea495"
      },
      "source": [
        "figure(num=None, figsize=(20, 22), dpi=80, facecolor='w', edgecolor='k')\n",
        "\n",
        "feat_importances = pd.Series(modelRF.feature_importances_, index= X.columns)\n",
        "feat_importances.nlargest(15).plot(kind='barh')"
      ],
      "execution_count": null,
      "outputs": [
        {
          "output_type": "execute_result",
          "data": {
            "text/plain": [
              "<matplotlib.axes._subplots.AxesSubplot at 0x7f47c1d85210>"
            ]
          },
          "metadata": {},
          "execution_count": 104
        },
        {
          "output_type": "display_data",
          "data": {
            "image/png": "[encoded data removed]",
            "text/plain": [
              "<Figure size 1600x1760 with 1 Axes>"
            ]
          },
          "metadata": {}
        }
      ]
    },
    {
      "cell_type": "markdown",
      "metadata": {
        "id": "GffICyEva3O6"
      },
      "source": [
        "#**Partial Dependency Plots**"
      ]
    },
    {
      "cell_type": "code",
      "metadata": {
        "colab": {
          "base_uri": "https://localhost:8080/",
          "height": 708
        },
        "id": "CoeOCRMbp6_a",
        "outputId": "de32ebfb-853a-4184-f97b-5cb43d9555c8"
      },
      "source": [
        "pip install dalex"
      ],
      "execution_count": null,
      "outputs": [
        {
          "output_type": "stream",
          "name": "stdout",
          "text": [
            "Collecting dalex\n",
            "  Downloading dalex-1.4.0.tar.gz (1.0 MB)\n",
            "\u001b[?25l\r\u001b[K     |▎                               | 10 kB 27.2 MB/s eta 0:00:01\r\u001b[K     |▋                               | 20 kB 30.8 MB/s eta 0:00:01\r\u001b[K     |█                               | 30 kB 20.4 MB/s eta 0:00:01\r\u001b[K     |█▎                              | 40 kB 17.5 MB/s eta 0:00:01\r\u001b[K     |█▋                              | 51 kB 7.8 MB/s eta 0:00:01\r\u001b[K     |██                              | 61 kB 8.2 MB/s eta 0:00:01\r\u001b[K     |██▎                             | 71 kB 7.0 MB/s eta 0:00:01\r\u001b[K     |██▋                             | 81 kB 7.8 MB/s eta 0:00:01\r\u001b[K     |███                             | 92 kB 8.1 MB/s eta 0:00:01\r\u001b[K     |███▏                            | 102 kB 7.3 MB/s eta 0:00:01\r\u001b[K     |███▌                            | 112 kB 7.3 MB/s eta 0:00:01\r\u001b[K     |███▉                            | 122 kB 7.3 MB/s eta 0:00:01\r\u001b[K     |████▏                           | 133 kB 7.3 MB/s eta 0:00:01\r\u001b[K     |████▌                           | 143 kB 7.3 MB/s eta 0:00:01\r\u001b[K     |████▉                           | 153 kB 7.3 MB/s eta 0:00:01\r\u001b[K     |█████▏                          | 163 kB 7.3 MB/s eta 0:00:01\r\u001b[K     |█████▌                          | 174 kB 7.3 MB/s eta 0:00:01\r\u001b[K     |█████▉                          | 184 kB 7.3 MB/s eta 0:00:01\r\u001b[K     |██████▏                         | 194 kB 7.3 MB/s eta 0:00:01\r\u001b[K     |██████▍                         | 204 kB 7.3 MB/s eta 0:00:01\r\u001b[K     |██████▊                         | 215 kB 7.3 MB/s eta 0:00:01\r\u001b[K     |███████                         | 225 kB 7.3 MB/s eta 0:00:01\r\u001b[K     |███████▍                        | 235 kB 7.3 MB/s eta 0:00:01\r\u001b[K     |███████▊                        | 245 kB 7.3 MB/s eta 0:00:01\r\u001b[K     |████████                        | 256 kB 7.3 MB/s eta 0:00:01\r\u001b[K     |████████▍                       | 266 kB 7.3 MB/s eta 0:00:01\r\u001b[K     |████████▊                       | 276 kB 7.3 MB/s eta 0:00:01\r\u001b[K     |█████████                       | 286 kB 7.3 MB/s eta 0:00:01\r\u001b[K     |█████████▍                      | 296 kB 7.3 MB/s eta 0:00:01\r\u001b[K     |█████████▋                      | 307 kB 7.3 MB/s eta 0:00:01\r\u001b[K     |██████████                      | 317 kB 7.3 MB/s eta 0:00:01\r\u001b[K     |██████████▎                     | 327 kB 7.3 MB/s eta 0:00:01\r\u001b[K     |██████████▋                     | 337 kB 7.3 MB/s eta 0:00:01\r\u001b[K     |███████████                     | 348 kB 7.3 MB/s eta 0:00:01\r\u001b[K     |███████████▎                    | 358 kB 7.3 MB/s eta 0:00:01\r\u001b[K     |███████████▋                    | 368 kB 7.3 MB/s eta 0:00:01\r\u001b[K     |████████████                    | 378 kB 7.3 MB/s eta 0:00:01\r\u001b[K     |████████████▎                   | 389 kB 7.3 MB/s eta 0:00:01\r\u001b[K     |████████████▋                   | 399 kB 7.3 MB/s eta 0:00:01\r\u001b[K     |████████████▉                   | 409 kB 7.3 MB/s eta 0:00:01\r\u001b[K     |█████████████▏                  | 419 kB 7.3 MB/s eta 0:00:01\r\u001b[K     |█████████████▌                  | 430 kB 7.3 MB/s eta 0:00:01\r\u001b[K     |█████████████▉                  | 440 kB 7.3 MB/s eta 0:00:01\r\u001b[K     |██████████████▏                 | 450 kB 7.3 MB/s eta 0:00:01\r\u001b[K     |██████████████▌                 | 460 kB 7.3 MB/s eta 0:00:01\r\u001b[K     |██████████████▉                 | 471 kB 7.3 MB/s eta 0:00:01\r\u001b[K     |███████████████▏                | 481 kB 7.3 MB/s eta 0:00:01\r\u001b[K     |███████████████▌                | 491 kB 7.3 MB/s eta 0:00:01\r\u001b[K     |███████████████▉                | 501 kB 7.3 MB/s eta 0:00:01\r\u001b[K     |████████████████                | 512 kB 7.3 MB/s eta 0:00:01\r\u001b[K     |████████████████▍               | 522 kB 7.3 MB/s eta 0:00:01\r\u001b[K     |████████████████▊               | 532 kB 7.3 MB/s eta 0:00:01\r\u001b[K     |█████████████████               | 542 kB 7.3 MB/s eta 0:00:01\r\u001b[K     |█████████████████▍              | 552 kB 7.3 MB/s eta 0:00:01\r\u001b[K     |█████████████████▊              | 563 kB 7.3 MB/s eta 0:00:01\r\u001b[K     |██████████████████              | 573 kB 7.3 MB/s eta 0:00:01\r\u001b[K     |██████████████████▍             | 583 kB 7.3 MB/s eta 0:00:01\r\u001b[K     |██████████████████▊             | 593 kB 7.3 MB/s eta 0:00:01\r\u001b[K     |███████████████████             | 604 kB 7.3 MB/s eta 0:00:01\r\u001b[K     |███████████████████▎            | 614 kB 7.3 MB/s eta 0:00:01\r\u001b[K     |███████████████████▋            | 624 kB 7.3 MB/s eta 0:00:01\r\u001b[K     |████████████████████            | 634 kB 7.3 MB/s eta 0:00:01\r\u001b[K     |████████████████████▎           | 645 kB 7.3 MB/s eta 0:00:01\r\u001b[K     |████████████████████▋           | 655 kB 7.3 MB/s eta 0:00:01\r\u001b[K     |█████████████████████           | 665 kB 7.3 MB/s eta 0:00:01\r\u001b[K     |█████████████████████▎          | 675 kB 7.3 MB/s eta 0:00:01\r\u001b[K     |█████████████████████▋          | 686 kB 7.3 MB/s eta 0:00:01\r\u001b[K     |██████████████████████          | 696 kB 7.3 MB/s eta 0:00:01\r\u001b[K     |██████████████████████▏         | 706 kB 7.3 MB/s eta 0:00:01\r\u001b[K     |██████████████████████▌         | 716 kB 7.3 MB/s eta 0:00:01\r\u001b[K     |██████████████████████▉         | 727 kB 7.3 MB/s eta 0:00:01\r\u001b[K     |███████████████████████▏        | 737 kB 7.3 MB/s eta 0:00:01\r\u001b[K     |███████████████████████▌        | 747 kB 7.3 MB/s eta 0:00:01\r\u001b[K     |███████████████████████▉        | 757 kB 7.3 MB/s eta 0:00:01\r\u001b[K     |████████████████████████▏       | 768 kB 7.3 MB/s eta 0:00:01\r\u001b[K     |████████████████████████▌       | 778 kB 7.3 MB/s eta 0:00:01\r\u001b[K     |████████████████████████▉       | 788 kB 7.3 MB/s eta 0:00:01\r\u001b[K     |█████████████████████████▏      | 798 kB 7.3 MB/s eta 0:00:01\r\u001b[K     |█████████████████████████▍      | 808 kB 7.3 MB/s eta 0:00:01\r\u001b[K     |█████████████████████████▊      | 819 kB 7.3 MB/s eta 0:00:01\r\u001b[K     |██████████████████████████      | 829 kB 7.3 MB/s eta 0:00:01\r\u001b[K     |██████████████████████████▍     | 839 kB 7.3 MB/s eta 0:00:01\r\u001b[K     |██████████████████████████▊     | 849 kB 7.3 MB/s eta 0:00:01\r\u001b[K     |███████████████████████████     | 860 kB 7.3 MB/s eta 0:00:01\r\u001b[K     |███████████████████████████▍    | 870 kB 7.3 MB/s eta 0:00:01\r\u001b[K     |███████████████████████████▊    | 880 kB 7.3 MB/s eta 0:00:01\r\u001b[K     |████████████████████████████    | 890 kB 7.3 MB/s eta 0:00:01\r\u001b[K     |████████████████████████████▍   | 901 kB 7.3 MB/s eta 0:00:01\r\u001b[K     |████████████████████████████▋   | 911 kB 7.3 MB/s eta 0:00:01\r\u001b[K     |█████████████████████████████   | 921 kB 7.3 MB/s eta 0:00:01\r\u001b[K     |█████████████████████████████▎  | 931 kB 7.3 MB/s eta 0:00:01\r\u001b[K     |█████████████████████████████▋  | 942 kB 7.3 MB/s eta 0:00:01\r\u001b[K     |██████████████████████████████  | 952 kB 7.3 MB/s eta 0:00:01\r\u001b[K     |██████████████████████████████▎ | 962 kB 7.3 MB/s eta 0:00:01\r\u001b[K     |██████████████████████████████▋ | 972 kB 7.3 MB/s eta 0:00:01\r\u001b[K     |███████████████████████████████ | 983 kB 7.3 MB/s eta 0:00:01\r\u001b[K     |███████████████████████████████▎| 993 kB 7.3 MB/s eta 0:00:01\r\u001b[K     |███████████████████████████████▋| 1.0 MB 7.3 MB/s eta 0:00:01\r\u001b[K     |███████████████████████████████▉| 1.0 MB 7.3 MB/s eta 0:00:01\r\u001b[K     |████████████████████████████████| 1.0 MB 7.3 MB/s \n",
            "\u001b[?25hRequirement already satisfied: setuptools in /usr/local/lib/python3.7/dist-packages (from dalex) (57.4.0)\n",
            "Requirement already satisfied: pandas>=1.1.2 in /usr/local/lib/python3.7/dist-packages (from dalex) (1.1.5)\n",
            "Requirement already satisfied: numpy>=1.18.4 in /usr/local/lib/python3.7/dist-packages (from dalex) (1.19.5)\n",
            "Collecting plotly>=4.12.0\n",
            "  Downloading plotly-5.3.1-py2.py3-none-any.whl (23.9 MB)\n",
            "\u001b[K     |████████████████████████████████| 23.9 MB 13 kB/s \n",
            "\u001b[?25hRequirement already satisfied: tqdm>=4.48.2 in /usr/local/lib/python3.7/dist-packages (from dalex) (4.62.0)\n",
            "Collecting scipy>=1.5.4\n",
            "  Downloading scipy-1.7.1-cp37-cp37m-manylinux_2_5_x86_64.manylinux1_x86_64.whl (28.5 MB)\n",
            "\u001b[K     |████████████████████████████████| 28.5 MB 48 kB/s \n",
            "\u001b[?25hRequirement already satisfied: python-dateutil>=2.7.3 in /usr/local/lib/python3.7/dist-packages (from pandas>=1.1.2->dalex) (2.8.2)\n",
            "Requirement already satisfied: pytz>=2017.2 in /usr/local/lib/python3.7/dist-packages (from pandas>=1.1.2->dalex) (2018.9)\n",
            "Collecting tenacity>=6.2.0\n",
            "  Downloading tenacity-8.0.1-py3-none-any.whl (24 kB)\n",
            "Requirement already satisfied: six in /usr/local/lib/python3.7/dist-packages (from plotly>=4.12.0->dalex) (1.15.0)\n",
            "Building wheels for collected packages: dalex\n",
            "  Building wheel for dalex (setup.py) ... \u001b[?25l\u001b[?25hdone\n",
            "  Created wheel for dalex: filename=dalex-1.4.0-py3-none-any.whl size=1042427 sha256=af971a27142e4ad227c1c49543ae6095da5e0a543361939b955a8e58ceb9b569\n",
            "  Stored in directory: /root/.cache/pip/wheels/a4/79/37/61fc885681236060e2aea9ccc301fa35f27bcae92f7a4ad638\n",
            "Successfully built dalex\n",
            "Installing collected packages: tenacity, scipy, plotly, dalex\n",
            "  Attempting uninstall: scipy\n",
            "    Found existing installation: scipy 1.4.1\n",
            "    Uninstalling scipy-1.4.1:\n",
            "      Successfully uninstalled scipy-1.4.1\n",
            "  Attempting uninstall: plotly\n",
            "    Found existing installation: plotly 4.4.1\n",
            "    Uninstalling plotly-4.4.1:\n",
            "      Successfully uninstalled plotly-4.4.1\n",
            "\u001b[31mERROR: pip's dependency resolver does not currently take into account all the packages that are installed. This behaviour is the source of the following dependency conflicts.\n",
            "albumentations 0.1.12 requires imgaug<0.2.7,>=0.2.5, but you have imgaug 0.2.9 which is incompatible.\u001b[0m\n",
            "Successfully installed dalex-1.4.0 plotly-5.3.1 scipy-1.7.1 tenacity-8.0.1\n"
          ]
        },
        {
          "output_type": "display_data",
          "data": {
            "application/vnd.colab-display-data+json": {
              "pip_warning": {
                "packages": [
                  "scipy"
                ]
              }
            }
          },
          "metadata": {}
        }
      ]
    },
    {
      "cell_type": "code",
      "metadata": {
        "id": "Pxol_KWWeOdB",
        "colab": {
          "base_uri": "https://localhost:8080/"
        },
        "outputId": "00e45438-f625-4e95-c566-ad40becf4492"
      },
      "source": [
        "import dalex as dx\n",
        "rf_exp = dx.Explainer(modelRF, X, y, \n",
        "                  label = \"PumpItUp RF Pipeline\")"
      ],
      "execution_count": null,
      "outputs": [
        {
          "output_type": "stream",
          "name": "stdout",
          "text": [
            "Preparation of a new explainer is initiated\n",
            "\n",
            "  -> data              : 59400 rows 159 cols\n",
            "  -> target variable   : Parameter 'y' was a pandas.DataFrame. Converted to a numpy.ndarray.\n",
            "  -> target variable   : 59400 values\n",
            "  -> target variable   : Please note that 'y' is a string array.\n",
            "  -> target variable   : 'y' should be a numeric or boolean array.\n",
            "  -> target variable   : Otherwise an Error may occur in calculating residuals or loss.\n",
            "  -> model_class       : sklearn.ensemble._forest.RandomForestClassifier (default)\n",
            "  -> label             : PumpItUp RF Pipeline\n",
            "  -> predict function  : <function yhat_proba_default at 0x7f47bfe22a70> will be used (default)\n",
            "  -> predict function  : Accepts pandas.DataFrame and numpy.ndarray.\n",
            "  -> predicted values  : min = 0.0, mean = 0.0733, max = 0.99\n",
            "  -> model type        : classification will be used (default)\n",
            "  -> residual function : difference between y and yhat (default)\n",
            "  -> residuals         :  'residual_function' returns an Error when executed:\n",
            "unsupported operand type(s) for -: 'str' and 'float'\n",
            "  -> model_info        : package sklearn\n",
            "\n",
            "A new explainer has been created!\n"
          ]
        }
      ]
    },
    {
      "cell_type": "code",
      "metadata": {
        "colab": {
          "base_uri": "https://localhost:8080/",
          "height": 432
        },
        "id": "sWRDLdVYuyu_",
        "outputId": "5166848c-70a8-4857-ad5c-ed1e33ba409a"
      },
      "source": [
        "pd_rf = rf_exp.model_profile(variables = ['gps_height', 'longitude','latitude','construction_year','population','amt'])\n",
        "pd_rf.result"
      ],
      "execution_count": null,
      "outputs": [
        {
          "output_type": "stream",
          "name": "stderr",
          "text": [
            "Calculating ceteris paribus: 100%|██████████| 6/6 [00:08<00:00,  1.42s/it]\n"
          ]
        },
        {
          "output_type": "execute_result",
          "data": {
            "text/html": [
              "<div>\n",
              "<style scoped>\n",
              "    .dataframe tbody tr th:only-of-type {\n",
              "        vertical-align: middle;\n",
              "    }\n",
              "\n",
              "    .dataframe tbody tr th {\n",
              "        vertical-align: top;\n",
              "    }\n",
              "\n",
              "    .dataframe thead th {\n",
              "        text-align: right;\n",
              "    }\n",
              "</style>\n",
              "<table border=\"1\" class=\"dataframe\">\n",
              "  <thead>\n",
              "    <tr style=\"text-align: right;\">\n",
              "      <th></th>\n",
              "      <th>_vname_</th>\n",
              "      <th>_label_</th>\n",
              "      <th>_x_</th>\n",
              "      <th>_yhat_</th>\n",
              "      <th>_ids_</th>\n",
              "    </tr>\n",
              "  </thead>\n",
              "  <tbody>\n",
              "    <tr>\n",
              "      <th>0</th>\n",
              "      <td>gps_height</td>\n",
              "      <td>PumpItUp RF Pipeline</td>\n",
              "      <td>-90.000000</td>\n",
              "      <td>0.079238</td>\n",
              "      <td>0</td>\n",
              "    </tr>\n",
              "    <tr>\n",
              "      <th>1</th>\n",
              "      <td>gps_height</td>\n",
              "      <td>PumpItUp RF Pipeline</td>\n",
              "      <td>-61.400000</td>\n",
              "      <td>0.079238</td>\n",
              "      <td>0</td>\n",
              "    </tr>\n",
              "    <tr>\n",
              "      <th>2</th>\n",
              "      <td>gps_height</td>\n",
              "      <td>PumpItUp RF Pipeline</td>\n",
              "      <td>-32.800000</td>\n",
              "      <td>0.078771</td>\n",
              "      <td>0</td>\n",
              "    </tr>\n",
              "    <tr>\n",
              "      <th>3</th>\n",
              "      <td>gps_height</td>\n",
              "      <td>PumpItUp RF Pipeline</td>\n",
              "      <td>-4.200000</td>\n",
              "      <td>0.078068</td>\n",
              "      <td>0</td>\n",
              "    </tr>\n",
              "    <tr>\n",
              "      <th>4</th>\n",
              "      <td>gps_height</td>\n",
              "      <td>PumpItUp RF Pipeline</td>\n",
              "      <td>24.400000</td>\n",
              "      <td>0.077644</td>\n",
              "      <td>0</td>\n",
              "    </tr>\n",
              "    <tr>\n",
              "      <th>...</th>\n",
              "      <td>...</td>\n",
              "      <td>...</td>\n",
              "      <td>...</td>\n",
              "      <td>...</td>\n",
              "      <td>...</td>\n",
              "    </tr>\n",
              "    <tr>\n",
              "      <th>601</th>\n",
              "      <td>amt</td>\n",
              "      <td>PumpItUp RF Pipeline</td>\n",
              "      <td>12.255064</td>\n",
              "      <td>0.082628</td>\n",
              "      <td>0</td>\n",
              "    </tr>\n",
              "    <tr>\n",
              "      <th>602</th>\n",
              "      <td>amt</td>\n",
              "      <td>PumpItUp RF Pipeline</td>\n",
              "      <td>12.382721</td>\n",
              "      <td>0.082628</td>\n",
              "      <td>0</td>\n",
              "    </tr>\n",
              "    <tr>\n",
              "      <th>603</th>\n",
              "      <td>amt</td>\n",
              "      <td>PumpItUp RF Pipeline</td>\n",
              "      <td>12.510377</td>\n",
              "      <td>0.082628</td>\n",
              "      <td>0</td>\n",
              "    </tr>\n",
              "    <tr>\n",
              "      <th>604</th>\n",
              "      <td>amt</td>\n",
              "      <td>PumpItUp RF Pipeline</td>\n",
              "      <td>12.638034</td>\n",
              "      <td>0.082628</td>\n",
              "      <td>0</td>\n",
              "    </tr>\n",
              "    <tr>\n",
              "      <th>605</th>\n",
              "      <td>amt</td>\n",
              "      <td>PumpItUp RF Pipeline</td>\n",
              "      <td>12.765691</td>\n",
              "      <td>0.082628</td>\n",
              "      <td>0</td>\n",
              "    </tr>\n",
              "  </tbody>\n",
              "</table>\n",
              "<p>606 rows × 5 columns</p>\n",
              "</div>"
            ],
            "text/plain": [
              "        _vname_               _label_        _x_    _yhat_  _ids_\n",
              "0    gps_height  PumpItUp RF Pipeline -90.000000  0.079238      0\n",
              "1    gps_height  PumpItUp RF Pipeline -61.400000  0.079238      0\n",
              "2    gps_height  PumpItUp RF Pipeline -32.800000  0.078771      0\n",
              "3    gps_height  PumpItUp RF Pipeline  -4.200000  0.078068      0\n",
              "4    gps_height  PumpItUp RF Pipeline  24.400000  0.077644      0\n",
              "..          ...                   ...        ...       ...    ...\n",
              "601         amt  PumpItUp RF Pipeline  12.255064  0.082628      0\n",
              "602         amt  PumpItUp RF Pipeline  12.382721  0.082628      0\n",
              "603         amt  PumpItUp RF Pipeline  12.510377  0.082628      0\n",
              "604         amt  PumpItUp RF Pipeline  12.638034  0.082628      0\n",
              "605         amt  PumpItUp RF Pipeline  12.765691  0.082628      0\n",
              "\n",
              "[606 rows x 5 columns]"
            ]
          },
          "metadata": {},
          "execution_count": 111
        }
      ]
    },
    {
      "cell_type": "code",
      "metadata": {
        "colab": {
          "base_uri": "https://localhost:8080/",
          "height": 1000
        },
        "id": "yi3-qOEwvNSe",
        "outputId": "4472fa77-f903-430e-eb30-adb908758d31"
      },
      "source": [
        "pd_rf.plot()"
      ],
      "execution_count": null,
      "outputs": [
        {
          "output_type": "display_data",
          "data": {
            "text/html": [
              "<html>\n",
              "<head><meta charset=\"utf-8\" /></head>\n",
              "<body>\n",
              "    <div>            <script src=\"https://cdnjs.cloudflare.com/ajax/libs/mathjax/2.7.5/MathJax.js?config=TeX-AMS-MML_SVG\"></script><script type=\"text/javascript\">if (window.MathJax) {MathJax.Hub.Config({SVG: {font: \"STIX-Web\"}});}</script>                <script type=\"text/javascript\">window.PlotlyConfig = {MathJaxConfig: 'local'};</script>\n",
              "        <script src=\"https://cdn.plot.ly/plotly-2.4.2.min.js\"></script>                <div id=\"67b8a023-27bb-424e-ab8c-95e50c6a6a2b\" class=\"plotly-graph-div\" style=\"height:1169px; width:100%;\"></div>            <script type=\"text/javascript\">                                    window.PLOTLYENV=window.PLOTLYENV || {};                                    if (document.getElementById(\"67b8a023-27bb-424e-ab8c-95e50c6a6a2b\")) {                    Plotly.newPlot(                        \"67b8a023-27bb-424e-ab8c-95e50c6a6a2b\",                        [{\"customdata\":[[0.07787879013332563,\"PumpItUp RF Pipeline\",\"gps_height\"],[0.07787879013332563,\"PumpItUp RF Pipeline\",\"gps_height\"],[0.07787879013332563,\"PumpItUp RF Pipeline\",\"gps_height\"],[0.07787879013332563,\"PumpItUp RF Pipeline\",\"gps_height\"],[0.07787879013332563,\"PumpItUp RF Pipeline\",\"gps_height\"],[0.07787879013332563,\"PumpItUp RF Pipeline\",\"gps_height\"],[0.07787879013332563,\"PumpItUp RF Pipeline\",\"gps_height\"],[0.07787879013332563,\"PumpItUp RF Pipeline\",\"gps_height\"],[0.07787879013332563,\"PumpItUp RF Pipeline\",\"gps_height\"],[0.07787879013332563,\"PumpItUp RF Pipeline\",\"gps_height\"],[0.07787879013332563,\"PumpItUp RF Pipeline\",\"gps_height\"],[0.07787879013332563,\"PumpItUp RF Pipeline\",\"gps_height\"],[0.07787879013332563,\"PumpItUp RF Pipeline\",\"gps_height\"],[0.07787879013332563,\"PumpItUp RF Pipeline\",\"gps_height\"],[0.07787879013332563,\"PumpItUp RF Pipeline\",\"gps_height\"],[0.07787879013332563,\"PumpItUp RF Pipeline\",\"gps_height\"],[0.07787879013332563,\"PumpItUp RF Pipeline\",\"gps_height\"],[0.07787879013332563,\"PumpItUp RF Pipeline\",\"gps_height\"],[0.07787879013332563,\"PumpItUp RF Pipeline\",\"gps_height\"],[0.07787879013332563,\"PumpItUp RF Pipeline\",\"gps_height\"],[0.07787879013332563,\"PumpItUp RF Pipeline\",\"gps_height\"],[0.07787879013332563,\"PumpItUp RF Pipeline\",\"gps_height\"],[0.07787879013332563,\"PumpItUp RF Pipeline\",\"gps_height\"],[0.07787879013332563,\"PumpItUp RF Pipeline\",\"gps_height\"],[0.07787879013332563,\"PumpItUp RF Pipeline\",\"gps_height\"],[0.07787879013332563,\"PumpItUp RF Pipeline\",\"gps_height\"],[0.07787879013332563,\"PumpItUp RF Pipeline\",\"gps_height\"],[0.07787879013332563,\"PumpItUp RF Pipeline\",\"gps_height\"],[0.07787879013332563,\"PumpItUp RF Pipeline\",\"gps_height\"],[0.07787879013332563,\"PumpItUp RF Pipeline\",\"gps_height\"],[0.07787879013332563,\"PumpItUp RF Pipeline\",\"gps_height\"],[0.07787879013332563,\"PumpItUp RF Pipeline\",\"gps_height\"],[0.07787879013332563,\"PumpItUp RF Pipeline\",\"gps_height\"],[0.07787879013332563,\"PumpItUp RF Pipeline\",\"gps_height\"],[0.07787879013332563,\"PumpItUp RF Pipeline\",\"gps_height\"],[0.07787879013332563,\"PumpItUp RF Pipeline\",\"gps_height\"],[0.07787879013332563,\"PumpItUp RF Pipeline\",\"gps_height\"],[0.07787879013332563,\"PumpItUp RF Pipeline\",\"gps_height\"],[0.07787879013332563,\"PumpItUp RF Pipeline\",\"gps_height\"],[0.07787879013332563,\"PumpItUp RF Pipeline\",\"gps_height\"],[0.07787879013332563,\"PumpItUp RF Pipeline\",\"gps_height\"],[0.07787879013332563,\"PumpItUp RF Pipeline\",\"gps_height\"],[0.07787879013332563,\"PumpItUp RF Pipeline\",\"gps_height\"],[0.07787879013332563,\"PumpItUp RF Pipeline\",\"gps_height\"],[0.07787879013332563,\"PumpItUp RF Pipeline\",\"gps_height\"],[0.07787879013332563,\"PumpItUp RF Pipeline\",\"gps_height\"],[0.07787879013332563,\"PumpItUp RF Pipeline\",\"gps_height\"],[0.07787879013332563,\"PumpItUp RF Pipeline\",\"gps_height\"],[0.07787879013332563,\"PumpItUp RF Pipeline\",\"gps_height\"],[0.07787879013332563,\"PumpItUp RF Pipeline\",\"gps_height\"],[0.07787879013332563,\"PumpItUp RF Pipeline\",\"gps_height\"],[0.07787879013332563,\"PumpItUp RF Pipeline\",\"gps_height\"],[0.07787879013332563,\"PumpItUp RF Pipeline\",\"gps_height\"],[0.07787879013332563,\"PumpItUp RF Pipeline\",\"gps_height\"],[0.07787879013332563,\"PumpItUp RF Pipeline\",\"gps_height\"],[0.07787879013332563,\"PumpItUp RF Pipeline\",\"gps_height\"],[0.07787879013332563,\"PumpItUp RF Pipeline\",\"gps_height\"],[0.07787879013332563,\"PumpItUp RF Pipeline\",\"gps_height\"],[0.07787879013332563,\"PumpItUp RF Pipeline\",\"gps_height\"],[0.07787879013332563,\"PumpItUp RF Pipeline\",\"gps_height\"],[0.07787879013332563,\"PumpItUp RF Pipeline\",\"gps_height\"],[0.07787879013332563,\"PumpItUp RF Pipeline\",\"gps_height\"],[0.07787879013332563,\"PumpItUp RF Pipeline\",\"gps_height\"],[0.07787879013332563,\"PumpItUp RF Pipeline\",\"gps_height\"],[0.07787879013332563,\"PumpItUp RF Pipeline\",\"gps_height\"],[0.07787879013332563,\"PumpItUp RF Pipeline\",\"gps_height\"],[0.07787879013332563,\"PumpItUp RF Pipeline\",\"gps_height\"],[0.07787879013332563,\"PumpItUp RF Pipeline\",\"gps_height\"],[0.07787879013332563,\"PumpItUp RF Pipeline\",\"gps_height\"],[0.07787879013332563,\"PumpItUp RF Pipeline\",\"gps_height\"],[0.07787879013332563,\"PumpItUp RF Pipeline\",\"gps_height\"],[0.07787879013332563,\"PumpItUp RF Pipeline\",\"gps_height\"],[0.07787879013332563,\"PumpItUp RF Pipeline\",\"gps_height\"],[0.07787879013332563,\"PumpItUp RF Pipeline\",\"gps_height\"],[0.07787879013332563,\"PumpItUp RF Pipeline\",\"gps_height\"],[0.07787879013332563,\"PumpItUp RF Pipeline\",\"gps_height\"],[0.07787879013332563,\"PumpItUp RF Pipeline\",\"gps_height\"],[0.07787879013332563,\"PumpItUp RF Pipeline\",\"gps_height\"],[0.07787879013332563,\"PumpItUp RF Pipeline\",\"gps_height\"],[0.07787879013332563,\"PumpItUp RF Pipeline\",\"gps_height\"],[0.07787879013332563,\"PumpItUp RF Pipeline\",\"gps_height\"],[0.07787879013332563,\"PumpItUp RF Pipeline\",\"gps_height\"],[0.07787879013332563,\"PumpItUp RF Pipeline\",\"gps_height\"],[0.07787879013332563,\"PumpItUp RF Pipeline\",\"gps_height\"],[0.07787879013332563,\"PumpItUp RF Pipeline\",\"gps_height\"],[0.07787879013332563,\"PumpItUp RF Pipeline\",\"gps_height\"],[0.07787879013332563,\"PumpItUp RF Pipeline\",\"gps_height\"],[0.07787879013332563,\"PumpItUp RF Pipeline\",\"gps_height\"],[0.07787879013332563,\"PumpItUp RF Pipeline\",\"gps_height\"],[0.07787879013332563,\"PumpItUp RF Pipeline\",\"gps_height\"],[0.07787879013332563,\"PumpItUp RF Pipeline\",\"gps_height\"],[0.07787879013332563,\"PumpItUp RF Pipeline\",\"gps_height\"],[0.07787879013332563,\"PumpItUp RF Pipeline\",\"gps_height\"],[0.07787879013332563,\"PumpItUp RF Pipeline\",\"gps_height\"],[0.07787879013332563,\"PumpItUp RF Pipeline\",\"gps_height\"],[0.07787879013332563,\"PumpItUp RF Pipeline\",\"gps_height\"],[0.07787879013332563,\"PumpItUp RF Pipeline\",\"gps_height\"],[0.07787879013332563,\"PumpItUp RF Pipeline\",\"gps_height\"],[0.07787879013332563,\"PumpItUp RF Pipeline\",\"gps_height\"],[0.07787879013332563,\"PumpItUp RF Pipeline\",\"gps_height\"],[0.07787879013332563,\"PumpItUp RF Pipeline\",\"gps_height\"]],\"hovertemplate\":\"<b>%{hovertext}</b><br><br>prediction=%{y:.3f}<br>mean_prediction=%{customdata[0]:.3f}<extra></extra>\",\"hovertext\":[\"PumpItUp RF Pipeline\",\"PumpItUp RF Pipeline\",\"PumpItUp RF Pipeline\",\"PumpItUp RF Pipeline\",\"PumpItUp RF Pipeline\",\"PumpItUp RF Pipeline\",\"PumpItUp RF Pipeline\",\"PumpItUp RF Pipeline\",\"PumpItUp RF Pipeline\",\"PumpItUp RF Pipeline\",\"PumpItUp RF Pipeline\",\"PumpItUp RF Pipeline\",\"PumpItUp RF Pipeline\",\"PumpItUp RF Pipeline\",\"PumpItUp RF Pipeline\",\"PumpItUp RF Pipeline\",\"PumpItUp RF Pipeline\",\"PumpItUp RF Pipeline\",\"PumpItUp RF Pipeline\",\"PumpItUp RF Pipeline\",\"PumpItUp RF Pipeline\",\"PumpItUp RF Pipeline\",\"PumpItUp RF Pipeline\",\"PumpItUp RF Pipeline\",\"PumpItUp RF Pipeline\",\"PumpItUp RF Pipeline\",\"PumpItUp RF Pipeline\",\"PumpItUp RF Pipeline\",\"PumpItUp RF Pipeline\",\"PumpItUp RF Pipeline\",\"PumpItUp RF Pipeline\",\"PumpItUp RF Pipeline\",\"PumpItUp RF Pipeline\",\"PumpItUp RF Pipeline\",\"PumpItUp RF Pipeline\",\"PumpItUp RF Pipeline\",\"PumpItUp RF Pipeline\",\"PumpItUp RF Pipeline\",\"PumpItUp RF Pipeline\",\"PumpItUp RF Pipeline\",\"PumpItUp RF Pipeline\",\"PumpItUp RF Pipeline\",\"PumpItUp RF Pipeline\",\"PumpItUp RF Pipeline\",\"PumpItUp RF Pipeline\",\"PumpItUp RF Pipeline\",\"PumpItUp RF Pipeline\",\"PumpItUp RF Pipeline\",\"PumpItUp RF Pipeline\",\"PumpItUp RF Pipeline\",\"PumpItUp RF Pipeline\",\"PumpItUp RF Pipeline\",\"PumpItUp RF Pipeline\",\"PumpItUp RF Pipeline\",\"PumpItUp RF Pipeline\",\"PumpItUp RF Pipeline\",\"PumpItUp RF Pipeline\",\"PumpItUp RF Pipeline\",\"PumpItUp RF Pipeline\",\"PumpItUp RF Pipeline\",\"PumpItUp RF Pipeline\",\"PumpItUp RF Pipeline\",\"PumpItUp RF Pipeline\",\"PumpItUp RF Pipeline\",\"PumpItUp RF Pipeline\",\"PumpItUp RF Pipeline\",\"PumpItUp RF Pipeline\",\"PumpItUp RF Pipeline\",\"PumpItUp RF Pipeline\",\"PumpItUp RF Pipeline\",\"PumpItUp RF Pipeline\",\"PumpItUp RF Pipeline\",\"PumpItUp RF Pipeline\",\"PumpItUp RF Pipeline\",\"PumpItUp RF Pipeline\",\"PumpItUp RF Pipeline\",\"PumpItUp RF Pipeline\",\"PumpItUp RF Pipeline\",\"PumpItUp RF Pipeline\",\"PumpItUp RF Pipeline\",\"PumpItUp RF Pipeline\",\"PumpItUp RF Pipeline\",\"PumpItUp RF Pipeline\",\"PumpItUp RF Pipeline\",\"PumpItUp RF Pipeline\",\"PumpItUp RF Pipeline\",\"PumpItUp RF Pipeline\",\"PumpItUp RF Pipeline\",\"PumpItUp RF Pipeline\",\"PumpItUp RF Pipeline\",\"PumpItUp RF Pipeline\",\"PumpItUp RF Pipeline\",\"PumpItUp RF Pipeline\",\"PumpItUp RF Pipeline\",\"PumpItUp RF Pipeline\",\"PumpItUp RF Pipeline\",\"PumpItUp RF Pipeline\",\"PumpItUp RF Pipeline\",\"PumpItUp RF Pipeline\",\"PumpItUp RF Pipeline\",\"PumpItUp RF Pipeline\"],\"legendgroup\":\"PumpItUp RF Pipeline\",\"line\":{\"color\":\"#46bac2\",\"dash\":\"solid\",\"width\":2},\"marker\":{\"symbol\":\"circle\"},\"mode\":\"lines\",\"name\":\"PumpItUp RF Pipeline\",\"opacity\":1,\"orientation\":\"v\",\"showlegend\":true,\"type\":\"scatter\",\"x\":[-90.0,-61.4,-32.8,-4.199999999999989,24.400000000000006,53.0,81.60000000000002,110.20000000000002,138.8,167.40000000000003,196.0,224.60000000000002,253.20000000000005,281.8,310.40000000000003,339.0,367.6,396.20000000000005,424.80000000000007,453.4,482.0,510.6,539.2,567.8000000000001,596.4000000000001,625.0,653.6,682.2,710.8000000000001,739.4000000000001,768.0,796.6,825.2,853.8000000000001,882.4000000000001,911.0,939.6000000000001,968.2,996.8,1025.4,1054.0,1082.6000000000001,1111.2,1139.8,1168.4,1197.0,1225.6000000000001,1254.2,1282.8000000000002,1311.4,1340.0,1368.6000000000001,1397.2,1425.8000000000002,1454.4,1483.0,1511.6000000000001,1540.2,1568.8000000000002,1597.4,1626.0,1654.6000000000001,1683.2,1711.8000000000002,1740.4,1769.0,1797.6000000000001,1826.2,1854.8000000000002,1883.4,1912.0,1940.6000000000001,1969.2000000000003,1997.8000000000002,2026.4,2055.0,2083.6,2112.2000000000003,2140.8,2169.4,2198.0,2226.6,2255.2000000000003,2283.8,2312.4,2341.0,2369.6,2398.2000000000003,2426.8,2455.4,2484.0,2512.6,2541.2000000000003,2569.8,2598.4,2627.0,2655.6000000000004,2684.2000000000003,2712.8,2741.4,2770.0],\"xaxis\":\"x5\",\"y\":[0.0792379287591686,0.0792379287591686,0.07877122355131205,0.07806782639507538,0.07764355319122246,0.07745713944296079,0.07728018814582374,0.07710975631920788,0.07703648589990765,0.07722349974056482,0.07725925824116274,0.07726570673884263,0.07715967676727521,0.07696115597272626,0.07666553936248648,0.0764642334553523,0.07644758266533397,0.07663681994191275,0.07675094541858964,0.07637633945868078,0.07633380407290889,0.07639804908724036,0.07637640629724289,0.07632119506542043,0.07648253498143308,0.07643880840604958,0.07643368687657383,0.07642350042310278,0.07617576687114344,0.07625135573106434,0.0763922663690096,0.0763657947493686,0.07638326559138289,0.07663779756926203,0.07683104917773025,0.0768386835955416,0.07678786544979581,0.0770070668116728,0.07725803306258819,0.07742361660365926,0.07728636594013377,0.07694025296163119,0.07692976629499294,0.07710772468085704,0.07737439608173487,0.07821931034782127,0.07865633944353666,0.0784357805224815,0.07823450379892488,0.07798024620371738,0.07833153375292722,0.07810527936181327,0.07823024952467618,0.07888771663442946,0.07910716821380358,0.07924378780572462,0.0790856190530269,0.07949284290656078,0.07971431345193866,0.07971251756792051,0.08142530672048671,0.0817385813051415,0.08159190401720828,0.08213349832683638,0.08232114094363553,0.08240352667036174,0.08231587570908588,0.08240607444999425,0.08262711947645837,0.08291408210791197,0.08348391568907279,0.0836479142394965,0.08368539958410101,0.08353578223223992,0.083479471936163,0.08352205738202552,0.08351141964370173,0.08356687996114076,0.08389268012299225,0.08378118476982088,0.08388728091132278,0.08422648272123026,0.08431587144489153,0.08432423751649508,0.0843489604032574,0.08445088285071134,0.08445921618404469,0.08445921618404469,0.084492549517378,0.08449076380309227,0.08455712465936138,0.08454879132602805,0.08454879132602805,0.08454879132602805,0.08484371196094867,0.08484340782469564,0.08484340782469564,0.08506080178783802,0.08506080178783802,0.08506080178783802,0.08506080178783802],\"yaxis\":\"y5\"},{\"customdata\":[[0.07787879013332563,\"PumpItUp RF Pipeline\",\"longitude\"],[0.07787879013332563,\"PumpItUp RF Pipeline\",\"longitude\"],[0.07787879013332563,\"PumpItUp RF Pipeline\",\"longitude\"],[0.07787879013332563,\"PumpItUp RF Pipeline\",\"longitude\"],[0.07787879013332563,\"PumpItUp RF Pipeline\",\"longitude\"],[0.07787879013332563,\"PumpItUp RF Pipeline\",\"longitude\"],[0.07787879013332563,\"PumpItUp RF Pipeline\",\"longitude\"],[0.07787879013332563,\"PumpItUp RF Pipeline\",\"longitude\"],[0.07787879013332563,\"PumpItUp RF Pipeline\",\"longitude\"],[0.07787879013332563,\"PumpItUp RF Pipeline\",\"longitude\"],[0.07787879013332563,\"PumpItUp RF Pipeline\",\"longitude\"],[0.07787879013332563,\"PumpItUp RF Pipeline\",\"longitude\"],[0.07787879013332563,\"PumpItUp RF Pipeline\",\"longitude\"],[0.07787879013332563,\"PumpItUp RF Pipeline\",\"longitude\"],[0.07787879013332563,\"PumpItUp RF Pipeline\",\"longitude\"],[0.07787879013332563,\"PumpItUp RF Pipeline\",\"longitude\"],[0.07787879013332563,\"PumpItUp RF Pipeline\",\"longitude\"],[0.07787879013332563,\"PumpItUp RF Pipeline\",\"longitude\"],[0.07787879013332563,\"PumpItUp RF Pipeline\",\"longitude\"],[0.07787879013332563,\"PumpItUp RF Pipeline\",\"longitude\"],[0.07787879013332563,\"PumpItUp RF Pipeline\",\"longitude\"],[0.07787879013332563,\"PumpItUp RF Pipeline\",\"longitude\"],[0.07787879013332563,\"PumpItUp RF Pipeline\",\"longitude\"],[0.07787879013332563,\"PumpItUp RF Pipeline\",\"longitude\"],[0.07787879013332563,\"PumpItUp RF Pipeline\",\"longitude\"],[0.07787879013332563,\"PumpItUp RF Pipeline\",\"longitude\"],[0.07787879013332563,\"PumpItUp RF Pipeline\",\"longitude\"],[0.07787879013332563,\"PumpItUp RF Pipeline\",\"longitude\"],[0.07787879013332563,\"PumpItUp RF Pipeline\",\"longitude\"],[0.07787879013332563,\"PumpItUp RF Pipeline\",\"longitude\"],[0.07787879013332563,\"PumpItUp RF Pipeline\",\"longitude\"],[0.07787879013332563,\"PumpItUp RF Pipeline\",\"longitude\"],[0.07787879013332563,\"PumpItUp RF Pipeline\",\"longitude\"],[0.07787879013332563,\"PumpItUp RF Pipeline\",\"longitude\"],[0.07787879013332563,\"PumpItUp RF Pipeline\",\"longitude\"],[0.07787879013332563,\"PumpItUp RF Pipeline\",\"longitude\"],[0.07787879013332563,\"PumpItUp RF Pipeline\",\"longitude\"],[0.07787879013332563,\"PumpItUp RF Pipeline\",\"longitude\"],[0.07787879013332563,\"PumpItUp RF Pipeline\",\"longitude\"],[0.07787879013332563,\"PumpItUp RF Pipeline\",\"longitude\"],[0.07787879013332563,\"PumpItUp RF Pipeline\",\"longitude\"],[0.07787879013332563,\"PumpItUp RF Pipeline\",\"longitude\"],[0.07787879013332563,\"PumpItUp RF Pipeline\",\"longitude\"],[0.07787879013332563,\"PumpItUp RF Pipeline\",\"longitude\"],[0.07787879013332563,\"PumpItUp RF Pipeline\",\"longitude\"],[0.07787879013332563,\"PumpItUp RF Pipeline\",\"longitude\"],[0.07787879013332563,\"PumpItUp RF Pipeline\",\"longitude\"],[0.07787879013332563,\"PumpItUp RF Pipeline\",\"longitude\"],[0.07787879013332563,\"PumpItUp RF Pipeline\",\"longitude\"],[0.07787879013332563,\"PumpItUp RF Pipeline\",\"longitude\"],[0.07787879013332563,\"PumpItUp RF Pipeline\",\"longitude\"],[0.07787879013332563,\"PumpItUp RF Pipeline\",\"longitude\"],[0.07787879013332563,\"PumpItUp RF Pipeline\",\"longitude\"],[0.07787879013332563,\"PumpItUp RF Pipeline\",\"longitude\"],[0.07787879013332563,\"PumpItUp RF Pipeline\",\"longitude\"],[0.07787879013332563,\"PumpItUp RF Pipeline\",\"longitude\"],[0.07787879013332563,\"PumpItUp RF Pipeline\",\"longitude\"],[0.07787879013332563,\"PumpItUp RF Pipeline\",\"longitude\"],[0.07787879013332563,\"PumpItUp RF Pipeline\",\"longitude\"],[0.07787879013332563,\"PumpItUp RF Pipeline\",\"longitude\"],[0.07787879013332563,\"PumpItUp RF Pipeline\",\"longitude\"],[0.07787879013332563,\"PumpItUp RF Pipeline\",\"longitude\"],[0.07787879013332563,\"PumpItUp RF Pipeline\",\"longitude\"],[0.07787879013332563,\"PumpItUp RF Pipeline\",\"longitude\"],[0.07787879013332563,\"PumpItUp RF Pipeline\",\"longitude\"],[0.07787879013332563,\"PumpItUp RF Pipeline\",\"longitude\"],[0.07787879013332563,\"PumpItUp RF Pipeline\",\"longitude\"],[0.07787879013332563,\"PumpItUp RF Pipeline\",\"longitude\"],[0.07787879013332563,\"PumpItUp RF Pipeline\",\"longitude\"],[0.07787879013332563,\"PumpItUp RF Pipeline\",\"longitude\"],[0.07787879013332563,\"PumpItUp RF Pipeline\",\"longitude\"],[0.07787879013332563,\"PumpItUp RF Pipeline\",\"longitude\"],[0.07787879013332563,\"PumpItUp RF Pipeline\",\"longitude\"],[0.07787879013332563,\"PumpItUp RF Pipeline\",\"longitude\"],[0.07787879013332563,\"PumpItUp RF Pipeline\",\"longitude\"],[0.07787879013332563,\"PumpItUp RF Pipeline\",\"longitude\"],[0.07787879013332563,\"PumpItUp RF Pipeline\",\"longitude\"],[0.07787879013332563,\"PumpItUp RF Pipeline\",\"longitude\"],[0.07787879013332563,\"PumpItUp RF Pipeline\",\"longitude\"],[0.07787879013332563,\"PumpItUp RF Pipeline\",\"longitude\"],[0.07787879013332563,\"PumpItUp RF Pipeline\",\"longitude\"],[0.07787879013332563,\"PumpItUp RF Pipeline\",\"longitude\"],[0.07787879013332563,\"PumpItUp RF Pipeline\",\"longitude\"],[0.07787879013332563,\"PumpItUp RF Pipeline\",\"longitude\"],[0.07787879013332563,\"PumpItUp RF Pipeline\",\"longitude\"],[0.07787879013332563,\"PumpItUp RF Pipeline\",\"longitude\"],[0.07787879013332563,\"PumpItUp RF Pipeline\",\"longitude\"],[0.07787879013332563,\"PumpItUp RF Pipeline\",\"longitude\"],[0.07787879013332563,\"PumpItUp RF Pipeline\",\"longitude\"],[0.07787879013332563,\"PumpItUp RF Pipeline\",\"longitude\"],[0.07787879013332563,\"PumpItUp RF Pipeline\",\"longitude\"],[0.07787879013332563,\"PumpItUp RF Pipeline\",\"longitude\"],[0.07787879013332563,\"PumpItUp RF Pipeline\",\"longitude\"],[0.07787879013332563,\"PumpItUp RF Pipeline\",\"longitude\"],[0.07787879013332563,\"PumpItUp RF Pipeline\",\"longitude\"],[0.07787879013332563,\"PumpItUp RF Pipeline\",\"longitude\"],[0.07787879013332563,\"PumpItUp RF Pipeline\",\"longitude\"],[0.07787879013332563,\"PumpItUp RF Pipeline\",\"longitude\"],[0.07787879013332563,\"PumpItUp RF Pipeline\",\"longitude\"],[0.07787879013332563,\"PumpItUp RF Pipeline\",\"longitude\"],[0.07787879013332563,\"PumpItUp RF Pipeline\",\"longitude\"]],\"hovertemplate\":\"<b>%{hovertext}</b><br><br>prediction=%{y:.3f}<br>mean_prediction=%{customdata[0]:.3f}<extra></extra>\",\"hovertext\":[\"PumpItUp RF Pipeline\",\"PumpItUp RF Pipeline\",\"PumpItUp RF Pipeline\",\"PumpItUp RF Pipeline\",\"PumpItUp RF Pipeline\",\"PumpItUp RF Pipeline\",\"PumpItUp RF Pipeline\",\"PumpItUp RF Pipeline\",\"PumpItUp RF Pipeline\",\"PumpItUp RF Pipeline\",\"PumpItUp RF Pipeline\",\"PumpItUp RF Pipeline\",\"PumpItUp RF Pipeline\",\"PumpItUp RF Pipeline\",\"PumpItUp RF Pipeline\",\"PumpItUp RF Pipeline\",\"PumpItUp RF Pipeline\",\"PumpItUp RF Pipeline\",\"PumpItUp RF Pipeline\",\"PumpItUp RF Pipeline\",\"PumpItUp RF Pipeline\",\"PumpItUp RF Pipeline\",\"PumpItUp RF Pipeline\",\"PumpItUp RF Pipeline\",\"PumpItUp RF Pipeline\",\"PumpItUp RF Pipeline\",\"PumpItUp RF Pipeline\",\"PumpItUp RF Pipeline\",\"PumpItUp RF Pipeline\",\"PumpItUp RF Pipeline\",\"PumpItUp RF Pipeline\",\"PumpItUp RF Pipeline\",\"PumpItUp RF Pipeline\",\"PumpItUp RF Pipeline\",\"PumpItUp RF Pipeline\",\"PumpItUp RF Pipeline\",\"PumpItUp RF Pipeline\",\"PumpItUp RF Pipeline\",\"PumpItUp RF Pipeline\",\"PumpItUp RF Pipeline\",\"PumpItUp RF Pipeline\",\"PumpItUp RF Pipeline\",\"PumpItUp RF Pipeline\",\"PumpItUp RF Pipeline\",\"PumpItUp RF Pipeline\",\"PumpItUp RF Pipeline\",\"PumpItUp RF Pipeline\",\"PumpItUp RF Pipeline\",\"PumpItUp RF Pipeline\",\"PumpItUp RF Pipeline\",\"PumpItUp RF Pipeline\",\"PumpItUp RF Pipeline\",\"PumpItUp RF Pipeline\",\"PumpItUp RF Pipeline\",\"PumpItUp RF Pipeline\",\"PumpItUp RF Pipeline\",\"PumpItUp RF Pipeline\",\"PumpItUp RF Pipeline\",\"PumpItUp RF Pipeline\",\"PumpItUp RF Pipeline\",\"PumpItUp RF Pipeline\",\"PumpItUp RF Pipeline\",\"PumpItUp RF Pipeline\",\"PumpItUp RF Pipeline\",\"PumpItUp RF Pipeline\",\"PumpItUp RF Pipeline\",\"PumpItUp RF Pipeline\",\"PumpItUp RF Pipeline\",\"PumpItUp RF Pipeline\",\"PumpItUp RF Pipeline\",\"PumpItUp RF Pipeline\",\"PumpItUp RF Pipeline\",\"PumpItUp RF Pipeline\",\"PumpItUp RF Pipeline\",\"PumpItUp RF Pipeline\",\"PumpItUp RF Pipeline\",\"PumpItUp RF Pipeline\",\"PumpItUp RF Pipeline\",\"PumpItUp RF Pipeline\",\"PumpItUp RF Pipeline\",\"PumpItUp RF Pipeline\",\"PumpItUp RF Pipeline\",\"PumpItUp RF Pipeline\",\"PumpItUp RF Pipeline\",\"PumpItUp RF Pipeline\",\"PumpItUp RF Pipeline\",\"PumpItUp RF Pipeline\",\"PumpItUp RF Pipeline\",\"PumpItUp RF Pipeline\",\"PumpItUp RF Pipeline\",\"PumpItUp RF Pipeline\",\"PumpItUp RF Pipeline\",\"PumpItUp RF Pipeline\",\"PumpItUp RF Pipeline\",\"PumpItUp RF Pipeline\",\"PumpItUp RF Pipeline\",\"PumpItUp RF Pipeline\",\"PumpItUp RF Pipeline\",\"PumpItUp RF Pipeline\",\"PumpItUp RF Pipeline\",\"PumpItUp RF Pipeline\"],\"legendgroup\":\"PumpItUp RF Pipeline\",\"line\":{\"color\":\"#46bac2\",\"dash\":\"solid\",\"width\":2},\"marker\":{\"symbol\":\"circle\"},\"mode\":\"lines\",\"name\":\"PumpItUp RF Pipeline\",\"opacity\":1,\"orientation\":\"v\",\"showlegend\":false,\"type\":\"scatter\",\"x\":[0.0,0.4034519307,0.8069038614,1.2103557921,1.6138077228,2.0172596535,2.4207115842,2.8241635149,3.2276154456,3.6310673763000003,4.034519307,4.4379712377,4.8414231684,5.244875099100001,5.6483270298,6.0517789605,6.4552308912,6.8586828219000004,7.262134752600001,7.6655866833,8.069038614,8.472490544700001,8.8759424754,9.2793944061,9.6828463368,10.0862982675,10.489750198200001,10.8932021289,11.2966540596,11.7001059903,12.103557921,12.507009851700001,12.9104617824,13.3139137131,13.717365643800001,14.1208175745,14.524269505200001,14.9277214359,15.3311733666,15.734625297300001,16.138077228,16.5415291587,16.944981089400002,17.3484330201,17.7518849508,18.155336881500002,18.5587888122,18.9622407429,19.3656926736,19.7691446043,20.172596535,20.5760484657,20.979500396400002,21.3829523271,21.7864042578,22.189856188500002,22.5933081192,22.9967600499,23.4002119806,23.8036639113,24.207115842,24.6105677727,25.014019703400002,25.4174716341,25.8209235648,26.224375495500002,26.6278274262,27.0312793569,27.434731287600002,27.838183218300003,28.241635149,28.6450870797,29.048539010400003,29.4519909411,29.8554428718,30.258894802500002,30.6623467332,31.0657986639,31.469250594600002,31.872702525300003,32.276154456,32.6796063867,33.0830583174,33.486510248100004,33.889962178800005,34.2934141095,34.6968660402,35.1003179709,35.5037699016,35.9072218323,36.310673763000004,36.7141256937,37.1175776244,37.5210295551,37.9244814858,38.3279334165,38.7313853472,39.134837277900004,39.5382892086,39.9417411393,40.34519307],\"xaxis\":\"x6\",\"y\":[0.1012714535524642,0.1012714535524642,0.1012714535524642,0.1012714535524642,0.1012714535524642,0.1012714535524642,0.1012714535524642,0.1012714535524642,0.1012714535524642,0.1012714535524642,0.1012714535524642,0.1012714535524642,0.1012714535524642,0.1012714535524642,0.1012714535524642,0.1012714535524642,0.1012714535524642,0.1012714535524642,0.1012714535524642,0.1012714535524642,0.1012714535524642,0.1012714535524642,0.1012714535524642,0.1012714535524642,0.1012714535524642,0.1012714535524642,0.1012714535524642,0.1012714535524642,0.1012714535524642,0.1012714535524642,0.1012714535524642,0.1012714535524642,0.1012714535524642,0.1012714535524642,0.1012714535524642,0.1012714535524642,0.1012714535524642,0.09979155474343952,0.09877297426329971,0.09835222619397188,0.09813972203129809,0.09789927223539797,0.09779536417036461,0.09773595699420742,0.09773595699420742,0.09771095699420741,0.09771095699420741,0.09771095699420741,0.09771095699420741,0.09771095699420741,0.09771095699420741,0.09771095699420741,0.09771095699420741,0.09771095699420741,0.09771095699420741,0.09771095699420741,0.09771095699420741,0.09771095699420741,0.09771095699420741,0.09771095699420741,0.09771095699420741,0.09771095699420741,0.09771095699420741,0.09771095699420741,0.09771095699420741,0.09771095699420741,0.09771095699420741,0.09771095699420741,0.09771095699420741,0.09771095699420741,0.09771095699420741,0.09771095699420741,0.09771095699420741,0.09771095699420741,0.09559846401643991,0.09147336722502783,0.08545129492315681,0.08373139601738577,0.08244105492711502,0.08177899588314504,0.08106732542653068,0.08079241095112313,0.08072770266761774,0.08032936271561215,0.08032318416573975,0.07797020326626745,0.07720636572279554,0.07827670756749339,0.07774435982909596,0.07811734302538838,0.07833875754486475,0.07837772060185497,0.07919116245347123,0.08104072232393152,0.0815812190866111,0.08155978014181203,0.08164406557584758,0.08245528019494792,0.08342957904260186,0.08422692863405207,0.08442506659622104],\"yaxis\":\"y6\"},{\"customdata\":[[0.07787879013332563,\"PumpItUp RF Pipeline\",\"latitude\"],[0.07787879013332563,\"PumpItUp RF Pipeline\",\"latitude\"],[0.07787879013332563,\"PumpItUp RF Pipeline\",\"latitude\"],[0.07787879013332563,\"PumpItUp RF Pipeline\",\"latitude\"],[0.07787879013332563,\"PumpItUp RF Pipeline\",\"latitude\"],[0.07787879013332563,\"PumpItUp RF Pipeline\",\"latitude\"],[0.07787879013332563,\"PumpItUp RF Pipeline\",\"latitude\"],[0.07787879013332563,\"PumpItUp RF Pipeline\",\"latitude\"],[0.07787879013332563,\"PumpItUp RF Pipeline\",\"latitude\"],[0.07787879013332563,\"PumpItUp RF Pipeline\",\"latitude\"],[0.07787879013332563,\"PumpItUp RF Pipeline\",\"latitude\"],[0.07787879013332563,\"PumpItUp RF Pipeline\",\"latitude\"],[0.07787879013332563,\"PumpItUp RF Pipeline\",\"latitude\"],[0.07787879013332563,\"PumpItUp RF Pipeline\",\"latitude\"],[0.07787879013332563,\"PumpItUp RF Pipeline\",\"latitude\"],[0.07787879013332563,\"PumpItUp RF Pipeline\",\"latitude\"],[0.07787879013332563,\"PumpItUp RF Pipeline\",\"latitude\"],[0.07787879013332563,\"PumpItUp RF Pipeline\",\"latitude\"],[0.07787879013332563,\"PumpItUp RF Pipeline\",\"latitude\"],[0.07787879013332563,\"PumpItUp RF Pipeline\",\"latitude\"],[0.07787879013332563,\"PumpItUp RF Pipeline\",\"latitude\"],[0.07787879013332563,\"PumpItUp RF Pipeline\",\"latitude\"],[0.07787879013332563,\"PumpItUp RF Pipeline\",\"latitude\"],[0.07787879013332563,\"PumpItUp RF Pipeline\",\"latitude\"],[0.07787879013332563,\"PumpItUp RF Pipeline\",\"latitude\"],[0.07787879013332563,\"PumpItUp RF Pipeline\",\"latitude\"],[0.07787879013332563,\"PumpItUp RF Pipeline\",\"latitude\"],[0.07787879013332563,\"PumpItUp RF Pipeline\",\"latitude\"],[0.07787879013332563,\"PumpItUp RF Pipeline\",\"latitude\"],[0.07787879013332563,\"PumpItUp RF Pipeline\",\"latitude\"],[0.07787879013332563,\"PumpItUp RF Pipeline\",\"latitude\"],[0.07787879013332563,\"PumpItUp RF Pipeline\",\"latitude\"],[0.07787879013332563,\"PumpItUp RF Pipeline\",\"latitude\"],[0.07787879013332563,\"PumpItUp RF Pipeline\",\"latitude\"],[0.07787879013332563,\"PumpItUp RF Pipeline\",\"latitude\"],[0.07787879013332563,\"PumpItUp RF Pipeline\",\"latitude\"],[0.07787879013332563,\"PumpItUp RF Pipeline\",\"latitude\"],[0.07787879013332563,\"PumpItUp RF Pipeline\",\"latitude\"],[0.07787879013332563,\"PumpItUp RF Pipeline\",\"latitude\"],[0.07787879013332563,\"PumpItUp RF Pipeline\",\"latitude\"],[0.07787879013332563,\"PumpItUp RF Pipeline\",\"latitude\"],[0.07787879013332563,\"PumpItUp RF Pipeline\",\"latitude\"],[0.07787879013332563,\"PumpItUp RF Pipeline\",\"latitude\"],[0.07787879013332563,\"PumpItUp RF Pipeline\",\"latitude\"],[0.07787879013332563,\"PumpItUp RF Pipeline\",\"latitude\"],[0.07787879013332563,\"PumpItUp RF Pipeline\",\"latitude\"],[0.07787879013332563,\"PumpItUp RF Pipeline\",\"latitude\"],[0.07787879013332563,\"PumpItUp RF Pipeline\",\"latitude\"],[0.07787879013332563,\"PumpItUp RF Pipeline\",\"latitude\"],[0.07787879013332563,\"PumpItUp RF Pipeline\",\"latitude\"],[0.07787879013332563,\"PumpItUp RF Pipeline\",\"latitude\"],[0.07787879013332563,\"PumpItUp RF Pipeline\",\"latitude\"],[0.07787879013332563,\"PumpItUp RF Pipeline\",\"latitude\"],[0.07787879013332563,\"PumpItUp RF Pipeline\",\"latitude\"],[0.07787879013332563,\"PumpItUp RF Pipeline\",\"latitude\"],[0.07787879013332563,\"PumpItUp RF Pipeline\",\"latitude\"],[0.07787879013332563,\"PumpItUp RF Pipeline\",\"latitude\"],[0.07787879013332563,\"PumpItUp RF Pipeline\",\"latitude\"],[0.07787879013332563,\"PumpItUp RF Pipeline\",\"latitude\"],[0.07787879013332563,\"PumpItUp RF Pipeline\",\"latitude\"],[0.07787879013332563,\"PumpItUp RF Pipeline\",\"latitude\"],[0.07787879013332563,\"PumpItUp RF Pipeline\",\"latitude\"],[0.07787879013332563,\"PumpItUp RF Pipeline\",\"latitude\"],[0.07787879013332563,\"PumpItUp RF Pipeline\",\"latitude\"],[0.07787879013332563,\"PumpItUp RF Pipeline\",\"latitude\"],[0.07787879013332563,\"PumpItUp RF Pipeline\",\"latitude\"],[0.07787879013332563,\"PumpItUp RF Pipeline\",\"latitude\"],[0.07787879013332563,\"PumpItUp RF Pipeline\",\"latitude\"],[0.07787879013332563,\"PumpItUp RF Pipeline\",\"latitude\"],[0.07787879013332563,\"PumpItUp RF Pipeline\",\"latitude\"],[0.07787879013332563,\"PumpItUp RF Pipeline\",\"latitude\"],[0.07787879013332563,\"PumpItUp RF Pipeline\",\"latitude\"],[0.07787879013332563,\"PumpItUp RF Pipeline\",\"latitude\"],[0.07787879013332563,\"PumpItUp RF Pipeline\",\"latitude\"],[0.07787879013332563,\"PumpItUp RF Pipeline\",\"latitude\"],[0.07787879013332563,\"PumpItUp RF Pipeline\",\"latitude\"],[0.07787879013332563,\"PumpItUp RF Pipeline\",\"latitude\"],[0.07787879013332563,\"PumpItUp RF Pipeline\",\"latitude\"],[0.07787879013332563,\"PumpItUp RF Pipeline\",\"latitude\"],[0.07787879013332563,\"PumpItUp RF Pipeline\",\"latitude\"],[0.07787879013332563,\"PumpItUp RF Pipeline\",\"latitude\"],[0.07787879013332563,\"PumpItUp RF Pipeline\",\"latitude\"],[0.07787879013332563,\"PumpItUp RF Pipeline\",\"latitude\"],[0.07787879013332563,\"PumpItUp RF Pipeline\",\"latitude\"],[0.07787879013332563,\"PumpItUp RF Pipeline\",\"latitude\"],[0.07787879013332563,\"PumpItUp RF Pipeline\",\"latitude\"],[0.07787879013332563,\"PumpItUp RF Pipeline\",\"latitude\"],[0.07787879013332563,\"PumpItUp RF Pipeline\",\"latitude\"],[0.07787879013332563,\"PumpItUp RF Pipeline\",\"latitude\"],[0.07787879013332563,\"PumpItUp RF Pipeline\",\"latitude\"],[0.07787879013332563,\"PumpItUp RF Pipeline\",\"latitude\"],[0.07787879013332563,\"PumpItUp RF Pipeline\",\"latitude\"],[0.07787879013332563,\"PumpItUp RF Pipeline\",\"latitude\"],[0.07787879013332563,\"PumpItUp RF Pipeline\",\"latitude\"],[0.07787879013332563,\"PumpItUp RF Pipeline\",\"latitude\"],[0.07787879013332563,\"PumpItUp RF Pipeline\",\"latitude\"],[0.07787879013332563,\"PumpItUp RF Pipeline\",\"latitude\"],[0.07787879013332563,\"PumpItUp RF Pipeline\",\"latitude\"],[0.07787879013332563,\"PumpItUp RF Pipeline\",\"latitude\"],[0.07787879013332563,\"PumpItUp RF Pipeline\",\"latitude\"],[0.07787879013332563,\"PumpItUp RF Pipeline\",\"latitude\"]],\"hovertemplate\":\"<b>%{hovertext}</b><br><br>prediction=%{y:.3f}<br>mean_prediction=%{customdata[0]:.3f}<extra></extra>\",\"hovertext\":[\"PumpItUp RF Pipeline\",\"PumpItUp RF Pipeline\",\"PumpItUp RF Pipeline\",\"PumpItUp RF Pipeline\",\"PumpItUp RF Pipeline\",\"PumpItUp RF Pipeline\",\"PumpItUp RF Pipeline\",\"PumpItUp RF Pipeline\",\"PumpItUp RF Pipeline\",\"PumpItUp RF Pipeline\",\"PumpItUp RF Pipeline\",\"PumpItUp RF Pipeline\",\"PumpItUp RF Pipeline\",\"PumpItUp RF Pipeline\",\"PumpItUp RF Pipeline\",\"PumpItUp RF Pipeline\",\"PumpItUp RF Pipeline\",\"PumpItUp RF Pipeline\",\"PumpItUp RF Pipeline\",\"PumpItUp RF Pipeline\",\"PumpItUp RF Pipeline\",\"PumpItUp RF Pipeline\",\"PumpItUp RF Pipeline\",\"PumpItUp RF Pipeline\",\"PumpItUp RF Pipeline\",\"PumpItUp RF Pipeline\",\"PumpItUp RF Pipeline\",\"PumpItUp RF Pipeline\",\"PumpItUp RF Pipeline\",\"PumpItUp RF Pipeline\",\"PumpItUp RF Pipeline\",\"PumpItUp RF Pipeline\",\"PumpItUp RF Pipeline\",\"PumpItUp RF Pipeline\",\"PumpItUp RF Pipeline\",\"PumpItUp RF Pipeline\",\"PumpItUp RF Pipeline\",\"PumpItUp RF Pipeline\",\"PumpItUp RF Pipeline\",\"PumpItUp RF Pipeline\",\"PumpItUp RF Pipeline\",\"PumpItUp RF Pipeline\",\"PumpItUp RF Pipeline\",\"PumpItUp RF Pipeline\",\"PumpItUp RF Pipeline\",\"PumpItUp RF Pipeline\",\"PumpItUp RF Pipeline\",\"PumpItUp RF Pipeline\",\"PumpItUp RF Pipeline\",\"PumpItUp RF Pipeline\",\"PumpItUp RF Pipeline\",\"PumpItUp RF Pipeline\",\"PumpItUp RF Pipeline\",\"PumpItUp RF Pipeline\",\"PumpItUp RF Pipeline\",\"PumpItUp RF Pipeline\",\"PumpItUp RF Pipeline\",\"PumpItUp RF Pipeline\",\"PumpItUp RF Pipeline\",\"PumpItUp RF Pipeline\",\"PumpItUp RF Pipeline\",\"PumpItUp RF Pipeline\",\"PumpItUp RF Pipeline\",\"PumpItUp RF Pipeline\",\"PumpItUp RF Pipeline\",\"PumpItUp RF Pipeline\",\"PumpItUp RF Pipeline\",\"PumpItUp RF Pipeline\",\"PumpItUp RF Pipeline\",\"PumpItUp RF Pipeline\",\"PumpItUp RF Pipeline\",\"PumpItUp RF Pipeline\",\"PumpItUp RF Pipeline\",\"PumpItUp RF Pipeline\",\"PumpItUp RF Pipeline\",\"PumpItUp RF Pipeline\",\"PumpItUp RF Pipeline\",\"PumpItUp RF Pipeline\",\"PumpItUp RF Pipeline\",\"PumpItUp RF Pipeline\",\"PumpItUp RF Pipeline\",\"PumpItUp RF Pipeline\",\"PumpItUp RF Pipeline\",\"PumpItUp RF Pipeline\",\"PumpItUp RF Pipeline\",\"PumpItUp RF Pipeline\",\"PumpItUp RF Pipeline\",\"PumpItUp RF Pipeline\",\"PumpItUp RF Pipeline\",\"PumpItUp RF Pipeline\",\"PumpItUp RF Pipeline\",\"PumpItUp RF Pipeline\",\"PumpItUp RF Pipeline\",\"PumpItUp RF Pipeline\",\"PumpItUp RF Pipeline\",\"PumpItUp RF Pipeline\",\"PumpItUp RF Pipeline\",\"PumpItUp RF Pipeline\",\"PumpItUp RF Pipeline\",\"PumpItUp RF Pipeline\",\"PumpItUp RF Pipeline\"],\"legendgroup\":\"PumpItUp RF Pipeline\",\"line\":{\"color\":\"#46bac2\",\"dash\":\"solid\",\"width\":2},\"marker\":{\"symbol\":\"circle\"},\"mode\":\"lines\",\"name\":\"PumpItUp RF Pipeline\",\"opacity\":1,\"orientation\":\"v\",\"showlegend\":false,\"type\":\"scatter\",\"x\":[-11.64944018,-11.532945778399998,-11.4164513768,-11.299956975199999,-11.1834625736,-11.066968172,-10.950473770399999,-10.8339793688,-10.717484967199999,-10.6009905656,-10.484496164,-10.368001762399999,-10.2515073608,-10.1350129592,-10.0185185576,-9.902024156,-9.785529754399999,-9.6690353528,-9.5525409512,-9.4360465496,-9.319552148,-9.203057746399999,-9.086563344799998,-8.9700689432,-8.8535745416,-8.73708014,-8.620585738399999,-8.504091336799998,-8.3875969352,-8.271102533599999,-8.154608132,-8.0381137304,-7.921619328799999,-7.8051249272,-7.688630525599999,-7.572136123999999,-7.455641722399999,-7.3391473207999995,-7.2226529192,-7.106158517599999,-6.989664115999999,-6.8731697143999995,-6.7566753128,-6.6401809112,-6.523686509599999,-6.407192107999999,-6.2906977064,-6.1742033048,-6.0577089032,-5.941214501599999,-5.8247200999999995,-5.7082256984,-5.5917312968,-5.475236895199999,-5.358742493599999,-5.242248092,-5.1257536904,-5.0092592888,-4.892764887199999,-4.7762704856,-4.659776084,-4.5432816824,-4.426787280799999,-4.3102928791999995,-4.1937984776,-4.077304076,-3.9608096744,-3.8443152727999994,-3.7278208711999996,-3.6113264696,-3.494832067999999,-3.3783376664,-3.2618432647999995,-3.1453488632000006,-3.0288544616,-2.9123600599999993,-2.7958656584000003,-2.6793712567999997,-2.562876855199999,-2.4463824536,-2.3298880519999994,-2.2133936504000005,-2.0968992488,-1.980404847199999,-1.8639104456000002,-1.7474160439999995,-1.6309216424000006,-1.5144272408,-1.3979328391999992,-1.2814384376000003,-1.1649440359999996,-1.0484496344000007,-0.9319552328,-0.8154608311999993,-0.6989664296000004,-0.5824720279999998,-0.46597762640000084,-0.34948322480000016,-0.23298882319999947,-0.11649442160000056,-2e-08],\"xaxis\":\"x3\",\"y\":[0.08652555870415589,0.08590381753187146,0.0853886610750568,0.08532231671566742,0.0849878676937232,0.08389317334586555,0.08322506273101692,0.08292748327052434,0.08254844551491113,0.08213031181366165,0.08178512926020587,0.08175897135439744,0.08134182704749982,0.0813112255313907,0.08117655239588058,0.08108247586020405,0.08063295042721519,0.08052327443234762,0.08054126779336182,0.08063102404863826,0.08059937612519856,0.0804735239496797,0.08060368782530544,0.08011476729867902,0.07935140399446534,0.0790562057205696,0.07888399668009072,0.07793457082196152,0.07819469305857986,0.07864334532631058,0.07863328630543086,0.07854879441478832,0.07832980761024318,0.07820068313394632,0.07813419034824086,0.07823436275426687,0.07841789786977447,0.07833626983690986,0.07841389563526112,0.07843785505476294,0.07858148191606742,0.07849898583507224,0.0783215093678543,0.07815392792490063,0.07826756859696207,0.07829110550915136,0.07841133126256455,0.07851581362553002,0.07784677527247025,0.07784320778390993,0.07791688730862752,0.07794056024503132,0.07804674468719713,0.07809854636865766,0.07818783216463049,0.07823504506559027,0.07823560567348022,0.0784204348272659,0.07881828642852684,0.07956112667939517,0.08022679425570879,0.08084011963795495,0.08071189924839159,0.08074364542087166,0.08054139110524208,0.08052774628862386,0.08040421701214089,0.08041217279381761,0.08034143274139356,0.08023593296949941,0.07994622208832235,0.07988972846368782,0.08061307041876549,0.08154715585319873,0.08243038325869403,0.08331001931995576,0.08342330073418035,0.0838032441062937,0.08392268566003637,0.08395622572288639,0.08416320880060395,0.08426227792163268,0.08469005801261947,0.08483810952663508,0.08505122588850131,0.08539186918516935,0.08570599953934405,0.08623030010955195,0.08679575569250163,0.08712425860381735,0.08818594808226436,0.08952164111659791,0.09001293543695482,0.09016360616960226,0.09059475118974036,0.09111226839356387,0.09432720383822199,0.09432720383822199,0.09432720383822199,0.09432720383822199,0.09432720383822199],\"yaxis\":\"y3\"},{\"customdata\":[[0.07787879013332563,\"PumpItUp RF Pipeline\",\"construction_year\"],[0.07787879013332563,\"PumpItUp RF Pipeline\",\"construction_year\"],[0.07787879013332563,\"PumpItUp RF Pipeline\",\"construction_year\"],[0.07787879013332563,\"PumpItUp RF Pipeline\",\"construction_year\"],[0.07787879013332563,\"PumpItUp RF Pipeline\",\"construction_year\"],[0.07787879013332563,\"PumpItUp RF Pipeline\",\"construction_year\"],[0.07787879013332563,\"PumpItUp RF Pipeline\",\"construction_year\"],[0.07787879013332563,\"PumpItUp RF Pipeline\",\"construction_year\"],[0.07787879013332563,\"PumpItUp RF Pipeline\",\"construction_year\"],[0.07787879013332563,\"PumpItUp RF Pipeline\",\"construction_year\"],[0.07787879013332563,\"PumpItUp RF Pipeline\",\"construction_year\"],[0.07787879013332563,\"PumpItUp RF Pipeline\",\"construction_year\"],[0.07787879013332563,\"PumpItUp RF Pipeline\",\"construction_year\"],[0.07787879013332563,\"PumpItUp RF Pipeline\",\"construction_year\"],[0.07787879013332563,\"PumpItUp RF Pipeline\",\"construction_year\"],[0.07787879013332563,\"PumpItUp RF Pipeline\",\"construction_year\"],[0.07787879013332563,\"PumpItUp RF Pipeline\",\"construction_year\"],[0.07787879013332563,\"PumpItUp RF Pipeline\",\"construction_year\"],[0.07787879013332563,\"PumpItUp RF Pipeline\",\"construction_year\"],[0.07787879013332563,\"PumpItUp RF Pipeline\",\"construction_year\"],[0.07787879013332563,\"PumpItUp RF Pipeline\",\"construction_year\"],[0.07787879013332563,\"PumpItUp RF Pipeline\",\"construction_year\"],[0.07787879013332563,\"PumpItUp RF Pipeline\",\"construction_year\"],[0.07787879013332563,\"PumpItUp RF Pipeline\",\"construction_year\"],[0.07787879013332563,\"PumpItUp RF Pipeline\",\"construction_year\"],[0.07787879013332563,\"PumpItUp RF Pipeline\",\"construction_year\"],[0.07787879013332563,\"PumpItUp RF Pipeline\",\"construction_year\"],[0.07787879013332563,\"PumpItUp RF Pipeline\",\"construction_year\"],[0.07787879013332563,\"PumpItUp RF Pipeline\",\"construction_year\"],[0.07787879013332563,\"PumpItUp RF Pipeline\",\"construction_year\"],[0.07787879013332563,\"PumpItUp RF Pipeline\",\"construction_year\"],[0.07787879013332563,\"PumpItUp RF Pipeline\",\"construction_year\"],[0.07787879013332563,\"PumpItUp RF Pipeline\",\"construction_year\"],[0.07787879013332563,\"PumpItUp RF Pipeline\",\"construction_year\"],[0.07787879013332563,\"PumpItUp RF Pipeline\",\"construction_year\"],[0.07787879013332563,\"PumpItUp RF Pipeline\",\"construction_year\"],[0.07787879013332563,\"PumpItUp RF Pipeline\",\"construction_year\"],[0.07787879013332563,\"PumpItUp RF Pipeline\",\"construction_year\"],[0.07787879013332563,\"PumpItUp RF Pipeline\",\"construction_year\"],[0.07787879013332563,\"PumpItUp RF Pipeline\",\"construction_year\"],[0.07787879013332563,\"PumpItUp RF Pipeline\",\"construction_year\"],[0.07787879013332563,\"PumpItUp RF Pipeline\",\"construction_year\"],[0.07787879013332563,\"PumpItUp RF Pipeline\",\"construction_year\"],[0.07787879013332563,\"PumpItUp RF Pipeline\",\"construction_year\"],[0.07787879013332563,\"PumpItUp RF Pipeline\",\"construction_year\"],[0.07787879013332563,\"PumpItUp RF Pipeline\",\"construction_year\"],[0.07787879013332563,\"PumpItUp RF Pipeline\",\"construction_year\"],[0.07787879013332563,\"PumpItUp RF Pipeline\",\"construction_year\"],[0.07787879013332563,\"PumpItUp RF Pipeline\",\"construction_year\"],[0.07787879013332563,\"PumpItUp RF Pipeline\",\"construction_year\"],[0.07787879013332563,\"PumpItUp RF Pipeline\",\"construction_year\"],[0.07787879013332563,\"PumpItUp RF Pipeline\",\"construction_year\"],[0.07787879013332563,\"PumpItUp RF Pipeline\",\"construction_year\"],[0.07787879013332563,\"PumpItUp RF Pipeline\",\"construction_year\"],[0.07787879013332563,\"PumpItUp RF Pipeline\",\"construction_year\"],[0.07787879013332563,\"PumpItUp RF Pipeline\",\"construction_year\"],[0.07787879013332563,\"PumpItUp RF Pipeline\",\"construction_year\"],[0.07787879013332563,\"PumpItUp RF Pipeline\",\"construction_year\"],[0.07787879013332563,\"PumpItUp RF Pipeline\",\"construction_year\"],[0.07787879013332563,\"PumpItUp RF Pipeline\",\"construction_year\"],[0.07787879013332563,\"PumpItUp RF Pipeline\",\"construction_year\"],[0.07787879013332563,\"PumpItUp RF Pipeline\",\"construction_year\"],[0.07787879013332563,\"PumpItUp RF Pipeline\",\"construction_year\"],[0.07787879013332563,\"PumpItUp RF Pipeline\",\"construction_year\"],[0.07787879013332563,\"PumpItUp RF Pipeline\",\"construction_year\"],[0.07787879013332563,\"PumpItUp RF Pipeline\",\"construction_year\"],[0.07787879013332563,\"PumpItUp RF Pipeline\",\"construction_year\"],[0.07787879013332563,\"PumpItUp RF Pipeline\",\"construction_year\"],[0.07787879013332563,\"PumpItUp RF Pipeline\",\"construction_year\"],[0.07787879013332563,\"PumpItUp RF Pipeline\",\"construction_year\"],[0.07787879013332563,\"PumpItUp RF Pipeline\",\"construction_year\"],[0.07787879013332563,\"PumpItUp RF Pipeline\",\"construction_year\"],[0.07787879013332563,\"PumpItUp RF Pipeline\",\"construction_year\"],[0.07787879013332563,\"PumpItUp RF Pipeline\",\"construction_year\"],[0.07787879013332563,\"PumpItUp RF Pipeline\",\"construction_year\"],[0.07787879013332563,\"PumpItUp RF Pipeline\",\"construction_year\"],[0.07787879013332563,\"PumpItUp RF Pipeline\",\"construction_year\"],[0.07787879013332563,\"PumpItUp RF Pipeline\",\"construction_year\"],[0.07787879013332563,\"PumpItUp RF Pipeline\",\"construction_year\"],[0.07787879013332563,\"PumpItUp RF Pipeline\",\"construction_year\"],[0.07787879013332563,\"PumpItUp RF Pipeline\",\"construction_year\"],[0.07787879013332563,\"PumpItUp RF Pipeline\",\"construction_year\"],[0.07787879013332563,\"PumpItUp RF Pipeline\",\"construction_year\"],[0.07787879013332563,\"PumpItUp RF Pipeline\",\"construction_year\"],[0.07787879013332563,\"PumpItUp RF Pipeline\",\"construction_year\"],[0.07787879013332563,\"PumpItUp RF Pipeline\",\"construction_year\"],[0.07787879013332563,\"PumpItUp RF Pipeline\",\"construction_year\"],[0.07787879013332563,\"PumpItUp RF Pipeline\",\"construction_year\"],[0.07787879013332563,\"PumpItUp RF Pipeline\",\"construction_year\"],[0.07787879013332563,\"PumpItUp RF Pipeline\",\"construction_year\"],[0.07787879013332563,\"PumpItUp RF Pipeline\",\"construction_year\"],[0.07787879013332563,\"PumpItUp RF Pipeline\",\"construction_year\"],[0.07787879013332563,\"PumpItUp RF Pipeline\",\"construction_year\"],[0.07787879013332563,\"PumpItUp RF Pipeline\",\"construction_year\"],[0.07787879013332563,\"PumpItUp RF Pipeline\",\"construction_year\"],[0.07787879013332563,\"PumpItUp RF Pipeline\",\"construction_year\"],[0.07787879013332563,\"PumpItUp RF Pipeline\",\"construction_year\"],[0.07787879013332563,\"PumpItUp RF Pipeline\",\"construction_year\"],[0.07787879013332563,\"PumpItUp RF Pipeline\",\"construction_year\"],[0.07787879013332563,\"PumpItUp RF Pipeline\",\"construction_year\"],[0.07787879013332563,\"PumpItUp RF Pipeline\",\"construction_year\"]],\"hovertemplate\":\"<b>%{hovertext}</b><br><br>prediction=%{y:.3f}<br>mean_prediction=%{customdata[0]:.3f}<extra></extra>\",\"hovertext\":[\"PumpItUp RF Pipeline\",\"PumpItUp RF Pipeline\",\"PumpItUp RF Pipeline\",\"PumpItUp RF Pipeline\",\"PumpItUp RF Pipeline\",\"PumpItUp RF Pipeline\",\"PumpItUp RF Pipeline\",\"PumpItUp RF Pipeline\",\"PumpItUp RF Pipeline\",\"PumpItUp RF Pipeline\",\"PumpItUp RF Pipeline\",\"PumpItUp RF Pipeline\",\"PumpItUp RF Pipeline\",\"PumpItUp RF Pipeline\",\"PumpItUp RF Pipeline\",\"PumpItUp RF Pipeline\",\"PumpItUp RF Pipeline\",\"PumpItUp RF Pipeline\",\"PumpItUp RF Pipeline\",\"PumpItUp RF Pipeline\",\"PumpItUp RF Pipeline\",\"PumpItUp RF Pipeline\",\"PumpItUp RF Pipeline\",\"PumpItUp RF Pipeline\",\"PumpItUp RF Pipeline\",\"PumpItUp RF Pipeline\",\"PumpItUp RF Pipeline\",\"PumpItUp RF Pipeline\",\"PumpItUp RF Pipeline\",\"PumpItUp RF Pipeline\",\"PumpItUp RF Pipeline\",\"PumpItUp RF Pipeline\",\"PumpItUp RF Pipeline\",\"PumpItUp RF Pipeline\",\"PumpItUp RF Pipeline\",\"PumpItUp RF Pipeline\",\"PumpItUp RF Pipeline\",\"PumpItUp RF Pipeline\",\"PumpItUp RF Pipeline\",\"PumpItUp RF Pipeline\",\"PumpItUp RF Pipeline\",\"PumpItUp RF Pipeline\",\"PumpItUp RF Pipeline\",\"PumpItUp RF Pipeline\",\"PumpItUp RF Pipeline\",\"PumpItUp RF Pipeline\",\"PumpItUp RF Pipeline\",\"PumpItUp RF Pipeline\",\"PumpItUp RF Pipeline\",\"PumpItUp RF Pipeline\",\"PumpItUp RF Pipeline\",\"PumpItUp RF Pipeline\",\"PumpItUp RF Pipeline\",\"PumpItUp RF Pipeline\",\"PumpItUp RF Pipeline\",\"PumpItUp RF Pipeline\",\"PumpItUp RF Pipeline\",\"PumpItUp RF Pipeline\",\"PumpItUp RF Pipeline\",\"PumpItUp RF Pipeline\",\"PumpItUp RF Pipeline\",\"PumpItUp RF Pipeline\",\"PumpItUp RF Pipeline\",\"PumpItUp RF Pipeline\",\"PumpItUp RF Pipeline\",\"PumpItUp RF Pipeline\",\"PumpItUp RF Pipeline\",\"PumpItUp RF Pipeline\",\"PumpItUp RF Pipeline\",\"PumpItUp RF Pipeline\",\"PumpItUp RF Pipeline\",\"PumpItUp RF Pipeline\",\"PumpItUp RF Pipeline\",\"PumpItUp RF Pipeline\",\"PumpItUp RF Pipeline\",\"PumpItUp RF Pipeline\",\"PumpItUp RF Pipeline\",\"PumpItUp RF Pipeline\",\"PumpItUp RF Pipeline\",\"PumpItUp RF Pipeline\",\"PumpItUp RF Pipeline\",\"PumpItUp RF Pipeline\",\"PumpItUp RF Pipeline\",\"PumpItUp RF Pipeline\",\"PumpItUp RF Pipeline\",\"PumpItUp RF Pipeline\",\"PumpItUp RF Pipeline\",\"PumpItUp RF Pipeline\",\"PumpItUp RF Pipeline\",\"PumpItUp RF Pipeline\",\"PumpItUp RF Pipeline\",\"PumpItUp RF Pipeline\",\"PumpItUp RF Pipeline\",\"PumpItUp RF Pipeline\",\"PumpItUp RF Pipeline\",\"PumpItUp RF Pipeline\",\"PumpItUp RF Pipeline\",\"PumpItUp RF Pipeline\",\"PumpItUp RF Pipeline\",\"PumpItUp RF Pipeline\",\"PumpItUp RF Pipeline\"],\"legendgroup\":\"PumpItUp RF Pipeline\",\"line\":{\"color\":\"#46bac2\",\"dash\":\"solid\",\"width\":2},\"marker\":{\"symbol\":\"circle\"},\"mode\":\"lines\",\"name\":\"PumpItUp RF Pipeline\",\"opacity\":1,\"orientation\":\"v\",\"showlegend\":false,\"type\":\"scatter\",\"x\":[1960.0,1960.53,1961.06,1961.59,1962.12,1962.65,1963.18,1963.71,1964.24,1964.77,1965.3,1965.83,1966.36,1966.89,1967.42,1967.95,1968.48,1969.01,1969.54,1970.07,1970.6,1971.13,1971.66,1972.19,1972.72,1973.25,1973.78,1974.31,1974.84,1975.37,1975.9,1976.43,1976.96,1977.49,1978.02,1978.55,1979.08,1979.61,1980.14,1980.67,1981.2,1981.73,1982.26,1982.79,1983.32,1983.85,1984.38,1984.91,1985.44,1985.97,1986.5,1987.03,1987.56,1988.09,1988.62,1989.15,1989.68,1990.21,1990.74,1991.27,1991.8,1992.33,1992.86,1993.39,1993.92,1994.45,1994.98,1995.51,1996.04,1996.57,1997.1,1997.63,1998.16,1998.69,1999.22,1999.75,2000.28,2000.81,2001.34,2001.87,2002.4,2002.93,2003.46,2003.99,2004.52,2005.05,2005.58,2006.11,2006.64,2007.17,2007.7,2008.23,2008.76,2009.29,2009.82,2010.35,2010.88,2011.41,2011.94,2012.47,2013.0],\"xaxis\":\"x4\",\"y\":[0.09025147523079118,0.09023496288511215,0.09021829621844549,0.09002133441288994,0.09002133441288994,0.08998800107955662,0.08998800107955662,0.0898984177462233,0.08988175107955662,0.08968174733979781,0.0896283531274897,0.08954659487346259,0.08957669455727549,0.08957416081650646,0.08958979661855584,0.08936983887373517,0.08932704706630275,0.08889610343835214,0.0888239251302207,0.08883864281728716,0.08897491339522681,0.08884167164346553,0.08891007554142204,0.08894708360264479,0.08878963716058061,0.08866396829283779,0.08849955896178202,0.08844422307674606,0.08849492933845982,0.08848003176970173,0.08826263886725762,0.08813325048435679,0.08824994351609328,0.08820916676104165,0.08820982842533337,0.08819484113082159,0.08801531844573067,0.08769582209903386,0.08774694409512102,0.08778577697908518,0.08738818115742138,0.08753327831744748,0.08763643882059398,0.08764021690685407,0.0875455988187544,0.0878166764450746,0.08783796236117719,0.08811708994654831,0.08819053931126519,0.08667874288651169,0.08656282114016406,0.0860348140613417,0.08555934395124214,0.08544734772718042,0.08499732108951609,0.0849072101435672,0.08449660363816336,0.08443265932105168,0.08412290256974464,0.08410035823669171,0.08333366141691517,0.0832922205969628,0.08300780355314542,0.0827775758336374,0.08213351493576564,0.08200964338749618,0.08203033652258873,0.08171809923808905,0.08174488267480301,0.08154367423692599,0.08151729384787469,0.0811698926028421,0.08115953725860295,0.08005666363661516,0.0798564071431179,0.07907864751768473,0.07901023908175736,0.0785184080931597,0.07832234948243755,0.07798742225347079,0.07790796169596532,0.07726091202946306,0.07717246197076741,0.07701232461570864,0.07682101028022646,0.07656016538088657,0.07591755411552323,0.07581091603158559,0.07523447343545088,0.07511752862701589,0.07493557169572118,0.07492847905845813,0.07442220379096551,0.07440553140524543,0.07452213323126688,0.07450163471936215,0.07457719747902479,0.07464485196615045,0.07513193489668488,0.0751087801347801,0.07475321546399429],\"yaxis\":\"y4\"},{\"customdata\":[[0.07787879013332563,\"PumpItUp RF Pipeline\",\"population\"],[0.07787879013332563,\"PumpItUp RF Pipeline\",\"population\"],[0.07787879013332563,\"PumpItUp RF Pipeline\",\"population\"],[0.07787879013332563,\"PumpItUp RF Pipeline\",\"population\"],[0.07787879013332563,\"PumpItUp RF Pipeline\",\"population\"],[0.07787879013332563,\"PumpItUp RF Pipeline\",\"population\"],[0.07787879013332563,\"PumpItUp RF Pipeline\",\"population\"],[0.07787879013332563,\"PumpItUp RF Pipeline\",\"population\"],[0.07787879013332563,\"PumpItUp RF Pipeline\",\"population\"],[0.07787879013332563,\"PumpItUp RF Pipeline\",\"population\"],[0.07787879013332563,\"PumpItUp RF Pipeline\",\"population\"],[0.07787879013332563,\"PumpItUp RF Pipeline\",\"population\"],[0.07787879013332563,\"PumpItUp RF Pipeline\",\"population\"],[0.07787879013332563,\"PumpItUp RF Pipeline\",\"population\"],[0.07787879013332563,\"PumpItUp RF Pipeline\",\"population\"],[0.07787879013332563,\"PumpItUp RF Pipeline\",\"population\"],[0.07787879013332563,\"PumpItUp RF Pipeline\",\"population\"],[0.07787879013332563,\"PumpItUp RF Pipeline\",\"population\"],[0.07787879013332563,\"PumpItUp RF Pipeline\",\"population\"],[0.07787879013332563,\"PumpItUp RF Pipeline\",\"population\"],[0.07787879013332563,\"PumpItUp RF Pipeline\",\"population\"],[0.07787879013332563,\"PumpItUp RF Pipeline\",\"population\"],[0.07787879013332563,\"PumpItUp RF Pipeline\",\"population\"],[0.07787879013332563,\"PumpItUp RF Pipeline\",\"population\"],[0.07787879013332563,\"PumpItUp RF Pipeline\",\"population\"],[0.07787879013332563,\"PumpItUp RF Pipeline\",\"population\"],[0.07787879013332563,\"PumpItUp RF Pipeline\",\"population\"],[0.07787879013332563,\"PumpItUp RF Pipeline\",\"population\"],[0.07787879013332563,\"PumpItUp RF Pipeline\",\"population\"],[0.07787879013332563,\"PumpItUp RF Pipeline\",\"population\"],[0.07787879013332563,\"PumpItUp RF Pipeline\",\"population\"],[0.07787879013332563,\"PumpItUp RF Pipeline\",\"population\"],[0.07787879013332563,\"PumpItUp RF Pipeline\",\"population\"],[0.07787879013332563,\"PumpItUp RF Pipeline\",\"population\"],[0.07787879013332563,\"PumpItUp RF Pipeline\",\"population\"],[0.07787879013332563,\"PumpItUp RF Pipeline\",\"population\"],[0.07787879013332563,\"PumpItUp RF Pipeline\",\"population\"],[0.07787879013332563,\"PumpItUp RF Pipeline\",\"population\"],[0.07787879013332563,\"PumpItUp RF Pipeline\",\"population\"],[0.07787879013332563,\"PumpItUp RF Pipeline\",\"population\"],[0.07787879013332563,\"PumpItUp RF Pipeline\",\"population\"],[0.07787879013332563,\"PumpItUp RF Pipeline\",\"population\"],[0.07787879013332563,\"PumpItUp RF Pipeline\",\"population\"],[0.07787879013332563,\"PumpItUp RF Pipeline\",\"population\"],[0.07787879013332563,\"PumpItUp RF Pipeline\",\"population\"],[0.07787879013332563,\"PumpItUp RF Pipeline\",\"population\"],[0.07787879013332563,\"PumpItUp RF Pipeline\",\"population\"],[0.07787879013332563,\"PumpItUp RF Pipeline\",\"population\"],[0.07787879013332563,\"PumpItUp RF Pipeline\",\"population\"],[0.07787879013332563,\"PumpItUp RF Pipeline\",\"population\"],[0.07787879013332563,\"PumpItUp RF Pipeline\",\"population\"],[0.07787879013332563,\"PumpItUp RF Pipeline\",\"population\"],[0.07787879013332563,\"PumpItUp RF Pipeline\",\"population\"],[0.07787879013332563,\"PumpItUp RF Pipeline\",\"population\"],[0.07787879013332563,\"PumpItUp RF Pipeline\",\"population\"],[0.07787879013332563,\"PumpItUp RF Pipeline\",\"population\"],[0.07787879013332563,\"PumpItUp RF Pipeline\",\"population\"],[0.07787879013332563,\"PumpItUp RF Pipeline\",\"population\"],[0.07787879013332563,\"PumpItUp RF Pipeline\",\"population\"],[0.07787879013332563,\"PumpItUp RF Pipeline\",\"population\"],[0.07787879013332563,\"PumpItUp RF Pipeline\",\"population\"],[0.07787879013332563,\"PumpItUp RF Pipeline\",\"population\"],[0.07787879013332563,\"PumpItUp RF Pipeline\",\"population\"],[0.07787879013332563,\"PumpItUp RF Pipeline\",\"population\"],[0.07787879013332563,\"PumpItUp RF Pipeline\",\"population\"],[0.07787879013332563,\"PumpItUp RF Pipeline\",\"population\"],[0.07787879013332563,\"PumpItUp RF Pipeline\",\"population\"],[0.07787879013332563,\"PumpItUp RF Pipeline\",\"population\"],[0.07787879013332563,\"PumpItUp RF Pipeline\",\"population\"],[0.07787879013332563,\"PumpItUp RF Pipeline\",\"population\"],[0.07787879013332563,\"PumpItUp RF Pipeline\",\"population\"],[0.07787879013332563,\"PumpItUp RF Pipeline\",\"population\"],[0.07787879013332563,\"PumpItUp RF Pipeline\",\"population\"],[0.07787879013332563,\"PumpItUp RF Pipeline\",\"population\"],[0.07787879013332563,\"PumpItUp RF Pipeline\",\"population\"],[0.07787879013332563,\"PumpItUp RF Pipeline\",\"population\"],[0.07787879013332563,\"PumpItUp RF Pipeline\",\"population\"],[0.07787879013332563,\"PumpItUp RF Pipeline\",\"population\"],[0.07787879013332563,\"PumpItUp RF Pipeline\",\"population\"],[0.07787879013332563,\"PumpItUp RF Pipeline\",\"population\"],[0.07787879013332563,\"PumpItUp RF Pipeline\",\"population\"],[0.07787879013332563,\"PumpItUp RF Pipeline\",\"population\"],[0.07787879013332563,\"PumpItUp RF Pipeline\",\"population\"],[0.07787879013332563,\"PumpItUp RF Pipeline\",\"population\"],[0.07787879013332563,\"PumpItUp RF Pipeline\",\"population\"],[0.07787879013332563,\"PumpItUp RF Pipeline\",\"population\"],[0.07787879013332563,\"PumpItUp RF Pipeline\",\"population\"],[0.07787879013332563,\"PumpItUp RF Pipeline\",\"population\"],[0.07787879013332563,\"PumpItUp RF Pipeline\",\"population\"],[0.07787879013332563,\"PumpItUp RF Pipeline\",\"population\"],[0.07787879013332563,\"PumpItUp RF Pipeline\",\"population\"],[0.07787879013332563,\"PumpItUp RF Pipeline\",\"population\"],[0.07787879013332563,\"PumpItUp RF Pipeline\",\"population\"],[0.07787879013332563,\"PumpItUp RF Pipeline\",\"population\"],[0.07787879013332563,\"PumpItUp RF Pipeline\",\"population\"],[0.07787879013332563,\"PumpItUp RF Pipeline\",\"population\"],[0.07787879013332563,\"PumpItUp RF Pipeline\",\"population\"],[0.07787879013332563,\"PumpItUp RF Pipeline\",\"population\"],[0.07787879013332563,\"PumpItUp RF Pipeline\",\"population\"],[0.07787879013332563,\"PumpItUp RF Pipeline\",\"population\"],[0.07787879013332563,\"PumpItUp RF Pipeline\",\"population\"]],\"hovertemplate\":\"<b>%{hovertext}</b><br><br>prediction=%{y:.3f}<br>mean_prediction=%{customdata[0]:.3f}<extra></extra>\",\"hovertext\":[\"PumpItUp RF Pipeline\",\"PumpItUp RF Pipeline\",\"PumpItUp RF Pipeline\",\"PumpItUp RF Pipeline\",\"PumpItUp RF Pipeline\",\"PumpItUp RF Pipeline\",\"PumpItUp RF Pipeline\",\"PumpItUp RF Pipeline\",\"PumpItUp RF Pipeline\",\"PumpItUp RF Pipeline\",\"PumpItUp RF Pipeline\",\"PumpItUp RF Pipeline\",\"PumpItUp RF Pipeline\",\"PumpItUp RF Pipeline\",\"PumpItUp RF Pipeline\",\"PumpItUp RF Pipeline\",\"PumpItUp RF Pipeline\",\"PumpItUp RF Pipeline\",\"PumpItUp RF Pipeline\",\"PumpItUp RF Pipeline\",\"PumpItUp RF Pipeline\",\"PumpItUp RF Pipeline\",\"PumpItUp RF Pipeline\",\"PumpItUp RF Pipeline\",\"PumpItUp RF Pipeline\",\"PumpItUp RF Pipeline\",\"PumpItUp RF Pipeline\",\"PumpItUp RF Pipeline\",\"PumpItUp RF Pipeline\",\"PumpItUp RF Pipeline\",\"PumpItUp RF Pipeline\",\"PumpItUp RF Pipeline\",\"PumpItUp RF Pipeline\",\"PumpItUp RF Pipeline\",\"PumpItUp RF Pipeline\",\"PumpItUp RF Pipeline\",\"PumpItUp RF Pipeline\",\"PumpItUp RF Pipeline\",\"PumpItUp RF Pipeline\",\"PumpItUp RF Pipeline\",\"PumpItUp RF Pipeline\",\"PumpItUp RF Pipeline\",\"PumpItUp RF Pipeline\",\"PumpItUp RF Pipeline\",\"PumpItUp RF Pipeline\",\"PumpItUp RF Pipeline\",\"PumpItUp RF Pipeline\",\"PumpItUp RF Pipeline\",\"PumpItUp RF Pipeline\",\"PumpItUp RF Pipeline\",\"PumpItUp RF Pipeline\",\"PumpItUp RF Pipeline\",\"PumpItUp RF Pipeline\",\"PumpItUp RF Pipeline\",\"PumpItUp RF Pipeline\",\"PumpItUp RF Pipeline\",\"PumpItUp RF Pipeline\",\"PumpItUp RF Pipeline\",\"PumpItUp RF Pipeline\",\"PumpItUp RF Pipeline\",\"PumpItUp RF Pipeline\",\"PumpItUp RF Pipeline\",\"PumpItUp RF Pipeline\",\"PumpItUp RF Pipeline\",\"PumpItUp RF Pipeline\",\"PumpItUp RF Pipeline\",\"PumpItUp RF Pipeline\",\"PumpItUp RF Pipeline\",\"PumpItUp RF Pipeline\",\"PumpItUp RF Pipeline\",\"PumpItUp RF Pipeline\",\"PumpItUp RF Pipeline\",\"PumpItUp RF Pipeline\",\"PumpItUp RF Pipeline\",\"PumpItUp RF Pipeline\",\"PumpItUp RF Pipeline\",\"PumpItUp RF Pipeline\",\"PumpItUp RF Pipeline\",\"PumpItUp RF Pipeline\",\"PumpItUp RF Pipeline\",\"PumpItUp RF Pipeline\",\"PumpItUp RF Pipeline\",\"PumpItUp RF Pipeline\",\"PumpItUp RF Pipeline\",\"PumpItUp RF Pipeline\",\"PumpItUp RF Pipeline\",\"PumpItUp RF Pipeline\",\"PumpItUp RF Pipeline\",\"PumpItUp RF Pipeline\",\"PumpItUp RF Pipeline\",\"PumpItUp RF Pipeline\",\"PumpItUp RF Pipeline\",\"PumpItUp RF Pipeline\",\"PumpItUp RF Pipeline\",\"PumpItUp RF Pipeline\",\"PumpItUp RF Pipeline\",\"PumpItUp RF Pipeline\",\"PumpItUp RF Pipeline\",\"PumpItUp RF Pipeline\",\"PumpItUp RF Pipeline\",\"PumpItUp RF Pipeline\"],\"legendgroup\":\"PumpItUp RF Pipeline\",\"line\":{\"color\":\"#46bac2\",\"dash\":\"solid\",\"width\":2},\"marker\":{\"symbol\":\"circle\"},\"mode\":\"lines\",\"name\":\"PumpItUp RF Pipeline\",\"opacity\":1,\"orientation\":\"v\",\"showlegend\":false,\"type\":\"scatter\",\"x\":[1.0,305.99,610.98,915.97,1220.96,1525.95,1830.94,2135.9300000000003,2440.92,2745.91,3050.9,3355.8900000000003,3660.88,3965.87,4270.860000000001,4575.85,4880.84,5185.83,5490.82,5795.81,6100.8,6405.79,6710.780000000001,7015.77,7320.76,7625.75,7930.74,8235.73,8540.720000000001,8845.710000000001,9150.7,9455.69,9760.68,10065.67,10370.66,10675.65,10980.64,11285.630000000001,11590.62,11895.61,12200.6,12505.59,12810.58,13115.57,13420.560000000001,13725.550000000001,14030.54,14335.53,14640.52,14945.51,15250.5,15555.49,15860.48,16165.470000000001,16470.46,16775.45,17080.440000000002,17385.43,17690.420000000002,17995.41,18300.4,18605.39,18910.38,19215.37,19520.36,19825.350000000002,20130.34,20435.33,20740.32,21045.31,21350.3,21655.29,21960.28,22265.27,22570.260000000002,22875.25,23180.24,23485.23,23790.22,24095.21,24400.2,24705.190000000002,25010.18,25315.170000000002,25620.16,25925.15,26230.14,26535.13,26840.120000000003,27145.11,27450.100000000002,27755.09,28060.08,28365.07,28670.06,28975.05,29280.04,29585.030000000002,29890.02,30195.010000000002,30500.0],\"xaxis\":\"x\",\"y\":[0.08306056143822994,0.07748957566902397,0.07918334845940624,0.08090050645731454,0.08152575730770324,0.0817065952379864,0.08171942247583115,0.08179182324122243,0.08179969143289273,0.08184398799736389,0.08185326508969477,0.08188871773454051,0.08187680293090899,0.08184987985398592,0.08186444758182615,0.08185813445051301,0.08189146778384634,0.08190679898042755,0.08194828046190902,0.08195661379524237,0.08195661379524237,0.08198978046190902,0.08198978046190902,0.0820064471285757,0.0820314471285757,0.0820314471285757,0.08213093951436252,0.08213093951436252,0.08215593951436251,0.08220593951436252,0.08223093951436251,0.08241427284769583,0.08241427284769583,0.08241427284769583,0.0824559395143625,0.0824559395143625,0.08247260618102918,0.08247260618102918,0.08247260618102918,0.08247260618102918,0.08247260618102918,0.08247260618102918,0.08247260618102918,0.08247260618102918,0.08247260618102918,0.08247260618102918,0.08247260618102918,0.08247260618102918,0.08247260618102918,0.08247260618102918,0.08247260618102918,0.08247260618102918,0.08247260618102918,0.08247260618102918,0.08247260618102918,0.08247260618102918,0.08247260618102918,0.08247260618102918,0.08247260618102918,0.08247260618102918,0.08247260618102918,0.08247260618102918,0.08247260618102918,0.08247260618102918,0.08247260618102918,0.08247260618102918,0.08247260618102918,0.08247260618102918,0.08247260618102918,0.08247260618102918,0.08247260618102918,0.08247260618102918,0.08247260618102918,0.08247260618102918,0.08247260618102918,0.08247260618102918,0.08247260618102918,0.08247260618102918,0.08247260618102918,0.08247260618102918,0.08247260618102918,0.08247260618102918,0.08247260618102918,0.08247260618102918,0.08247260618102918,0.08247260618102918,0.08247260618102918,0.08247260618102918,0.08247260618102918,0.08247260618102918,0.08247260618102918,0.08247260618102918,0.08247260618102918,0.08247260618102918,0.08247260618102918,0.08247260618102918,0.08247260618102918,0.08247260618102918,0.08247260618102918,0.08247260618102918,0.08247260618102918],\"yaxis\":\"y\"},{\"customdata\":[[0.07787879013332563,\"PumpItUp RF Pipeline\",\"amt\"],[0.07787879013332563,\"PumpItUp RF Pipeline\",\"amt\"],[0.07787879013332563,\"PumpItUp RF Pipeline\",\"amt\"],[0.07787879013332563,\"PumpItUp RF Pipeline\",\"amt\"],[0.07787879013332563,\"PumpItUp RF Pipeline\",\"amt\"],[0.07787879013332563,\"PumpItUp RF Pipeline\",\"amt\"],[0.07787879013332563,\"PumpItUp RF Pipeline\",\"amt\"],[0.07787879013332563,\"PumpItUp RF Pipeline\",\"amt\"],[0.07787879013332563,\"PumpItUp RF Pipeline\",\"amt\"],[0.07787879013332563,\"PumpItUp RF Pipeline\",\"amt\"],[0.07787879013332563,\"PumpItUp RF Pipeline\",\"amt\"],[0.07787879013332563,\"PumpItUp RF Pipeline\",\"amt\"],[0.07787879013332563,\"PumpItUp RF Pipeline\",\"amt\"],[0.07787879013332563,\"PumpItUp RF Pipeline\",\"amt\"],[0.07787879013332563,\"PumpItUp RF Pipeline\",\"amt\"],[0.07787879013332563,\"PumpItUp RF Pipeline\",\"amt\"],[0.07787879013332563,\"PumpItUp RF Pipeline\",\"amt\"],[0.07787879013332563,\"PumpItUp RF Pipeline\",\"amt\"],[0.07787879013332563,\"PumpItUp RF Pipeline\",\"amt\"],[0.07787879013332563,\"PumpItUp RF Pipeline\",\"amt\"],[0.07787879013332563,\"PumpItUp RF Pipeline\",\"amt\"],[0.07787879013332563,\"PumpItUp RF Pipeline\",\"amt\"],[0.07787879013332563,\"PumpItUp RF Pipeline\",\"amt\"],[0.07787879013332563,\"PumpItUp RF Pipeline\",\"amt\"],[0.07787879013332563,\"PumpItUp RF Pipeline\",\"amt\"],[0.07787879013332563,\"PumpItUp RF Pipeline\",\"amt\"],[0.07787879013332563,\"PumpItUp RF Pipeline\",\"amt\"],[0.07787879013332563,\"PumpItUp RF Pipeline\",\"amt\"],[0.07787879013332563,\"PumpItUp RF Pipeline\",\"amt\"],[0.07787879013332563,\"PumpItUp RF Pipeline\",\"amt\"],[0.07787879013332563,\"PumpItUp RF Pipeline\",\"amt\"],[0.07787879013332563,\"PumpItUp RF Pipeline\",\"amt\"],[0.07787879013332563,\"PumpItUp RF Pipeline\",\"amt\"],[0.07787879013332563,\"PumpItUp RF Pipeline\",\"amt\"],[0.07787879013332563,\"PumpItUp RF Pipeline\",\"amt\"],[0.07787879013332563,\"PumpItUp RF Pipeline\",\"amt\"],[0.07787879013332563,\"PumpItUp RF Pipeline\",\"amt\"],[0.07787879013332563,\"PumpItUp RF Pipeline\",\"amt\"],[0.07787879013332563,\"PumpItUp RF Pipeline\",\"amt\"],[0.07787879013332563,\"PumpItUp RF Pipeline\",\"amt\"],[0.07787879013332563,\"PumpItUp RF Pipeline\",\"amt\"],[0.07787879013332563,\"PumpItUp RF Pipeline\",\"amt\"],[0.07787879013332563,\"PumpItUp RF Pipeline\",\"amt\"],[0.07787879013332563,\"PumpItUp RF Pipeline\",\"amt\"],[0.07787879013332563,\"PumpItUp RF Pipeline\",\"amt\"],[0.07787879013332563,\"PumpItUp RF Pipeline\",\"amt\"],[0.07787879013332563,\"PumpItUp RF Pipeline\",\"amt\"],[0.07787879013332563,\"PumpItUp RF Pipeline\",\"amt\"],[0.07787879013332563,\"PumpItUp RF Pipeline\",\"amt\"],[0.07787879013332563,\"PumpItUp RF Pipeline\",\"amt\"],[0.07787879013332563,\"PumpItUp RF Pipeline\",\"amt\"],[0.07787879013332563,\"PumpItUp RF Pipeline\",\"amt\"],[0.07787879013332563,\"PumpItUp RF Pipeline\",\"amt\"],[0.07787879013332563,\"PumpItUp RF Pipeline\",\"amt\"],[0.07787879013332563,\"PumpItUp RF Pipeline\",\"amt\"],[0.07787879013332563,\"PumpItUp RF Pipeline\",\"amt\"],[0.07787879013332563,\"PumpItUp RF Pipeline\",\"amt\"],[0.07787879013332563,\"PumpItUp RF Pipeline\",\"amt\"],[0.07787879013332563,\"PumpItUp RF Pipeline\",\"amt\"],[0.07787879013332563,\"PumpItUp RF Pipeline\",\"amt\"],[0.07787879013332563,\"PumpItUp RF Pipeline\",\"amt\"],[0.07787879013332563,\"PumpItUp RF Pipeline\",\"amt\"],[0.07787879013332563,\"PumpItUp RF Pipeline\",\"amt\"],[0.07787879013332563,\"PumpItUp RF Pipeline\",\"amt\"],[0.07787879013332563,\"PumpItUp RF Pipeline\",\"amt\"],[0.07787879013332563,\"PumpItUp RF Pipeline\",\"amt\"],[0.07787879013332563,\"PumpItUp RF Pipeline\",\"amt\"],[0.07787879013332563,\"PumpItUp RF Pipeline\",\"amt\"],[0.07787879013332563,\"PumpItUp RF Pipeline\",\"amt\"],[0.07787879013332563,\"PumpItUp RF Pipeline\",\"amt\"],[0.07787879013332563,\"PumpItUp RF Pipeline\",\"amt\"],[0.07787879013332563,\"PumpItUp RF Pipeline\",\"amt\"],[0.07787879013332563,\"PumpItUp RF Pipeline\",\"amt\"],[0.07787879013332563,\"PumpItUp RF Pipeline\",\"amt\"],[0.07787879013332563,\"PumpItUp RF Pipeline\",\"amt\"],[0.07787879013332563,\"PumpItUp RF Pipeline\",\"amt\"],[0.07787879013332563,\"PumpItUp RF Pipeline\",\"amt\"],[0.07787879013332563,\"PumpItUp RF Pipeline\",\"amt\"],[0.07787879013332563,\"PumpItUp RF Pipeline\",\"amt\"],[0.07787879013332563,\"PumpItUp RF Pipeline\",\"amt\"],[0.07787879013332563,\"PumpItUp RF Pipeline\",\"amt\"],[0.07787879013332563,\"PumpItUp RF Pipeline\",\"amt\"],[0.07787879013332563,\"PumpItUp RF Pipeline\",\"amt\"],[0.07787879013332563,\"PumpItUp RF Pipeline\",\"amt\"],[0.07787879013332563,\"PumpItUp RF Pipeline\",\"amt\"],[0.07787879013332563,\"PumpItUp RF Pipeline\",\"amt\"],[0.07787879013332563,\"PumpItUp RF Pipeline\",\"amt\"],[0.07787879013332563,\"PumpItUp RF Pipeline\",\"amt\"],[0.07787879013332563,\"PumpItUp RF Pipeline\",\"amt\"],[0.07787879013332563,\"PumpItUp RF Pipeline\",\"amt\"],[0.07787879013332563,\"PumpItUp RF Pipeline\",\"amt\"],[0.07787879013332563,\"PumpItUp RF Pipeline\",\"amt\"],[0.07787879013332563,\"PumpItUp RF Pipeline\",\"amt\"],[0.07787879013332563,\"PumpItUp RF Pipeline\",\"amt\"],[0.07787879013332563,\"PumpItUp RF Pipeline\",\"amt\"],[0.07787879013332563,\"PumpItUp RF Pipeline\",\"amt\"],[0.07787879013332563,\"PumpItUp RF Pipeline\",\"amt\"],[0.07787879013332563,\"PumpItUp RF Pipeline\",\"amt\"],[0.07787879013332563,\"PumpItUp RF Pipeline\",\"amt\"],[0.07787879013332563,\"PumpItUp RF Pipeline\",\"amt\"],[0.07787879013332563,\"PumpItUp RF Pipeline\",\"amt\"]],\"hovertemplate\":\"<b>%{hovertext}</b><br><br>prediction=%{y:.3f}<br>mean_prediction=%{customdata[0]:.3f}<extra></extra>\",\"hovertext\":[\"PumpItUp RF Pipeline\",\"PumpItUp RF Pipeline\",\"PumpItUp RF Pipeline\",\"PumpItUp RF Pipeline\",\"PumpItUp RF Pipeline\",\"PumpItUp RF Pipeline\",\"PumpItUp RF Pipeline\",\"PumpItUp RF Pipeline\",\"PumpItUp RF Pipeline\",\"PumpItUp RF Pipeline\",\"PumpItUp RF Pipeline\",\"PumpItUp RF Pipeline\",\"PumpItUp RF Pipeline\",\"PumpItUp RF Pipeline\",\"PumpItUp RF Pipeline\",\"PumpItUp RF Pipeline\",\"PumpItUp RF Pipeline\",\"PumpItUp RF Pipeline\",\"PumpItUp RF Pipeline\",\"PumpItUp RF Pipeline\",\"PumpItUp RF Pipeline\",\"PumpItUp RF Pipeline\",\"PumpItUp RF Pipeline\",\"PumpItUp RF Pipeline\",\"PumpItUp RF Pipeline\",\"PumpItUp RF Pipeline\",\"PumpItUp RF Pipeline\",\"PumpItUp RF Pipeline\",\"PumpItUp RF Pipeline\",\"PumpItUp RF Pipeline\",\"PumpItUp RF Pipeline\",\"PumpItUp RF Pipeline\",\"PumpItUp RF Pipeline\",\"PumpItUp RF Pipeline\",\"PumpItUp RF Pipeline\",\"PumpItUp RF Pipeline\",\"PumpItUp RF Pipeline\",\"PumpItUp RF Pipeline\",\"PumpItUp RF Pipeline\",\"PumpItUp RF Pipeline\",\"PumpItUp RF Pipeline\",\"PumpItUp RF Pipeline\",\"PumpItUp RF Pipeline\",\"PumpItUp RF Pipeline\",\"PumpItUp RF Pipeline\",\"PumpItUp RF Pipeline\",\"PumpItUp RF Pipeline\",\"PumpItUp RF Pipeline\",\"PumpItUp RF Pipeline\",\"PumpItUp RF Pipeline\",\"PumpItUp RF Pipeline\",\"PumpItUp RF Pipeline\",\"PumpItUp RF Pipeline\",\"PumpItUp RF Pipeline\",\"PumpItUp RF Pipeline\",\"PumpItUp RF Pipeline\",\"PumpItUp RF Pipeline\",\"PumpItUp RF Pipeline\",\"PumpItUp RF Pipeline\",\"PumpItUp RF Pipeline\",\"PumpItUp RF Pipeline\",\"PumpItUp RF Pipeline\",\"PumpItUp RF Pipeline\",\"PumpItUp RF Pipeline\",\"PumpItUp RF Pipeline\",\"PumpItUp RF Pipeline\",\"PumpItUp RF Pipeline\",\"PumpItUp RF Pipeline\",\"PumpItUp RF Pipeline\",\"PumpItUp RF Pipeline\",\"PumpItUp RF Pipeline\",\"PumpItUp RF Pipeline\",\"PumpItUp RF Pipeline\",\"PumpItUp RF Pipeline\",\"PumpItUp RF Pipeline\",\"PumpItUp RF Pipeline\",\"PumpItUp RF Pipeline\",\"PumpItUp RF Pipeline\",\"PumpItUp RF Pipeline\",\"PumpItUp RF Pipeline\",\"PumpItUp RF Pipeline\",\"PumpItUp RF Pipeline\",\"PumpItUp RF Pipeline\",\"PumpItUp RF Pipeline\",\"PumpItUp RF Pipeline\",\"PumpItUp RF Pipeline\",\"PumpItUp RF Pipeline\",\"PumpItUp RF Pipeline\",\"PumpItUp RF Pipeline\",\"PumpItUp RF Pipeline\",\"PumpItUp RF Pipeline\",\"PumpItUp RF Pipeline\",\"PumpItUp RF Pipeline\",\"PumpItUp RF Pipeline\",\"PumpItUp RF Pipeline\",\"PumpItUp RF Pipeline\",\"PumpItUp RF Pipeline\",\"PumpItUp RF Pipeline\",\"PumpItUp RF Pipeline\",\"PumpItUp RF Pipeline\",\"PumpItUp RF Pipeline\"],\"legendgroup\":\"PumpItUp RF Pipeline\",\"line\":{\"color\":\"#46bac2\",\"dash\":\"solid\",\"width\":2},\"marker\":{\"symbol\":\"circle\"},\"mode\":\"lines\",\"name\":\"PumpItUp RF Pipeline\",\"opacity\":1,\"orientation\":\"v\",\"showlegend\":false,\"type\":\"scatter\",\"x\":[0.0,0.12765691290604372,0.25531382581208745,0.38297073871813114,0.5106276516241749,0.6382845645302186,0.7659414774362623,0.893598390342306,1.0212553032483498,1.1489122161543934,1.2765691290604373,1.404226041966481,1.5318829548725246,1.6595398677785684,1.787196780684612,1.914853693590656,2.0425106064966996,2.170167519402743,2.297824432308787,2.425481345214831,2.5531382581208746,2.6807951710269182,2.808452083932962,2.9361089968390055,3.063765909745049,3.1914228226510932,3.319079735557137,3.4467366484631805,3.574393561369224,3.702050474275268,3.829707387181312,3.9573643000873555,4.085021212993399,4.212678125899443,4.340335038805486,4.4679919517115305,4.595648864617574,4.723305777523618,4.850962690429662,4.978619603335705,5.106276516241749,5.233933429147792,5.3615903420538364,5.4892472549598805,5.616904167865924,5.744561080771968,5.872217993678011,5.999874906584055,6.127531819490098,6.255188732396142,6.3828456453021865,6.51050255820823,6.638159471114274,6.765816384020317,6.893473296926361,7.021130209832405,7.148787122738448,7.276444035644492,7.404100948550536,7.53175786145658,7.659414774362624,7.787071687268667,7.914728600174711,8.042385513080754,8.170042425986798,8.297699338892842,8.425356251798886,8.553013164704929,8.680670077610973,8.808326990517017,8.935983903423061,9.063640816329105,9.191297729235147,9.318954642141192,9.446611555047236,9.57426846795328,9.701925380859324,9.829582293765366,9.95723920667141,10.084896119577454,10.212553032483498,10.340209945389542,10.467866858295585,10.595523771201629,10.723180684107673,10.850837597013717,10.978494509919761,11.106151422825803,11.233808335731847,11.361465248637892,11.489122161543936,11.61677907444998,11.744435987356022,11.872092900262066,11.99974981316811,12.127406726074154,12.255063638980197,12.38272055188624,12.510377464792285,12.638034377698329,12.765691290604371],\"xaxis\":\"x2\",\"y\":[0.08096461838415361,0.08086960988897571,0.08083614844800273,0.08082573178133606,0.08082573178133606,0.08100907782697746,0.08053028444838743,0.08053028444838743,0.07907531782281332,0.0790856992884282,0.07908617016938746,0.07909299121909631,0.07912426481122059,0.0791190806799561,0.07913132429426005,0.07908210687715449,0.07916675607207782,0.07912158212790037,0.07913832833291096,0.07919555576059083,0.07928264368735875,0.07925056420574575,0.07891088882970072,0.07890957288607965,0.07889961388531688,0.07896502844193892,0.0786895139318753,0.07858676920446657,0.07838992594780798,0.07801992327792584,0.07810410550952455,0.07816848272860746,0.0782181411207674,0.07820842971312869,0.07872413683413734,0.07875232719915558,0.07874862349545188,0.07878991419531066,0.0788031055872064,0.07889180701306014,0.07894488625545491,0.07889012602198642,0.07884935596142868,0.07896638433704764,0.07887746678241356,0.07886007704748162,0.0789646594183447,0.07909081149449289,0.0791488910870585,0.07919637972152886,0.0790425029223931,0.07903727594153158,0.07875392625522634,0.0788995266328777,0.07889410996621103,0.07885837473424467,0.07897251774697168,0.07912610759226543,0.07941035506128591,0.07974297699080757,0.07980195016051528,0.07991114836086761,0.07995963636470592,0.08042482130972536,0.08090440039817358,0.08121466275435922,0.08145198317251041,0.08150783306393451,0.08173818255404013,0.08182524934491774,0.08192179687885184,0.08190385624403775,0.08189527038545188,0.08189527038545188,0.08192408105170765,0.08192408105170765,0.08194908105170763,0.08195536987158342,0.08200144394565748,0.08212004479508818,0.08212004479508818,0.08212004479508818,0.08256171146175485,0.08260252482413684,0.08260252482413684,0.08260252482413684,0.08260252482413684,0.08260252482413684,0.08262752482413685,0.08262752482413685,0.08262752482413685,0.08262752482413685,0.08262752482413685,0.08262752482413685,0.08262752482413685,0.08262752482413685,0.08262752482413685,0.08262752482413685,0.08262752482413685,0.08262752482413685,0.08262752482413685],\"yaxis\":\"y2\"}],                        {\"annotations\":[{\"font\":{\"size\":13},\"showarrow\":false,\"text\":\"population\",\"x\":0.2375,\"xanchor\":\"center\",\"xref\":\"paper\",\"y\":0.26666666666666666,\"yanchor\":\"bottom\",\"yref\":\"paper\"},{\"font\":{\"size\":13},\"showarrow\":false,\"text\":\"amt\",\"x\":0.7625,\"xanchor\":\"center\",\"xref\":\"paper\",\"y\":0.26666666666666666,\"yanchor\":\"bottom\",\"yref\":\"paper\"},{\"font\":{\"size\":13},\"showarrow\":false,\"text\":\"latitude\",\"x\":0.2375,\"xanchor\":\"center\",\"xref\":\"paper\",\"y\":0.6333333333333333,\"yanchor\":\"bottom\",\"yref\":\"paper\"},{\"font\":{\"size\":13},\"showarrow\":false,\"text\":\"construction_year\",\"x\":0.7625,\"xanchor\":\"center\",\"xref\":\"paper\",\"y\":0.6333333333333333,\"yanchor\":\"bottom\",\"yref\":\"paper\"},{\"font\":{\"size\":13},\"showarrow\":false,\"text\":\"gps_height\",\"x\":0.2375,\"xanchor\":\"center\",\"xref\":\"paper\",\"y\":1.0,\"yanchor\":\"bottom\",\"yref\":\"paper\"},{\"font\":{\"size\":13},\"showarrow\":false,\"text\":\"longitude\",\"x\":0.7625,\"xanchor\":\"center\",\"xref\":\"paper\",\"y\":1.0,\"yanchor\":\"bottom\",\"yref\":\"paper\"},{\"font\":{\"size\":13},\"showarrow\":false,\"text\":\"prediction\",\"textangle\":-90,\"x\":-0.07,\"xref\":\"paper\",\"y\":0.5,\"yref\":\"paper\"}],\"font\":{\"color\":\"#371ea3\"},\"height\":1169,\"hovermode\":\"x unified\",\"legend\":{\"font\":{\"size\":11},\"itemsizing\":\"constant\",\"orientation\":\"h\",\"title\":{\"font\":{\"size\":12},\"text\":\"label\"},\"tracegroupgap\":0,\"x\":1,\"xanchor\":\"right\",\"y\":1.0256629597946962,\"yanchor\":\"bottom\"},\"margin\":{\"b\":71,\"r\":30,\"t\":78},\"template\":{\"data\":{\"scatter\":[{\"type\":\"scatter\"}]}},\"title\":{\"font\":{\"size\":16},\"text\":\"Aggregated Profiles\",\"x\":0.15},\"xaxis\":{\"anchor\":\"y\",\"automargin\":true,\"domain\":[0.0,0.475],\"fixedrange\":true,\"gridwidth\":2,\"showticklabels\":true,\"tickcolor\":\"white\",\"ticklen\":3,\"ticks\":\"outside\",\"title\":{\"text\":\"\"},\"type\":\"linear\",\"zeroline\":false},\"xaxis2\":{\"anchor\":\"y2\",\"automargin\":true,\"domain\":[0.525,1.0],\"fixedrange\":true,\"gridwidth\":2,\"showticklabels\":true,\"tickcolor\":\"white\",\"ticklen\":3,\"ticks\":\"outside\",\"title\":{\"text\":\"\"},\"type\":\"linear\",\"zeroline\":false},\"xaxis3\":{\"anchor\":\"y3\",\"automargin\":true,\"domain\":[0.0,0.475],\"fixedrange\":true,\"gridwidth\":2,\"showticklabels\":true,\"tickcolor\":\"white\",\"ticklen\":3,\"ticks\":\"outside\",\"title\":{\"text\":\"\"},\"type\":\"linear\",\"zeroline\":false},\"xaxis4\":{\"anchor\":\"y4\",\"automargin\":true,\"domain\":[0.525,1.0],\"fixedrange\":true,\"gridwidth\":2,\"showticklabels\":true,\"tickcolor\":\"white\",\"ticklen\":3,\"ticks\":\"outside\",\"title\":{\"text\":\"\"},\"type\":\"linear\",\"zeroline\":false},\"xaxis5\":{\"anchor\":\"y5\",\"automargin\":true,\"domain\":[0.0,0.475],\"fixedrange\":true,\"gridwidth\":2,\"showticklabels\":true,\"tickcolor\":\"white\",\"ticklen\":3,\"ticks\":\"outside\",\"title\":{\"text\":\"\"},\"type\":\"linear\",\"zeroline\":false},\"xaxis6\":{\"anchor\":\"y6\",\"automargin\":true,\"domain\":[0.525,1.0],\"fixedrange\":true,\"gridwidth\":2,\"showticklabels\":true,\"tickcolor\":\"white\",\"ticklen\":3,\"ticks\":\"outside\",\"title\":{\"text\":\"\"},\"type\":\"linear\",\"zeroline\":false},\"yaxis\":{\"anchor\":\"x\",\"automargin\":true,\"domain\":[0.0,0.26666666666666666],\"fixedrange\":true,\"gridwidth\":2,\"range\":[0.07171893919052355,0.10395804576718608],\"tickcolor\":\"white\",\"ticklen\":3,\"ticks\":\"outside\",\"title\":{\"text\":\"\"},\"type\":\"linear\",\"zeroline\":false},\"yaxis2\":{\"anchor\":\"x2\",\"automargin\":true,\"domain\":[0.0,0.26666666666666666],\"fixedrange\":true,\"gridwidth\":2,\"matches\":\"y\",\"range\":[0.07171893919052355,0.10395804576718608],\"showticklabels\":false,\"tickcolor\":\"white\",\"ticklen\":3,\"ticks\":\"outside\",\"title\":{\"text\":\"\"},\"type\":\"linear\",\"zeroline\":false},\"yaxis3\":{\"anchor\":\"x3\",\"automargin\":true,\"domain\":[0.36666666666666664,0.6333333333333333],\"fixedrange\":true,\"gridwidth\":2,\"matches\":\"y\",\"range\":[0.07171893919052355,0.10395804576718608],\"tickcolor\":\"white\",\"ticklen\":3,\"ticks\":\"outside\",\"title\":{\"text\":\"\"},\"type\":\"linear\",\"zeroline\":false},\"yaxis4\":{\"anchor\":\"x4\",\"automargin\":true,\"domain\":[0.36666666666666664,0.6333333333333333],\"fixedrange\":true,\"gridwidth\":2,\"matches\":\"y\",\"range\":[0.07171893919052355,0.10395804576718608],\"showticklabels\":false,\"tickcolor\":\"white\",\"ticklen\":3,\"ticks\":\"outside\",\"title\":{\"text\":\"\"},\"type\":\"linear\",\"zeroline\":false},\"yaxis5\":{\"anchor\":\"x5\",\"automargin\":true,\"domain\":[0.7333333333333333,1.0],\"fixedrange\":true,\"gridwidth\":2,\"matches\":\"y\",\"range\":[0.07171893919052355,0.10395804576718608],\"tickcolor\":\"white\",\"ticklen\":3,\"ticks\":\"outside\",\"title\":{\"text\":\"\"},\"type\":\"linear\",\"zeroline\":false},\"yaxis6\":{\"anchor\":\"x6\",\"automargin\":true,\"domain\":[0.7333333333333333,1.0],\"fixedrange\":true,\"gridwidth\":2,\"matches\":\"y\",\"range\":[0.07171893919052355,0.10395804576718608],\"showticklabels\":false,\"tickcolor\":\"white\",\"ticklen\":3,\"ticks\":\"outside\",\"title\":{\"text\":\"\"},\"type\":\"linear\",\"zeroline\":false}},                        {\"displaylogo\": false, \"staticPlot\": false, \"toImageButtonOptions\": {\"height\": null, \"width\": null}, \"modeBarButtonsToRemove\": [\"sendDataToCloud\", \"lasso2d\", \"autoScale2d\", \"select2d\", \"zoom2d\", \"pan2d\", \"zoomIn2d\", \"zoomOut2d\", \"resetScale2d\", \"toggleSpikelines\", \"hoverCompareCartesian\", \"hoverClosestCartesian\"], \"responsive\": true}                    ).then(function(){\n",
              "                            \n",
              "var gd = document.getElementById('67b8a023-27bb-424e-ab8c-95e50c6a6a2b');\n",
              "var x = new MutationObserver(function (mutations, observer) {{\n",
              "        var display = window.getComputedStyle(gd).display;\n",
              "        if (!display || display === 'none') {{\n",
              "            console.log([gd, 'removed!']);\n",
              "            Plotly.purge(gd);\n",
              "            observer.disconnect();\n",
              "        }}\n",
              "}});\n",
              "\n",
              "// Listen for the removal of the full notebook cells\n",
              "var notebookContainer = gd.closest('#notebook-container');\n",
              "if (notebookContainer) {{\n",
              "    x.observe(notebookContainer, {childList: true});\n",
              "}}\n",
              "\n",
              "// Listen for the clearing of the current output cell\n",
              "var outputEl = gd.closest('.output');\n",
              "if (outputEl) {{\n",
              "    x.observe(outputEl, {childList: true});\n",
              "}}\n",
              "\n",
              "                        })                };                            </script>        </div>\n",
              "</body>\n",
              "</html>"
            ]
          },
          "metadata": {}
        }
      ]
    },
    {
      "cell_type": "markdown",
      "metadata": {
        "id": "2kBH1mphr1_o"
      },
      "source": [
        "#**Submission**"
      ]
    },
    {
      "cell_type": "code",
      "metadata": {
        "id": "uigVwuznr1gH"
      },
      "source": [
        "submission_df = pd.read_csv(\"SubmissionFormat.csv\", \n",
        "                            index_col=\"id\")"
      ],
      "execution_count": null,
      "outputs": []
    },
    {
      "cell_type": "code",
      "metadata": {
        "id": "nh4xUYFOtKwX"
      },
      "source": [
        "# Make sure we have the rows in the same order\n",
        "np.testing.assert_array_equal(test_df.index.values, \n",
        "                              submission_df.index.values)\n",
        "\n",
        "# Save predictions to submission data frame\n",
        "submission_df[\"status_group\"] = predict"
      ],
      "execution_count": null,
      "outputs": []
    },
    {
      "cell_type": "code",
      "metadata": {
        "id": "UvBq5yR6tS-m"
      },
      "source": [
        "submission_df.to_csv('submission_RF.csv', index=True)"
      ],
      "execution_count": null,
      "outputs": []
    },
    {
      "cell_type": "code",
      "metadata": {
        "colab": {
          "base_uri": "https://localhost:8080/",
          "height": 17
        },
        "id": "vEmAq2zytTxF",
        "outputId": "87130e11-e1e7-49d5-f3c7-92c07c5f2c84"
      },
      "source": [
        "from google.colab import files\n",
        "files.download('submission_RF.csv')"
      ],
      "execution_count": null,
      "outputs": [
        {
          "output_type": "display_data",
          "data": {
            "application/javascript": [
              "\n",
              "    async function download(id, filename, size) {\n",
              "      if (!google.colab.kernel.accessAllowed) {\n",
              "        return;\n",
              "      }\n",
              "      const div = document.createElement('div');\n",
              "      const label = document.createElement('label');\n",
              "      label.textContent = `Downloading \"${filename}\": `;\n",
              "      div.appendChild(label);\n",
              "      const progress = document.createElement('progress');\n",
              "      progress.max = size;\n",
              "      div.appendChild(progress);\n",
              "      document.body.appendChild(div);\n",
              "\n",
              "      const buffers = [];\n",
              "      let downloaded = 0;\n",
              "\n",
              "      const channel = await google.colab.kernel.comms.open(id);\n",
              "      // Send a message to notify the kernel that we're ready.\n",
              "      channel.send({})\n",
              "\n",
              "      for await (const message of channel.messages) {\n",
              "        // Send a message to notify the kernel that we're ready.\n",
              "        channel.send({})\n",
              "        if (message.buffers) {\n",
              "          for (const buffer of message.buffers) {\n",
              "            buffers.push(buffer);\n",
              "            downloaded += buffer.byteLength;\n",
              "            progress.value = downloaded;\n",
              "          }\n",
              "        }\n",
              "      }\n",
              "      const blob = new Blob(buffers, {type: 'application/binary'});\n",
              "      const a = document.createElement('a');\n",
              "      a.href = window.URL.createObjectURL(blob);\n",
              "      a.download = filename;\n",
              "      div.appendChild(a);\n",
              "      a.click();\n",
              "      div.remove();\n",
              "    }\n",
              "  "
            ],
            "text/plain": [
              "<IPython.core.display.Javascript object>"
            ]
          },
          "metadata": {}
        },
        {
          "output_type": "display_data",
          "data": {
            "application/javascript": [
              "download(\"download_4d053fb4-df3d-4d20-9342-1ea8976e593f\", \"RF5.csv\", 277529)"
            ],
            "text/plain": [
              "<IPython.core.display.Javascript object>"
            ]
          },
          "metadata": {}
        }
      ]
    }
  ]
}